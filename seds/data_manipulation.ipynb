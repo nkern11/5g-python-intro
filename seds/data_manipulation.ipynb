{
 "cells": [
  {
   "cell_type": "markdown",
   "metadata": {},
   "source": [
    "# Software Engineering for Data Scientists\n",
    "\n",
    "## *Sophisticated Data Manipulation"
   ]
  },
  {
   "cell_type": "markdown",
   "metadata": {},
   "source": [
    "## 1. Python's Data Science Ecosystem\n",
    "\n",
    "With this simple Python computation experience under our belt, we can now move to doing some more interesting analysis."
   ]
  },
  {
   "cell_type": "markdown",
   "metadata": {},
   "source": [
    "### Python's Data Science Ecosystem\n",
    "\n",
    "In addition to Python's built-in modules like the ``math`` module we explored above, there are also many often-used third-party modules that are core tools for doing data science with Python.\n",
    "Some of the most important ones are:\n",
    "\n",
    "#### [``numpy``](http://numpy.org/): Numerical Python\n",
    "\n",
    "Numpy is short for \"Numerical Python\", and contains tools for efficient manipulation of arrays of data.\n",
    "If you have used other computational tools like IDL or MatLab, Numpy should feel very familiar.\n",
    "\n",
    "#### [``scipy``](http://scipy.org/): Scientific Python\n",
    "\n",
    "Scipy is short for \"Scientific Python\", and contains a wide range of functionality for accomplishing common scientific tasks, such as optimization/minimization, numerical integration, interpolation, and much more.\n",
    "We will not look closely at Scipy today, but we will use its functionality later in the course.\n",
    "\n",
    "#### [``pandas``](http://pandas.pydata.org/): Labeled Data Manipulation in Python\n",
    "\n",
    "Pandas is short for \"Panel Data\", and contains tools for doing more advanced manipulation of labeled data in Python, in particular with a columnar data structure called a *Data Frame*.\n",
    "If you've used the [R](http://rstats.org) statistical language (and in particular the so-called \"Hadley Stack\"), much of the functionality in Pandas should feel very familiar.\n",
    "\n",
    "#### [``matplotlib``](http://matplotlib.org): Visualization in Python\n",
    "\n",
    "Matplotlib started out as a Matlab plotting clone in Python, and has grown from there in the 15 years since its creation. It is the most popular data visualization tool currently in the Python data world (though other recent packages are starting to encroach on its monopoly)."
   ]
  },
  {
   "cell_type": "markdown",
   "metadata": {},
   "source": [
    "# 2. Installation"
   ]
  },
  {
   "cell_type": "markdown",
   "metadata": {},
   "source": [
    "### Installing Pandas & friends\n",
    "\n",
    "Because the above packages are not included in Python itself, you need to install them separately. While it is possible to install these from source (compiling the C and/or Fortran code that does the heavy lifting under the hood) it is much easier to use a package manager like ``conda``. All it takes is to run\n",
    "\n",
    "```\n",
    "$ conda install numpy scipy pandas matplotlib\n",
    "```\n",
    "\n",
    "and (so long as your conda setup is working) the packages will be downloaded and installed on your system."
   ]
  },
  {
   "cell_type": "markdown",
   "metadata": {},
   "source": [
    "# 3. Arrays and slicing in Numpy"
   ]
  },
  {
   "cell_type": "code",
   "execution_count": 1,
   "metadata": {},
   "outputs": [],
   "source": [
    "import numpy as np"
   ]
  },
  {
   "cell_type": "markdown",
   "metadata": {},
   "source": [
    "### Lists in native Python\n",
    "\n",
    "Let's create a **list**, a native Python object that we've used earlier today."
   ]
  },
  {
   "cell_type": "code",
   "execution_count": 2,
   "metadata": {},
   "outputs": [
    {
     "data": {
      "text/plain": [
       "[2, 5, 7, 8]"
      ]
     },
     "execution_count": 2,
     "metadata": {},
     "output_type": "execute_result"
    }
   ],
   "source": [
    "my_list = [2, 5, 7, 8]\n",
    "my_list"
   ]
  },
  {
   "cell_type": "code",
   "execution_count": 3,
   "metadata": {},
   "outputs": [
    {
     "data": {
      "text/plain": [
       "list"
      ]
     },
     "execution_count": 3,
     "metadata": {},
     "output_type": "execute_result"
    }
   ],
   "source": [
    "type(my_list)"
   ]
  },
  {
   "cell_type": "markdown",
   "metadata": {},
   "source": [
    "This list is one-dimensional, let's make it multidimensional!"
   ]
  },
  {
   "cell_type": "code",
   "execution_count": 4,
   "metadata": {},
   "outputs": [],
   "source": [
    "multi_list = [[1, 2, 3], [4, 5, 6]]"
   ]
  },
  {
   "cell_type": "markdown",
   "metadata": {},
   "source": [
    "How do we access the *6* element in the second row, third column for native Python list?"
   ]
  },
  {
   "cell_type": "code",
   "execution_count": 5,
   "metadata": {},
   "outputs": [],
   "source": [
    "#"
   ]
  },
  {
   "cell_type": "markdown",
   "metadata": {},
   "source": [
    "### Converting to numpy Arrays"
   ]
  },
  {
   "cell_type": "code",
   "execution_count": 6,
   "metadata": {},
   "outputs": [],
   "source": [
    "my_array = np.array(my_list)"
   ]
  },
  {
   "cell_type": "code",
   "execution_count": 7,
   "metadata": {},
   "outputs": [
    {
     "data": {
      "text/plain": [
       "numpy.ndarray"
      ]
     },
     "execution_count": 7,
     "metadata": {},
     "output_type": "execute_result"
    }
   ],
   "source": [
    "type(my_array)"
   ]
  },
  {
   "cell_type": "code",
   "execution_count": 8,
   "metadata": {},
   "outputs": [
    {
     "data": {
      "text/plain": [
       "numpy.ndarray"
      ]
     },
     "execution_count": 8,
     "metadata": {},
     "output_type": "execute_result"
    }
   ],
   "source": [
    "type(my_array)"
   ]
  },
  {
   "cell_type": "code",
   "execution_count": 9,
   "metadata": {},
   "outputs": [
    {
     "data": {
      "text/plain": [
       "dtype('int64')"
      ]
     },
     "execution_count": 9,
     "metadata": {},
     "output_type": "execute_result"
    }
   ],
   "source": [
    "my_array.dtype"
   ]
  },
  {
   "cell_type": "code",
   "execution_count": 10,
   "metadata": {},
   "outputs": [
    {
     "data": {
      "text/plain": [
       "(4,)"
      ]
     },
     "execution_count": 10,
     "metadata": {},
     "output_type": "execute_result"
    }
   ],
   "source": [
    "my_array.shape"
   ]
  },
  {
   "cell_type": "code",
   "execution_count": 11,
   "metadata": {},
   "outputs": [],
   "source": [
    "my_array = np.array([my_list])"
   ]
  },
  {
   "cell_type": "code",
   "execution_count": 12,
   "metadata": {},
   "outputs": [
    {
     "data": {
      "text/plain": [
       "(1, 4)"
      ]
     },
     "execution_count": 12,
     "metadata": {},
     "output_type": "execute_result"
    }
   ],
   "source": [
    "my_array.shape"
   ]
  },
  {
   "cell_type": "code",
   "execution_count": 13,
   "metadata": {},
   "outputs": [
    {
     "data": {
      "text/plain": [
       "array([[2, 5, 7, 8]])"
      ]
     },
     "execution_count": 13,
     "metadata": {},
     "output_type": "execute_result"
    }
   ],
   "source": [
    "my_array"
   ]
  },
  {
   "cell_type": "code",
   "execution_count": 14,
   "metadata": {},
   "outputs": [],
   "source": [
    "multi_array = np.array([[1, 2, 3], [4, 5, 6]], np.int32)"
   ]
  },
  {
   "cell_type": "markdown",
   "metadata": {},
   "source": [
    "How do we access the *6* element in the second row, third column for numpy array?"
   ]
  },
  {
   "cell_type": "code",
   "execution_count": 15,
   "metadata": {},
   "outputs": [],
   "source": [
    "#"
   ]
  },
  {
   "cell_type": "markdown",
   "metadata": {},
   "source": [
    "How do we retrieve a slice of the array, `array([[1, 2], [4, 5]])`?"
   ]
  },
  {
   "cell_type": "code",
   "execution_count": 16,
   "metadata": {},
   "outputs": [],
   "source": [
    "#"
   ]
  },
  {
   "cell_type": "markdown",
   "metadata": {},
   "source": [
    "How do we retrieve the second column of the array?"
   ]
  },
  {
   "cell_type": "code",
   "execution_count": 17,
   "metadata": {},
   "outputs": [],
   "source": [
    "#"
   ]
  },
  {
   "cell_type": "markdown",
   "metadata": {},
   "source": [
    "## 4. Introduction to Pandas DataFrames"
   ]
  },
  {
   "cell_type": "markdown",
   "metadata": {},
   "source": [
    "What are the elements of a table?"
   ]
  },
  {
   "cell_type": "code",
   "execution_count": 18,
   "metadata": {},
   "outputs": [],
   "source": [
    "# Pandas DataFrames as table elements\n",
    "import pandas as pd"
   ]
  },
  {
   "cell_type": "markdown",
   "metadata": {},
   "source": [
    "What operations do we perform on tables?"
   ]
  },
  {
   "cell_type": "code",
   "execution_count": 19,
   "metadata": {},
   "outputs": [
    {
     "data": {
      "text/html": [
       "<div>\n",
       "<style scoped>\n",
       "    .dataframe tbody tr th:only-of-type {\n",
       "        vertical-align: middle;\n",
       "    }\n",
       "\n",
       "    .dataframe tbody tr th {\n",
       "        vertical-align: top;\n",
       "    }\n",
       "\n",
       "    .dataframe thead th {\n",
       "        text-align: right;\n",
       "    }\n",
       "</style>\n",
       "<table border=\"1\" class=\"dataframe\">\n",
       "  <thead>\n",
       "    <tr style=\"text-align: right;\">\n",
       "      <th></th>\n",
       "      <th>A</th>\n",
       "      <th>B</th>\n",
       "      <th>ccc</th>\n",
       "    </tr>\n",
       "  </thead>\n",
       "  <tbody>\n",
       "    <tr>\n",
       "      <th>x</th>\n",
       "      <td>1</td>\n",
       "      <td>2</td>\n",
       "      <td>1.0</td>\n",
       "    </tr>\n",
       "    <tr>\n",
       "      <th>y</th>\n",
       "      <td>2</td>\n",
       "      <td>4</td>\n",
       "      <td>33.0</td>\n",
       "    </tr>\n",
       "    <tr>\n",
       "      <th>z</th>\n",
       "      <td>3</td>\n",
       "      <td>6</td>\n",
       "      <td>4.0</td>\n",
       "    </tr>\n",
       "  </tbody>\n",
       "</table>\n",
       "</div>"
      ],
      "text/plain": [
       "   A  B   ccc\n",
       "x  1  2   1.0\n",
       "y  2  4  33.0\n",
       "z  3  6   4.0"
      ]
     },
     "execution_count": 19,
     "metadata": {},
     "output_type": "execute_result"
    }
   ],
   "source": [
    "df = pd.DataFrame({'A': [1,2,3], 'B': [2, 4, 6], 'ccc': [1.0, 33, 4]})\n",
    "df.index = ['x', 'y', 'z']\n",
    "df"
   ]
  },
  {
   "cell_type": "code",
   "execution_count": 20,
   "metadata": {},
   "outputs": [
    {
     "data": {
      "text/html": [
       "<div>\n",
       "<style scoped>\n",
       "    .dataframe tbody tr th:only-of-type {\n",
       "        vertical-align: middle;\n",
       "    }\n",
       "\n",
       "    .dataframe tbody tr th {\n",
       "        vertical-align: top;\n",
       "    }\n",
       "\n",
       "    .dataframe thead th {\n",
       "        text-align: right;\n",
       "    }\n",
       "</style>\n",
       "<table border=\"1\" class=\"dataframe\">\n",
       "  <thead>\n",
       "    <tr style=\"text-align: right;\">\n",
       "      <th></th>\n",
       "      <th>A</th>\n",
       "      <th>B</th>\n",
       "      <th>ccc</th>\n",
       "    </tr>\n",
       "  </thead>\n",
       "  <tbody>\n",
       "    <tr>\n",
       "      <th>x</th>\n",
       "      <td>2</td>\n",
       "      <td>4</td>\n",
       "      <td>2.0</td>\n",
       "    </tr>\n",
       "    <tr>\n",
       "      <th>y</th>\n",
       "      <td>4</td>\n",
       "      <td>8</td>\n",
       "      <td>66.0</td>\n",
       "    </tr>\n",
       "    <tr>\n",
       "      <th>z</th>\n",
       "      <td>6</td>\n",
       "      <td>12</td>\n",
       "      <td>8.0</td>\n",
       "    </tr>\n",
       "  </tbody>\n",
       "</table>\n",
       "</div>"
      ],
      "text/plain": [
       "   A   B   ccc\n",
       "x  2   4   2.0\n",
       "y  4   8  66.0\n",
       "z  6  12   8.0"
      ]
     },
     "execution_count": 20,
     "metadata": {},
     "output_type": "execute_result"
    }
   ],
   "source": [
    "df+df\n",
    "#type(df)"
   ]
  },
  {
   "cell_type": "code",
   "execution_count": 21,
   "metadata": {},
   "outputs": [
    {
     "data": {
      "text/html": [
       "<div>\n",
       "<style scoped>\n",
       "    .dataframe tbody tr th:only-of-type {\n",
       "        vertical-align: middle;\n",
       "    }\n",
       "\n",
       "    .dataframe tbody tr th {\n",
       "        vertical-align: top;\n",
       "    }\n",
       "\n",
       "    .dataframe thead th {\n",
       "        text-align: right;\n",
       "    }\n",
       "</style>\n",
       "<table border=\"1\" class=\"dataframe\">\n",
       "  <thead>\n",
       "    <tr style=\"text-align: right;\">\n",
       "      <th></th>\n",
       "      <th>A</th>\n",
       "      <th>B</th>\n",
       "    </tr>\n",
       "  </thead>\n",
       "  <tbody>\n",
       "    <tr>\n",
       "      <th>x</th>\n",
       "      <td>1</td>\n",
       "      <td>2</td>\n",
       "    </tr>\n",
       "    <tr>\n",
       "      <th>y</th>\n",
       "      <td>3</td>\n",
       "      <td>6</td>\n",
       "    </tr>\n",
       "    <tr>\n",
       "      <th>z</th>\n",
       "      <td>2</td>\n",
       "      <td>4</td>\n",
       "    </tr>\n",
       "  </tbody>\n",
       "</table>\n",
       "</div>"
      ],
      "text/plain": [
       "   A  B\n",
       "x  1  2\n",
       "y  3  6\n",
       "z  2  4"
      ]
     },
     "execution_count": 21,
     "metadata": {},
     "output_type": "execute_result"
    }
   ],
   "source": [
    "df2 = pd.DataFrame({'A': [1,3, 2], 'B': [2, 6, 4]})\n",
    "df2.index = ['x', 'y', 'z']\n",
    "df2"
   ]
  },
  {
   "cell_type": "code",
   "execution_count": 22,
   "metadata": {},
   "outputs": [
    {
     "data": {
      "text/html": [
       "<div>\n",
       "<style scoped>\n",
       "    .dataframe tbody tr th:only-of-type {\n",
       "        vertical-align: middle;\n",
       "    }\n",
       "\n",
       "    .dataframe tbody tr th {\n",
       "        vertical-align: top;\n",
       "    }\n",
       "\n",
       "    .dataframe thead th {\n",
       "        text-align: right;\n",
       "    }\n",
       "</style>\n",
       "<table border=\"1\" class=\"dataframe\">\n",
       "  <thead>\n",
       "    <tr style=\"text-align: right;\">\n",
       "      <th></th>\n",
       "      <th>A</th>\n",
       "      <th>B</th>\n",
       "      <th>ccc</th>\n",
       "    </tr>\n",
       "  </thead>\n",
       "  <tbody>\n",
       "    <tr>\n",
       "      <th>x</th>\n",
       "      <td>2</td>\n",
       "      <td>4</td>\n",
       "      <td>NaN</td>\n",
       "    </tr>\n",
       "    <tr>\n",
       "      <th>y</th>\n",
       "      <td>5</td>\n",
       "      <td>10</td>\n",
       "      <td>NaN</td>\n",
       "    </tr>\n",
       "    <tr>\n",
       "      <th>z</th>\n",
       "      <td>5</td>\n",
       "      <td>10</td>\n",
       "      <td>NaN</td>\n",
       "    </tr>\n",
       "  </tbody>\n",
       "</table>\n",
       "</div>"
      ],
      "text/plain": [
       "   A   B  ccc\n",
       "x  2   4  NaN\n",
       "y  5  10  NaN\n",
       "z  5  10  NaN"
      ]
     },
     "execution_count": 22,
     "metadata": {},
     "output_type": "execute_result"
    }
   ],
   "source": [
    "df+df2"
   ]
  },
  {
   "cell_type": "code",
   "execution_count": 23,
   "metadata": {},
   "outputs": [
    {
     "data": {
      "text/html": [
       "<div>\n",
       "<style scoped>\n",
       "    .dataframe tbody tr th:only-of-type {\n",
       "        vertical-align: middle;\n",
       "    }\n",
       "\n",
       "    .dataframe tbody tr th {\n",
       "        vertical-align: top;\n",
       "    }\n",
       "\n",
       "    .dataframe thead th {\n",
       "        text-align: right;\n",
       "    }\n",
       "</style>\n",
       "<table border=\"1\" class=\"dataframe\">\n",
       "  <thead>\n",
       "    <tr style=\"text-align: right;\">\n",
       "      <th></th>\n",
       "      <th>A</th>\n",
       "      <th>ccc</th>\n",
       "    </tr>\n",
       "  </thead>\n",
       "  <tbody>\n",
       "    <tr>\n",
       "      <th>x</th>\n",
       "      <td>1</td>\n",
       "      <td>1.0</td>\n",
       "    </tr>\n",
       "    <tr>\n",
       "      <th>y</th>\n",
       "      <td>2</td>\n",
       "      <td>33.0</td>\n",
       "    </tr>\n",
       "    <tr>\n",
       "      <th>z</th>\n",
       "      <td>3</td>\n",
       "      <td>4.0</td>\n",
       "    </tr>\n",
       "  </tbody>\n",
       "</table>\n",
       "</div>"
      ],
      "text/plain": [
       "   A   ccc\n",
       "x  1   1.0\n",
       "y  2  33.0\n",
       "z  3   4.0"
      ]
     },
     "execution_count": 23,
     "metadata": {},
     "output_type": "execute_result"
    }
   ],
   "source": [
    "sub_df = df[['A','ccc']]\n",
    "#df.columns\n",
    "sub_df"
   ]
  },
  {
   "cell_type": "code",
   "execution_count": 24,
   "metadata": {},
   "outputs": [
    {
     "data": {
      "text/plain": [
       "x     5\n",
       "y    10\n",
       "z    15\n",
       "dtype: int64"
      ]
     },
     "execution_count": 24,
     "metadata": {},
     "output_type": "execute_result"
    }
   ],
   "source": [
    "df['A']+ 2*df['B']"
   ]
  },
  {
   "cell_type": "markdown",
   "metadata": {},
   "source": [
    "# Operations on a Pandas DataFrame"
   ]
  },
  {
   "cell_type": "markdown",
   "metadata": {},
   "source": [
    "## 5. Manipulating Data with DataFrames"
   ]
  },
  {
   "cell_type": "markdown",
   "metadata": {},
   "source": [
    "### Downloading the data\n",
    "\n",
    "Shell commands can be run from the notebook by preceding them with an exclamation point:"
   ]
  },
  {
   "cell_type": "code",
   "execution_count": 25,
   "metadata": {},
   "outputs": [
    {
     "name": "stdout",
     "output_type": "stream",
     "text": [
      "'8.2.23 pytu.ipynb'\r\n",
      " CHACK2_Data_Structures_and_Flow_Control.ipynb\r\n",
      " CHACK2_Data_Structures_and_Flow_Control_downloaded.ipynb\r\n",
      " data_manipulation.ipynb\r\n",
      " jupyter_and_python_breakout.ipynb\r\n",
      " pronto.csv\r\n",
      " python_vars_and_flow_control.ipynb\r\n"
     ]
    }
   ],
   "source": [
    "!ls"
   ]
  },
  {
   "cell_type": "markdown",
   "metadata": {},
   "source": [
    "uncomment this to download the data:"
   ]
  },
  {
   "cell_type": "code",
   "execution_count": 26,
   "metadata": {},
   "outputs": [
    {
     "name": "stdout",
     "output_type": "stream",
     "text": [
      "  % Total    % Received % Xferd  Average Speed   Time    Time     Time  Current\n",
      "                                 Dload  Upload   Total   Spent    Left  Speed\n",
      "100 42.7M    0 42.7M    0     0  4321k      0 --:--:--  0:00:10 --:--:-- 4552k\n"
     ]
    }
   ],
   "source": [
    "!curl -o pronto.csv \"https://data.seattle.gov/api/views/tw7j-dfaw/rows.csv?accessType=DOWNLOAD\""
   ]
  },
  {
   "cell_type": "markdown",
   "metadata": {},
   "source": [
    "### Loading Data into a DataFrame"
   ]
  },
  {
   "cell_type": "markdown",
   "metadata": {},
   "source": [
    "Because we'll use it so much, we often import under a shortened name using the ``import ... as ...`` pattern:"
   ]
  },
  {
   "cell_type": "code",
   "execution_count": 27,
   "metadata": {},
   "outputs": [],
   "source": [
    "import pandas as pd\n",
    "df = pd.read_csv('pronto.csv')"
   ]
  },
  {
   "cell_type": "code",
   "execution_count": 28,
   "metadata": {},
   "outputs": [
    {
     "data": {
      "text/plain": [
       "pandas.core.frame.DataFrame"
      ]
     },
     "execution_count": 28,
     "metadata": {},
     "output_type": "execute_result"
    }
   ],
   "source": [
    "type(df)"
   ]
  },
  {
   "cell_type": "code",
   "execution_count": 29,
   "metadata": {},
   "outputs": [
    {
     "data": {
      "text/html": [
       "<div>\n",
       "<style scoped>\n",
       "    .dataframe tbody tr th:only-of-type {\n",
       "        vertical-align: middle;\n",
       "    }\n",
       "\n",
       "    .dataframe tbody tr th {\n",
       "        vertical-align: top;\n",
       "    }\n",
       "\n",
       "    .dataframe thead th {\n",
       "        text-align: right;\n",
       "    }\n",
       "</style>\n",
       "<table border=\"1\" class=\"dataframe\">\n",
       "  <thead>\n",
       "    <tr style=\"text-align: right;\">\n",
       "      <th></th>\n",
       "      <th>trip_id</th>\n",
       "      <th>starttime</th>\n",
       "      <th>stoptime</th>\n",
       "      <th>bikeid</th>\n",
       "      <th>tripduration</th>\n",
       "      <th>from_station_name</th>\n",
       "      <th>to_station_name</th>\n",
       "      <th>from_station_id</th>\n",
       "      <th>to_station_id</th>\n",
       "      <th>usertype</th>\n",
       "      <th>gender</th>\n",
       "      <th>birthyear</th>\n",
       "    </tr>\n",
       "  </thead>\n",
       "  <tbody>\n",
       "    <tr>\n",
       "      <th>0</th>\n",
       "      <td>431</td>\n",
       "      <td>10/13/2014 10:31:00 AM</td>\n",
       "      <td>10/13/2014 10:48:00 AM</td>\n",
       "      <td>SEA00298</td>\n",
       "      <td>985.935</td>\n",
       "      <td>2nd Ave &amp; Spring St</td>\n",
       "      <td>Occidental Park / Occidental Ave S &amp; S Washing...</td>\n",
       "      <td>CBD-06</td>\n",
       "      <td>PS-04</td>\n",
       "      <td>Member</td>\n",
       "      <td>Male</td>\n",
       "      <td>1960.0</td>\n",
       "    </tr>\n",
       "    <tr>\n",
       "      <th>1</th>\n",
       "      <td>432</td>\n",
       "      <td>10/13/2014 10:32:00 AM</td>\n",
       "      <td>10/13/2014 10:48:00 AM</td>\n",
       "      <td>SEA00195</td>\n",
       "      <td>926.375</td>\n",
       "      <td>2nd Ave &amp; Spring St</td>\n",
       "      <td>Occidental Park / Occidental Ave S &amp; S Washing...</td>\n",
       "      <td>CBD-06</td>\n",
       "      <td>PS-04</td>\n",
       "      <td>Member</td>\n",
       "      <td>Male</td>\n",
       "      <td>1970.0</td>\n",
       "    </tr>\n",
       "    <tr>\n",
       "      <th>2</th>\n",
       "      <td>433</td>\n",
       "      <td>10/13/2014 10:33:00 AM</td>\n",
       "      <td>10/13/2014 10:48:00 AM</td>\n",
       "      <td>SEA00486</td>\n",
       "      <td>883.831</td>\n",
       "      <td>2nd Ave &amp; Spring St</td>\n",
       "      <td>Occidental Park / Occidental Ave S &amp; S Washing...</td>\n",
       "      <td>CBD-06</td>\n",
       "      <td>PS-04</td>\n",
       "      <td>Member</td>\n",
       "      <td>Female</td>\n",
       "      <td>1988.0</td>\n",
       "    </tr>\n",
       "    <tr>\n",
       "      <th>3</th>\n",
       "      <td>434</td>\n",
       "      <td>10/13/2014 10:34:00 AM</td>\n",
       "      <td>10/13/2014 10:48:00 AM</td>\n",
       "      <td>SEA00333</td>\n",
       "      <td>865.937</td>\n",
       "      <td>2nd Ave &amp; Spring St</td>\n",
       "      <td>Occidental Park / Occidental Ave S &amp; S Washing...</td>\n",
       "      <td>CBD-06</td>\n",
       "      <td>PS-04</td>\n",
       "      <td>Member</td>\n",
       "      <td>Female</td>\n",
       "      <td>1977.0</td>\n",
       "    </tr>\n",
       "    <tr>\n",
       "      <th>4</th>\n",
       "      <td>435</td>\n",
       "      <td>10/13/2014 10:34:00 AM</td>\n",
       "      <td>10/13/2014 10:49:00 AM</td>\n",
       "      <td>SEA00202</td>\n",
       "      <td>923.923</td>\n",
       "      <td>2nd Ave &amp; Spring St</td>\n",
       "      <td>Occidental Park / Occidental Ave S &amp; S Washing...</td>\n",
       "      <td>CBD-06</td>\n",
       "      <td>PS-04</td>\n",
       "      <td>Member</td>\n",
       "      <td>Male</td>\n",
       "      <td>1971.0</td>\n",
       "    </tr>\n",
       "    <tr>\n",
       "      <th>...</th>\n",
       "      <td>...</td>\n",
       "      <td>...</td>\n",
       "      <td>...</td>\n",
       "      <td>...</td>\n",
       "      <td>...</td>\n",
       "      <td>...</td>\n",
       "      <td>...</td>\n",
       "      <td>...</td>\n",
       "      <td>...</td>\n",
       "      <td>...</td>\n",
       "      <td>...</td>\n",
       "      <td>...</td>\n",
       "    </tr>\n",
       "    <tr>\n",
       "      <th>275086</th>\n",
       "      <td>295463</td>\n",
       "      <td>03/31/2017 11:16:00 PM</td>\n",
       "      <td>04/01/2017 02:11:00 AM</td>\n",
       "      <td>SEA00347</td>\n",
       "      <td>10487.475</td>\n",
       "      <td>NE 42nd St &amp; University Way NE</td>\n",
       "      <td>E Harrison St &amp; Broadway Ave E</td>\n",
       "      <td>UD-02</td>\n",
       "      <td>CH-02</td>\n",
       "      <td>Short-Term Pass Holder</td>\n",
       "      <td>NaN</td>\n",
       "      <td>NaN</td>\n",
       "    </tr>\n",
       "    <tr>\n",
       "      <th>275087</th>\n",
       "      <td>295464</td>\n",
       "      <td>03/31/2017 11:16:00 PM</td>\n",
       "      <td>04/01/2017 02:11:00 AM</td>\n",
       "      <td>SEA00031</td>\n",
       "      <td>10487.366</td>\n",
       "      <td>NE 42nd St &amp; University Way NE</td>\n",
       "      <td>E Harrison St &amp; Broadway Ave E</td>\n",
       "      <td>UD-02</td>\n",
       "      <td>CH-02</td>\n",
       "      <td>Member</td>\n",
       "      <td>Female</td>\n",
       "      <td>1982.0</td>\n",
       "    </tr>\n",
       "    <tr>\n",
       "      <th>275088</th>\n",
       "      <td>295465</td>\n",
       "      <td>03/31/2017 11:44:00 PM</td>\n",
       "      <td>04/01/2017 12:04:00 AM</td>\n",
       "      <td>SEA00240</td>\n",
       "      <td>1205.656</td>\n",
       "      <td>Bellevue Ave &amp; E Pine St</td>\n",
       "      <td>Lake Union Park / Westlake Ave &amp; Aloha St</td>\n",
       "      <td>CH-12</td>\n",
       "      <td>SLU-23</td>\n",
       "      <td>Member</td>\n",
       "      <td>Male</td>\n",
       "      <td>1990.0</td>\n",
       "    </tr>\n",
       "    <tr>\n",
       "      <th>275089</th>\n",
       "      <td>295466</td>\n",
       "      <td>03/31/2017 11:46:00 PM</td>\n",
       "      <td>04/01/2017 12:04:00 AM</td>\n",
       "      <td>SEA00121</td>\n",
       "      <td>1115.658</td>\n",
       "      <td>Bellevue Ave &amp; E Pine St</td>\n",
       "      <td>Lake Union Park / Westlake Ave &amp; Aloha St</td>\n",
       "      <td>CH-12</td>\n",
       "      <td>SLU-23</td>\n",
       "      <td>Member</td>\n",
       "      <td>Female</td>\n",
       "      <td>1987.0</td>\n",
       "    </tr>\n",
       "    <tr>\n",
       "      <th>275090</th>\n",
       "      <td>295467</td>\n",
       "      <td>03/31/2017 11:52:00 PM</td>\n",
       "      <td>04/01/2017 02:33:00 AM</td>\n",
       "      <td>SEA00151</td>\n",
       "      <td>9667.679</td>\n",
       "      <td>Cal Anderson Park / 11th Ave &amp; Pine St</td>\n",
       "      <td>Broadway and E Denny Way</td>\n",
       "      <td>CH-08</td>\n",
       "      <td>CH-16</td>\n",
       "      <td>Member</td>\n",
       "      <td>Male</td>\n",
       "      <td>1988.0</td>\n",
       "    </tr>\n",
       "  </tbody>\n",
       "</table>\n",
       "<p>275091 rows × 12 columns</p>\n",
       "</div>"
      ],
      "text/plain": [
       "        trip_id               starttime                stoptime    bikeid  \\\n",
       "0           431  10/13/2014 10:31:00 AM  10/13/2014 10:48:00 AM  SEA00298   \n",
       "1           432  10/13/2014 10:32:00 AM  10/13/2014 10:48:00 AM  SEA00195   \n",
       "2           433  10/13/2014 10:33:00 AM  10/13/2014 10:48:00 AM  SEA00486   \n",
       "3           434  10/13/2014 10:34:00 AM  10/13/2014 10:48:00 AM  SEA00333   \n",
       "4           435  10/13/2014 10:34:00 AM  10/13/2014 10:49:00 AM  SEA00202   \n",
       "...         ...                     ...                     ...       ...   \n",
       "275086   295463  03/31/2017 11:16:00 PM  04/01/2017 02:11:00 AM  SEA00347   \n",
       "275087   295464  03/31/2017 11:16:00 PM  04/01/2017 02:11:00 AM  SEA00031   \n",
       "275088   295465  03/31/2017 11:44:00 PM  04/01/2017 12:04:00 AM  SEA00240   \n",
       "275089   295466  03/31/2017 11:46:00 PM  04/01/2017 12:04:00 AM  SEA00121   \n",
       "275090   295467  03/31/2017 11:52:00 PM  04/01/2017 02:33:00 AM  SEA00151   \n",
       "\n",
       "        tripduration                       from_station_name  \\\n",
       "0            985.935                     2nd Ave & Spring St   \n",
       "1            926.375                     2nd Ave & Spring St   \n",
       "2            883.831                     2nd Ave & Spring St   \n",
       "3            865.937                     2nd Ave & Spring St   \n",
       "4            923.923                     2nd Ave & Spring St   \n",
       "...              ...                                     ...   \n",
       "275086     10487.475          NE 42nd St & University Way NE   \n",
       "275087     10487.366          NE 42nd St & University Way NE   \n",
       "275088      1205.656                Bellevue Ave & E Pine St   \n",
       "275089      1115.658                Bellevue Ave & E Pine St   \n",
       "275090      9667.679  Cal Anderson Park / 11th Ave & Pine St   \n",
       "\n",
       "                                          to_station_name from_station_id  \\\n",
       "0       Occidental Park / Occidental Ave S & S Washing...          CBD-06   \n",
       "1       Occidental Park / Occidental Ave S & S Washing...          CBD-06   \n",
       "2       Occidental Park / Occidental Ave S & S Washing...          CBD-06   \n",
       "3       Occidental Park / Occidental Ave S & S Washing...          CBD-06   \n",
       "4       Occidental Park / Occidental Ave S & S Washing...          CBD-06   \n",
       "...                                                   ...             ...   \n",
       "275086                     E Harrison St & Broadway Ave E           UD-02   \n",
       "275087                     E Harrison St & Broadway Ave E           UD-02   \n",
       "275088          Lake Union Park / Westlake Ave & Aloha St           CH-12   \n",
       "275089          Lake Union Park / Westlake Ave & Aloha St           CH-12   \n",
       "275090                           Broadway and E Denny Way           CH-08   \n",
       "\n",
       "       to_station_id                usertype  gender  birthyear  \n",
       "0              PS-04                  Member    Male     1960.0  \n",
       "1              PS-04                  Member    Male     1970.0  \n",
       "2              PS-04                  Member  Female     1988.0  \n",
       "3              PS-04                  Member  Female     1977.0  \n",
       "4              PS-04                  Member    Male     1971.0  \n",
       "...              ...                     ...     ...        ...  \n",
       "275086         CH-02  Short-Term Pass Holder     NaN        NaN  \n",
       "275087         CH-02                  Member  Female     1982.0  \n",
       "275088        SLU-23                  Member    Male     1990.0  \n",
       "275089        SLU-23                  Member  Female     1987.0  \n",
       "275090         CH-16                  Member    Male     1988.0  \n",
       "\n",
       "[275091 rows x 12 columns]"
      ]
     },
     "execution_count": 29,
     "metadata": {},
     "output_type": "execute_result"
    }
   ],
   "source": [
    "df"
   ]
  },
  {
   "cell_type": "code",
   "execution_count": 30,
   "metadata": {},
   "outputs": [
    {
     "data": {
      "text/plain": [
       "(275091, 12)"
      ]
     },
     "execution_count": 30,
     "metadata": {},
     "output_type": "execute_result"
    }
   ],
   "source": [
    "df.shape"
   ]
  },
  {
   "cell_type": "code",
   "execution_count": 31,
   "metadata": {},
   "outputs": [
    {
     "data": {
      "text/plain": [
       "['trip_id',\n",
       " 'starttime',\n",
       " 'stoptime',\n",
       " 'bikeid',\n",
       " 'tripduration',\n",
       " 'from_station_name',\n",
       " 'to_station_name',\n",
       " 'from_station_id',\n",
       " 'to_station_id',\n",
       " 'usertype',\n",
       " 'gender',\n",
       " 'birthyear']"
      ]
     },
     "execution_count": 31,
     "metadata": {},
     "output_type": "execute_result"
    }
   ],
   "source": [
    "df.head()\n",
    "df.tail()\n",
    "list(df.columns)"
   ]
  },
  {
   "cell_type": "markdown",
   "metadata": {},
   "source": [
    "Now we can use the ``read_csv`` command to read the comma-separated-value data:"
   ]
  },
  {
   "cell_type": "markdown",
   "metadata": {},
   "source": [
    "*Note: strings in Python can be defined either with double quotes or single quotes*"
   ]
  },
  {
   "cell_type": "markdown",
   "metadata": {},
   "source": [
    "### Viewing Pandas Dataframes"
   ]
  },
  {
   "cell_type": "markdown",
   "metadata": {},
   "source": [
    "The ``head()`` and ``tail()`` methods show us the first and last rows of the data"
   ]
  },
  {
   "cell_type": "code",
   "execution_count": 32,
   "metadata": {},
   "outputs": [
    {
     "data": {
      "text/html": [
       "<div>\n",
       "<style scoped>\n",
       "    .dataframe tbody tr th:only-of-type {\n",
       "        vertical-align: middle;\n",
       "    }\n",
       "\n",
       "    .dataframe tbody tr th {\n",
       "        vertical-align: top;\n",
       "    }\n",
       "\n",
       "    .dataframe thead th {\n",
       "        text-align: right;\n",
       "    }\n",
       "</style>\n",
       "<table border=\"1\" class=\"dataframe\">\n",
       "  <thead>\n",
       "    <tr style=\"text-align: right;\">\n",
       "      <th></th>\n",
       "      <th>trip_id</th>\n",
       "      <th>starttime</th>\n",
       "      <th>stoptime</th>\n",
       "      <th>bikeid</th>\n",
       "      <th>tripduration</th>\n",
       "      <th>from_station_name</th>\n",
       "      <th>to_station_name</th>\n",
       "      <th>from_station_id</th>\n",
       "      <th>to_station_id</th>\n",
       "      <th>usertype</th>\n",
       "      <th>gender</th>\n",
       "      <th>birthyear</th>\n",
       "    </tr>\n",
       "  </thead>\n",
       "  <tbody>\n",
       "    <tr>\n",
       "      <th>0</th>\n",
       "      <td>431</td>\n",
       "      <td>10/13/2014 10:31:00 AM</td>\n",
       "      <td>10/13/2014 10:48:00 AM</td>\n",
       "      <td>SEA00298</td>\n",
       "      <td>985.935</td>\n",
       "      <td>2nd Ave &amp; Spring St</td>\n",
       "      <td>Occidental Park / Occidental Ave S &amp; S Washing...</td>\n",
       "      <td>CBD-06</td>\n",
       "      <td>PS-04</td>\n",
       "      <td>Member</td>\n",
       "      <td>Male</td>\n",
       "      <td>1960.0</td>\n",
       "    </tr>\n",
       "    <tr>\n",
       "      <th>1</th>\n",
       "      <td>432</td>\n",
       "      <td>10/13/2014 10:32:00 AM</td>\n",
       "      <td>10/13/2014 10:48:00 AM</td>\n",
       "      <td>SEA00195</td>\n",
       "      <td>926.375</td>\n",
       "      <td>2nd Ave &amp; Spring St</td>\n",
       "      <td>Occidental Park / Occidental Ave S &amp; S Washing...</td>\n",
       "      <td>CBD-06</td>\n",
       "      <td>PS-04</td>\n",
       "      <td>Member</td>\n",
       "      <td>Male</td>\n",
       "      <td>1970.0</td>\n",
       "    </tr>\n",
       "    <tr>\n",
       "      <th>2</th>\n",
       "      <td>433</td>\n",
       "      <td>10/13/2014 10:33:00 AM</td>\n",
       "      <td>10/13/2014 10:48:00 AM</td>\n",
       "      <td>SEA00486</td>\n",
       "      <td>883.831</td>\n",
       "      <td>2nd Ave &amp; Spring St</td>\n",
       "      <td>Occidental Park / Occidental Ave S &amp; S Washing...</td>\n",
       "      <td>CBD-06</td>\n",
       "      <td>PS-04</td>\n",
       "      <td>Member</td>\n",
       "      <td>Female</td>\n",
       "      <td>1988.0</td>\n",
       "    </tr>\n",
       "    <tr>\n",
       "      <th>3</th>\n",
       "      <td>434</td>\n",
       "      <td>10/13/2014 10:34:00 AM</td>\n",
       "      <td>10/13/2014 10:48:00 AM</td>\n",
       "      <td>SEA00333</td>\n",
       "      <td>865.937</td>\n",
       "      <td>2nd Ave &amp; Spring St</td>\n",
       "      <td>Occidental Park / Occidental Ave S &amp; S Washing...</td>\n",
       "      <td>CBD-06</td>\n",
       "      <td>PS-04</td>\n",
       "      <td>Member</td>\n",
       "      <td>Female</td>\n",
       "      <td>1977.0</td>\n",
       "    </tr>\n",
       "    <tr>\n",
       "      <th>4</th>\n",
       "      <td>435</td>\n",
       "      <td>10/13/2014 10:34:00 AM</td>\n",
       "      <td>10/13/2014 10:49:00 AM</td>\n",
       "      <td>SEA00202</td>\n",
       "      <td>923.923</td>\n",
       "      <td>2nd Ave &amp; Spring St</td>\n",
       "      <td>Occidental Park / Occidental Ave S &amp; S Washing...</td>\n",
       "      <td>CBD-06</td>\n",
       "      <td>PS-04</td>\n",
       "      <td>Member</td>\n",
       "      <td>Male</td>\n",
       "      <td>1971.0</td>\n",
       "    </tr>\n",
       "  </tbody>\n",
       "</table>\n",
       "</div>"
      ],
      "text/plain": [
       "   trip_id               starttime                stoptime    bikeid  \\\n",
       "0      431  10/13/2014 10:31:00 AM  10/13/2014 10:48:00 AM  SEA00298   \n",
       "1      432  10/13/2014 10:32:00 AM  10/13/2014 10:48:00 AM  SEA00195   \n",
       "2      433  10/13/2014 10:33:00 AM  10/13/2014 10:48:00 AM  SEA00486   \n",
       "3      434  10/13/2014 10:34:00 AM  10/13/2014 10:48:00 AM  SEA00333   \n",
       "4      435  10/13/2014 10:34:00 AM  10/13/2014 10:49:00 AM  SEA00202   \n",
       "\n",
       "   tripduration    from_station_name  \\\n",
       "0       985.935  2nd Ave & Spring St   \n",
       "1       926.375  2nd Ave & Spring St   \n",
       "2       883.831  2nd Ave & Spring St   \n",
       "3       865.937  2nd Ave & Spring St   \n",
       "4       923.923  2nd Ave & Spring St   \n",
       "\n",
       "                                     to_station_name from_station_id  \\\n",
       "0  Occidental Park / Occidental Ave S & S Washing...          CBD-06   \n",
       "1  Occidental Park / Occidental Ave S & S Washing...          CBD-06   \n",
       "2  Occidental Park / Occidental Ave S & S Washing...          CBD-06   \n",
       "3  Occidental Park / Occidental Ave S & S Washing...          CBD-06   \n",
       "4  Occidental Park / Occidental Ave S & S Washing...          CBD-06   \n",
       "\n",
       "  to_station_id usertype  gender  birthyear  \n",
       "0         PS-04   Member    Male     1960.0  \n",
       "1         PS-04   Member    Male     1970.0  \n",
       "2         PS-04   Member  Female     1988.0  \n",
       "3         PS-04   Member  Female     1977.0  \n",
       "4         PS-04   Member    Male     1971.0  "
      ]
     },
     "execution_count": 32,
     "metadata": {},
     "output_type": "execute_result"
    }
   ],
   "source": [
    "df.head()"
   ]
  },
  {
   "cell_type": "code",
   "execution_count": 33,
   "metadata": {},
   "outputs": [
    {
     "data": {
      "text/plain": [
       "['trip_id',\n",
       " 'starttime',\n",
       " 'stoptime',\n",
       " 'bikeid',\n",
       " 'tripduration',\n",
       " 'from_station_name',\n",
       " 'to_station_name',\n",
       " 'from_station_id',\n",
       " 'to_station_id',\n",
       " 'usertype',\n",
       " 'gender',\n",
       " 'birthyear']"
      ]
     },
     "execution_count": 33,
     "metadata": {},
     "output_type": "execute_result"
    }
   ],
   "source": [
    "df.columns.tolist()"
   ]
  },
  {
   "cell_type": "code",
   "execution_count": 34,
   "metadata": {},
   "outputs": [
    {
     "data": {
      "text/plain": [
       "RangeIndex(start=0, stop=275091, step=1)"
      ]
     },
     "execution_count": 34,
     "metadata": {},
     "output_type": "execute_result"
    }
   ],
   "source": [
    "df.index"
   ]
  },
  {
   "cell_type": "code",
   "execution_count": 35,
   "metadata": {},
   "outputs": [],
   "source": [
    "smaller_df = df.loc[[1,4,6,7,9,34],:]\n"
   ]
  },
  {
   "cell_type": "code",
   "execution_count": 36,
   "metadata": {},
   "outputs": [
    {
     "data": {
      "text/plain": [
       "Int64Index([1, 4, 6, 7, 9, 34], dtype='int64')"
      ]
     },
     "execution_count": 36,
     "metadata": {},
     "output_type": "execute_result"
    }
   ],
   "source": [
    "smaller_df.index"
   ]
  },
  {
   "cell_type": "markdown",
   "metadata": {},
   "source": [
    "The ``shape`` attribute shows us the number of elements:"
   ]
  },
  {
   "cell_type": "code",
   "execution_count": 37,
   "metadata": {},
   "outputs": [
    {
     "data": {
      "text/plain": [
       "(275091, 12)"
      ]
     },
     "execution_count": 37,
     "metadata": {},
     "output_type": "execute_result"
    }
   ],
   "source": [
    "df.shape"
   ]
  },
  {
   "cell_type": "markdown",
   "metadata": {},
   "source": [
    "The ``columns`` attribute gives us the column names"
   ]
  },
  {
   "cell_type": "markdown",
   "metadata": {},
   "source": [
    "The ``index`` attribute gives us the index names"
   ]
  },
  {
   "cell_type": "markdown",
   "metadata": {},
   "source": [
    "The ``dtypes`` attribute gives the data types of each column:"
   ]
  },
  {
   "cell_type": "code",
   "execution_count": 38,
   "metadata": {},
   "outputs": [
    {
     "data": {
      "text/plain": [
       "trip_id                int64\n",
       "starttime             object\n",
       "stoptime              object\n",
       "bikeid                object\n",
       "tripduration         float64\n",
       "from_station_name     object\n",
       "to_station_name       object\n",
       "from_station_id       object\n",
       "to_station_id         object\n",
       "usertype              object\n",
       "gender                object\n",
       "birthyear            float64\n",
       "dtype: object"
      ]
     },
     "execution_count": 38,
     "metadata": {},
     "output_type": "execute_result"
    }
   ],
   "source": [
    "df.dtypes"
   ]
  },
  {
   "cell_type": "markdown",
   "metadata": {},
   "source": [
    "### Sophisticated Data Manipulation\n",
    "\n",
    "Here we'll cover some key features of manipulating data with pandas"
   ]
  },
  {
   "cell_type": "markdown",
   "metadata": {},
   "source": [
    "Access columns by name using square-bracket indexing:"
   ]
  },
  {
   "cell_type": "code",
   "execution_count": 39,
   "metadata": {},
   "outputs": [
    {
     "data": {
      "text/html": [
       "<div>\n",
       "<style scoped>\n",
       "    .dataframe tbody tr th:only-of-type {\n",
       "        vertical-align: middle;\n",
       "    }\n",
       "\n",
       "    .dataframe tbody tr th {\n",
       "        vertical-align: top;\n",
       "    }\n",
       "\n",
       "    .dataframe thead th {\n",
       "        text-align: right;\n",
       "    }\n",
       "</style>\n",
       "<table border=\"1\" class=\"dataframe\">\n",
       "  <thead>\n",
       "    <tr style=\"text-align: right;\">\n",
       "      <th></th>\n",
       "      <th>trip_id</th>\n",
       "      <th>starttime</th>\n",
       "      <th>stoptime</th>\n",
       "      <th>bikeid</th>\n",
       "      <th>tripduration</th>\n",
       "      <th>from_station_name</th>\n",
       "      <th>to_station_name</th>\n",
       "      <th>from_station_id</th>\n",
       "      <th>to_station_id</th>\n",
       "      <th>usertype</th>\n",
       "      <th>gender</th>\n",
       "      <th>birthyear</th>\n",
       "    </tr>\n",
       "  </thead>\n",
       "  <tbody>\n",
       "    <tr>\n",
       "      <th>0</th>\n",
       "      <td>431</td>\n",
       "      <td>10/13/2014 10:31:00 AM</td>\n",
       "      <td>10/13/2014 10:48:00 AM</td>\n",
       "      <td>SEA00298</td>\n",
       "      <td>985.935</td>\n",
       "      <td>2nd Ave &amp; Spring St</td>\n",
       "      <td>Occidental Park / Occidental Ave S &amp; S Washing...</td>\n",
       "      <td>CBD-06</td>\n",
       "      <td>PS-04</td>\n",
       "      <td>Member</td>\n",
       "      <td>Male</td>\n",
       "      <td>1960.0</td>\n",
       "    </tr>\n",
       "    <tr>\n",
       "      <th>1</th>\n",
       "      <td>432</td>\n",
       "      <td>10/13/2014 10:32:00 AM</td>\n",
       "      <td>10/13/2014 10:48:00 AM</td>\n",
       "      <td>SEA00195</td>\n",
       "      <td>926.375</td>\n",
       "      <td>2nd Ave &amp; Spring St</td>\n",
       "      <td>Occidental Park / Occidental Ave S &amp; S Washing...</td>\n",
       "      <td>CBD-06</td>\n",
       "      <td>PS-04</td>\n",
       "      <td>Member</td>\n",
       "      <td>Male</td>\n",
       "      <td>1970.0</td>\n",
       "    </tr>\n",
       "    <tr>\n",
       "      <th>2</th>\n",
       "      <td>433</td>\n",
       "      <td>10/13/2014 10:33:00 AM</td>\n",
       "      <td>10/13/2014 10:48:00 AM</td>\n",
       "      <td>SEA00486</td>\n",
       "      <td>883.831</td>\n",
       "      <td>2nd Ave &amp; Spring St</td>\n",
       "      <td>Occidental Park / Occidental Ave S &amp; S Washing...</td>\n",
       "      <td>CBD-06</td>\n",
       "      <td>PS-04</td>\n",
       "      <td>Member</td>\n",
       "      <td>Female</td>\n",
       "      <td>1988.0</td>\n",
       "    </tr>\n",
       "    <tr>\n",
       "      <th>3</th>\n",
       "      <td>434</td>\n",
       "      <td>10/13/2014 10:34:00 AM</td>\n",
       "      <td>10/13/2014 10:48:00 AM</td>\n",
       "      <td>SEA00333</td>\n",
       "      <td>865.937</td>\n",
       "      <td>2nd Ave &amp; Spring St</td>\n",
       "      <td>Occidental Park / Occidental Ave S &amp; S Washing...</td>\n",
       "      <td>CBD-06</td>\n",
       "      <td>PS-04</td>\n",
       "      <td>Member</td>\n",
       "      <td>Female</td>\n",
       "      <td>1977.0</td>\n",
       "    </tr>\n",
       "    <tr>\n",
       "      <th>4</th>\n",
       "      <td>435</td>\n",
       "      <td>10/13/2014 10:34:00 AM</td>\n",
       "      <td>10/13/2014 10:49:00 AM</td>\n",
       "      <td>SEA00202</td>\n",
       "      <td>923.923</td>\n",
       "      <td>2nd Ave &amp; Spring St</td>\n",
       "      <td>Occidental Park / Occidental Ave S &amp; S Washing...</td>\n",
       "      <td>CBD-06</td>\n",
       "      <td>PS-04</td>\n",
       "      <td>Member</td>\n",
       "      <td>Male</td>\n",
       "      <td>1971.0</td>\n",
       "    </tr>\n",
       "  </tbody>\n",
       "</table>\n",
       "</div>"
      ],
      "text/plain": [
       "   trip_id               starttime                stoptime    bikeid  \\\n",
       "0      431  10/13/2014 10:31:00 AM  10/13/2014 10:48:00 AM  SEA00298   \n",
       "1      432  10/13/2014 10:32:00 AM  10/13/2014 10:48:00 AM  SEA00195   \n",
       "2      433  10/13/2014 10:33:00 AM  10/13/2014 10:48:00 AM  SEA00486   \n",
       "3      434  10/13/2014 10:34:00 AM  10/13/2014 10:48:00 AM  SEA00333   \n",
       "4      435  10/13/2014 10:34:00 AM  10/13/2014 10:49:00 AM  SEA00202   \n",
       "\n",
       "   tripduration    from_station_name  \\\n",
       "0       985.935  2nd Ave & Spring St   \n",
       "1       926.375  2nd Ave & Spring St   \n",
       "2       883.831  2nd Ave & Spring St   \n",
       "3       865.937  2nd Ave & Spring St   \n",
       "4       923.923  2nd Ave & Spring St   \n",
       "\n",
       "                                     to_station_name from_station_id  \\\n",
       "0  Occidental Park / Occidental Ave S & S Washing...          CBD-06   \n",
       "1  Occidental Park / Occidental Ave S & S Washing...          CBD-06   \n",
       "2  Occidental Park / Occidental Ave S & S Washing...          CBD-06   \n",
       "3  Occidental Park / Occidental Ave S & S Washing...          CBD-06   \n",
       "4  Occidental Park / Occidental Ave S & S Washing...          CBD-06   \n",
       "\n",
       "  to_station_id usertype  gender  birthyear  \n",
       "0         PS-04   Member    Male     1960.0  \n",
       "1         PS-04   Member    Male     1970.0  \n",
       "2         PS-04   Member  Female     1988.0  \n",
       "3         PS-04   Member  Female     1977.0  \n",
       "4         PS-04   Member    Male     1971.0  "
      ]
     },
     "execution_count": 39,
     "metadata": {},
     "output_type": "execute_result"
    }
   ],
   "source": [
    "df.head()"
   ]
  },
  {
   "cell_type": "code",
   "execution_count": 40,
   "metadata": {},
   "outputs": [
    {
     "data": {
      "text/plain": [
       "0         10/13/2014 10:48:00 AM\n",
       "1         10/13/2014 10:48:00 AM\n",
       "2         10/13/2014 10:48:00 AM\n",
       "3         10/13/2014 10:48:00 AM\n",
       "4         10/13/2014 10:49:00 AM\n",
       "                   ...          \n",
       "275086    04/01/2017 02:11:00 AM\n",
       "275087    04/01/2017 02:11:00 AM\n",
       "275088    04/01/2017 12:04:00 AM\n",
       "275089    04/01/2017 12:04:00 AM\n",
       "275090    04/01/2017 02:33:00 AM\n",
       "Name: stoptime, Length: 275091, dtype: object"
      ]
     },
     "execution_count": 40,
     "metadata": {},
     "output_type": "execute_result"
    }
   ],
   "source": [
    "df_small = df['stoptime']\n",
    "df_small"
   ]
  },
  {
   "cell_type": "code",
   "execution_count": 41,
   "metadata": {},
   "outputs": [
    {
     "data": {
      "text/plain": [
       "pandas.core.series.Series"
      ]
     },
     "execution_count": 41,
     "metadata": {},
     "output_type": "execute_result"
    }
   ],
   "source": [
    "type(df_small)"
   ]
  },
  {
   "cell_type": "code",
   "execution_count": 42,
   "metadata": {},
   "outputs": [
    {
     "data": {
      "text/plain": [
       "0    10/13/2014 10:48:00 AM\n",
       "1    10/13/2014 10:48:00 AM\n",
       "2    10/13/2014 10:48:00 AM\n",
       "3    10/13/2014 10:48:00 AM\n",
       "4    10/13/2014 10:49:00 AM\n",
       "Name: stoptime, dtype: object"
      ]
     },
     "execution_count": 42,
     "metadata": {},
     "output_type": "execute_result"
    }
   ],
   "source": [
    "df_small.head()"
   ]
  },
  {
   "cell_type": "code",
   "execution_count": 43,
   "metadata": {},
   "outputs": [
    {
     "data": {
      "text/plain": [
       "pandas.core.series.Series"
      ]
     },
     "execution_count": 43,
     "metadata": {},
     "output_type": "execute_result"
    }
   ],
   "source": [
    "type(df_small)"
   ]
  },
  {
   "cell_type": "code",
   "execution_count": 44,
   "metadata": {},
   "outputs": [
    {
     "data": {
      "text/plain": [
       "['10/13/2014 10:48:00 AM',\n",
       " '10/13/2014 10:48:00 AM',\n",
       " '10/13/2014 10:48:00 AM',\n",
       " '10/13/2014 10:48:00 AM',\n",
       " '10/13/2014 10:49:00 AM',\n",
       " '10/13/2014 10:47:00 AM',\n",
       " '10/13/2014 11:45:00 AM',\n",
       " '10/13/2014 11:45:00 AM',\n",
       " '10/13/2014 11:45:00 AM',\n",
       " '10/13/2014 11:45:00 AM',\n",
       " '10/13/2014 11:45:00 AM',\n",
       " '10/13/2014 11:47:00 AM',\n",
       " '10/13/2014 11:47:00 AM',\n",
       " '10/13/2014 11:47:00 AM',\n",
       " '10/13/2014 11:47:00 AM',\n",
       " '10/13/2014 11:47:00 AM',\n",
       " '10/13/2014 11:47:00 AM',\n",
       " '10/13/2014 11:47:00 AM',\n",
       " '10/13/2014 11:49:00 AM',\n",
       " '10/13/2014 11:51:00 AM',\n",
       " '10/13/2014 11:51:00 AM',\n",
       " '10/13/2014 11:51:00 AM',\n",
       " '10/13/2014 11:49:00 AM',\n",
       " '10/13/2014 11:51:00 AM',\n",
       " '10/13/2014 11:51:00 AM',\n",
       " '10/13/2014 11:52:00 AM',\n",
       " '10/13/2014 11:51:00 AM',\n",
       " '10/13/2014 11:51:00 AM',\n",
       " '10/13/2014 11:51:00 AM',\n",
       " '10/13/2014 11:55:00 AM',\n",
       " '10/13/2014 12:00:00 PM',\n",
       " '10/13/2014 12:00:00 PM',\n",
       " '10/13/2014 12:00:00 PM',\n",
       " '10/13/2014 12:02:00 PM',\n",
       " '10/13/2014 12:00:00 PM',\n",
       " '10/13/2014 12:00:00 PM',\n",
       " '10/13/2014 11:51:00 AM',\n",
       " '10/13/2014 11:59:00 AM',\n",
       " '10/13/2014 12:00:00 PM',\n",
       " '10/13/2014 11:59:00 AM',\n",
       " '10/13/2014 11:59:00 AM',\n",
       " '10/13/2014 11:59:00 AM',\n",
       " '10/13/2014 12:06:00 PM',\n",
       " '10/13/2014 12:01:00 PM',\n",
       " '10/13/2014 12:04:00 PM',\n",
       " '10/13/2014 12:01:00 PM',\n",
       " '10/13/2014 12:11:00 PM',\n",
       " '10/13/2014 12:11:00 PM',\n",
       " '10/13/2014 12:04:00 PM',\n",
       " '10/13/2014 12:01:00 PM',\n",
       " '10/13/2014 12:04:00 PM',\n",
       " '10/13/2014 12:05:00 PM',\n",
       " '10/13/2014 12:04:00 PM',\n",
       " '10/13/2014 11:55:00 AM',\n",
       " '10/13/2014 12:02:00 PM',\n",
       " '10/13/2014 12:39:00 PM',\n",
       " '10/13/2014 12:39:00 PM',\n",
       " '10/13/2014 12:05:00 PM',\n",
       " '10/13/2014 12:39:00 PM',\n",
       " '10/13/2014 12:19:00 PM',\n",
       " '10/13/2014 12:40:00 PM',\n",
       " '10/13/2014 12:20:00 PM',\n",
       " '10/13/2014 02:28:00 PM',\n",
       " '10/13/2014 12:10:00 PM',\n",
       " '10/13/2014 12:13:00 PM',\n",
       " '10/13/2014 12:13:00 PM',\n",
       " '10/13/2014 12:16:00 PM',\n",
       " '10/13/2014 12:45:00 PM',\n",
       " '10/13/2014 07:07:00 PM',\n",
       " '10/13/2014 12:16:00 PM',\n",
       " '10/13/2014 12:25:00 PM',\n",
       " '10/13/2014 12:20:00 PM',\n",
       " '10/13/2014 12:31:00 PM',\n",
       " '10/13/2014 12:31:00 PM',\n",
       " '10/13/2014 12:31:00 PM',\n",
       " '10/13/2014 12:22:00 PM',\n",
       " '10/13/2014 12:21:00 PM',\n",
       " '10/13/2014 12:34:00 PM',\n",
       " '10/13/2014 12:31:00 PM',\n",
       " '10/13/2014 12:26:00 PM',\n",
       " '10/13/2014 12:32:00 PM',\n",
       " '10/13/2014 12:57:00 PM',\n",
       " '10/13/2014 12:57:00 PM',\n",
       " '10/13/2014 01:21:00 PM',\n",
       " '10/13/2014 12:36:00 PM',\n",
       " '10/13/2014 12:40:00 PM',\n",
       " '10/13/2014 12:40:00 PM',\n",
       " '10/13/2014 12:47:00 PM',\n",
       " '10/13/2014 12:46:00 PM',\n",
       " '10/13/2014 12:45:00 PM',\n",
       " '10/13/2014 12:48:00 PM',\n",
       " '10/13/2014 12:47:00 PM',\n",
       " '10/13/2014 12:51:00 PM',\n",
       " '10/13/2014 12:58:00 PM',\n",
       " '10/13/2014 12:52:00 PM',\n",
       " '10/13/2014 12:58:00 PM',\n",
       " '10/13/2014 12:59:00 PM',\n",
       " '10/13/2014 01:15:00 PM',\n",
       " '10/13/2014 01:04:00 PM',\n",
       " '10/13/2014 01:18:00 PM',\n",
       " '10/13/2014 01:16:00 PM',\n",
       " '10/13/2014 01:13:00 PM',\n",
       " '10/13/2014 01:10:00 PM',\n",
       " '10/13/2014 01:12:00 PM',\n",
       " '10/13/2014 01:16:00 PM',\n",
       " '10/13/2014 01:14:00 PM',\n",
       " '10/13/2014 01:30:00 PM',\n",
       " '10/13/2014 01:22:00 PM',\n",
       " '10/13/2014 01:22:00 PM',\n",
       " '10/13/2014 01:15:00 PM',\n",
       " '10/13/2014 01:09:00 PM',\n",
       " '10/13/2014 01:18:00 PM',\n",
       " '10/13/2014 01:27:00 PM',\n",
       " '10/13/2014 01:24:00 PM',\n",
       " '10/13/2014 01:30:00 PM',\n",
       " '10/13/2014 01:33:00 PM',\n",
       " '10/13/2014 01:33:00 PM',\n",
       " '10/13/2014 01:33:00 PM',\n",
       " '10/13/2014 01:42:00 PM',\n",
       " '10/13/2014 01:42:00 PM',\n",
       " '10/13/2014 01:42:00 PM',\n",
       " '10/13/2014 12:47:00 PM',\n",
       " '10/13/2014 12:49:00 PM',\n",
       " '10/13/2014 01:44:00 PM',\n",
       " '10/13/2014 02:29:00 PM',\n",
       " '10/13/2014 01:52:00 PM',\n",
       " '10/13/2014 02:22:00 PM',\n",
       " '10/13/2014 01:45:00 PM',\n",
       " '10/13/2014 01:55:00 PM',\n",
       " '10/13/2014 01:56:00 PM',\n",
       " '10/13/2014 02:03:00 PM',\n",
       " '10/13/2014 01:52:00 PM',\n",
       " '10/13/2014 02:09:00 PM',\n",
       " '10/13/2014 02:09:00 PM',\n",
       " '10/13/2014 01:49:00 PM',\n",
       " '10/13/2014 02:09:00 PM',\n",
       " '10/13/2014 01:56:00 PM',\n",
       " '10/13/2014 01:59:00 PM',\n",
       " '10/13/2014 02:08:00 PM',\n",
       " '10/13/2014 02:05:00 PM',\n",
       " '10/13/2014 02:12:00 PM',\n",
       " '10/13/2014 02:07:00 PM',\n",
       " '10/13/2014 02:35:00 PM',\n",
       " '10/13/2014 02:35:00 PM',\n",
       " '10/13/2014 02:07:00 PM',\n",
       " '10/13/2014 02:11:00 PM',\n",
       " '10/13/2014 02:12:00 PM',\n",
       " '10/13/2014 02:35:00 PM',\n",
       " '10/13/2014 02:18:00 PM',\n",
       " '10/13/2014 02:18:00 PM',\n",
       " '10/13/2014 02:18:00 PM',\n",
       " '10/13/2014 02:18:00 PM',\n",
       " '10/13/2014 02:39:00 PM',\n",
       " '10/13/2014 02:39:00 PM',\n",
       " '10/13/2014 02:16:00 PM',\n",
       " '10/13/2014 02:39:00 PM',\n",
       " '10/13/2014 02:39:00 PM',\n",
       " '10/13/2014 03:08:00 PM',\n",
       " '10/13/2014 02:38:00 PM',\n",
       " '10/13/2014 02:38:00 PM',\n",
       " '10/13/2014 02:20:00 PM',\n",
       " '10/13/2014 02:24:00 PM',\n",
       " '10/13/2014 02:38:00 PM',\n",
       " '10/13/2014 02:26:00 PM',\n",
       " '10/13/2014 02:34:00 PM',\n",
       " '10/13/2014 02:34:00 PM',\n",
       " '10/13/2014 02:31:00 PM',\n",
       " '10/13/2014 02:26:00 PM',\n",
       " '10/13/2014 02:29:00 PM',\n",
       " '10/13/2014 02:48:00 PM',\n",
       " '10/13/2014 02:48:00 PM',\n",
       " '10/13/2014 02:51:00 PM',\n",
       " '10/13/2014 02:37:00 PM',\n",
       " '10/13/2014 02:33:00 PM',\n",
       " '10/13/2014 02:34:00 PM',\n",
       " '10/13/2014 02:31:00 PM',\n",
       " '10/13/2014 02:30:00 PM',\n",
       " '10/13/2014 02:49:00 PM',\n",
       " '10/13/2014 02:40:00 PM',\n",
       " '10/13/2014 02:56:00 PM',\n",
       " '10/13/2014 02:56:00 PM',\n",
       " '10/13/2014 02:39:00 PM',\n",
       " '10/13/2014 02:49:00 PM',\n",
       " '10/13/2014 02:56:00 PM',\n",
       " '10/13/2014 02:55:00 PM',\n",
       " '10/13/2014 02:56:00 PM',\n",
       " '10/13/2014 02:56:00 PM',\n",
       " '10/13/2014 03:01:00 PM',\n",
       " '10/13/2014 02:54:00 PM',\n",
       " '10/13/2014 02:56:00 PM',\n",
       " '10/13/2014 02:56:00 PM',\n",
       " '10/13/2014 03:09:00 PM',\n",
       " '10/13/2014 03:10:00 PM',\n",
       " '10/13/2014 05:59:00 PM',\n",
       " '10/13/2014 03:02:00 PM',\n",
       " '10/13/2014 03:13:00 PM',\n",
       " '10/13/2014 03:10:00 PM',\n",
       " '10/13/2014 03:16:00 PM',\n",
       " '10/13/2014 03:11:00 PM',\n",
       " '10/13/2014 03:11:00 PM',\n",
       " '10/13/2014 03:23:00 PM',\n",
       " '10/13/2014 03:23:00 PM',\n",
       " '10/13/2014 03:25:00 PM',\n",
       " '10/13/2014 03:53:00 PM',\n",
       " '10/13/2014 03:47:00 PM',\n",
       " '10/13/2014 03:20:00 PM',\n",
       " '10/13/2014 03:53:00 PM',\n",
       " '10/13/2014 03:57:00 PM',\n",
       " '10/13/2014 05:16:00 PM',\n",
       " '10/13/2014 03:27:00 PM',\n",
       " '10/13/2014 03:36:00 PM',\n",
       " '10/13/2014 03:50:00 PM',\n",
       " '10/13/2014 03:48:00 PM',\n",
       " '10/13/2014 03:37:00 PM',\n",
       " '10/13/2014 03:47:00 PM',\n",
       " '10/13/2014 03:48:00 PM',\n",
       " '10/13/2014 03:48:00 PM',\n",
       " '10/13/2014 03:57:00 PM',\n",
       " '10/13/2014 03:59:00 PM',\n",
       " '10/13/2014 04:05:00 PM',\n",
       " '10/13/2014 04:08:00 PM',\n",
       " '10/13/2014 04:07:00 PM',\n",
       " '10/13/2014 03:57:00 PM',\n",
       " '10/13/2014 04:00:00 PM',\n",
       " '10/13/2014 04:16:00 PM',\n",
       " '10/13/2014 05:08:00 PM',\n",
       " '10/13/2014 04:22:00 PM',\n",
       " '10/13/2014 04:10:00 PM',\n",
       " '10/13/2014 04:10:00 PM',\n",
       " '10/13/2014 04:05:00 PM',\n",
       " '10/13/2014 04:05:00 PM',\n",
       " '10/13/2014 04:13:00 PM',\n",
       " '10/13/2014 04:20:00 PM',\n",
       " '10/13/2014 04:10:00 PM',\n",
       " '10/13/2014 04:15:00 PM',\n",
       " '10/13/2014 04:15:00 PM',\n",
       " '10/13/2014 04:30:00 PM',\n",
       " '10/13/2014 04:19:00 PM',\n",
       " '10/13/2014 04:28:00 PM',\n",
       " '10/13/2014 04:24:00 PM',\n",
       " '10/13/2014 04:47:00 PM',\n",
       " '10/13/2014 04:46:00 PM',\n",
       " '10/13/2014 04:22:00 PM',\n",
       " '10/13/2014 04:24:00 PM',\n",
       " '10/13/2014 04:22:00 PM',\n",
       " '10/13/2014 04:42:00 PM',\n",
       " '10/13/2014 04:37:00 PM',\n",
       " '10/13/2014 04:37:00 PM',\n",
       " '10/13/2014 04:47:00 PM',\n",
       " '10/13/2014 04:32:00 PM',\n",
       " '10/13/2014 04:47:00 PM',\n",
       " '10/13/2014 04:48:00 PM',\n",
       " '10/13/2014 04:40:00 PM',\n",
       " '10/13/2014 04:33:00 PM',\n",
       " '10/13/2014 04:33:00 PM',\n",
       " '10/13/2014 04:39:00 PM',\n",
       " '10/13/2014 04:42:00 PM',\n",
       " '10/13/2014 04:51:00 PM',\n",
       " '10/13/2014 04:51:00 PM',\n",
       " '10/13/2014 04:45:00 PM',\n",
       " '10/13/2014 04:48:00 PM',\n",
       " '10/13/2014 04:50:00 PM',\n",
       " '10/13/2014 04:58:00 PM',\n",
       " '10/13/2014 05:11:00 PM',\n",
       " '10/13/2014 05:14:00 PM',\n",
       " '10/13/2014 04:54:00 PM',\n",
       " '10/13/2014 05:14:00 PM',\n",
       " '10/13/2014 05:14:00 PM',\n",
       " '10/13/2014 05:03:00 PM',\n",
       " '10/13/2014 05:07:00 PM',\n",
       " '10/13/2014 05:14:00 PM',\n",
       " '10/13/2014 05:19:00 PM',\n",
       " '10/13/2014 05:01:00 PM',\n",
       " '10/13/2014 05:12:00 PM',\n",
       " '10/13/2014 05:16:00 PM',\n",
       " '10/13/2014 05:10:00 PM',\n",
       " '10/13/2014 05:19:00 PM',\n",
       " '10/13/2014 05:20:00 PM',\n",
       " '10/13/2014 05:19:00 PM',\n",
       " '10/13/2014 05:19:00 PM',\n",
       " '10/13/2014 05:16:00 PM',\n",
       " '10/13/2014 05:07:00 PM',\n",
       " '10/13/2014 05:21:00 PM',\n",
       " '10/13/2014 05:20:00 PM',\n",
       " '10/13/2014 05:18:00 PM',\n",
       " '10/13/2014 05:20:00 PM',\n",
       " '10/13/2014 05:15:00 PM',\n",
       " '10/13/2014 05:15:00 PM',\n",
       " '10/13/2014 05:27:00 PM',\n",
       " '10/13/2014 05:20:00 PM',\n",
       " '10/13/2014 05:25:00 PM',\n",
       " '10/13/2014 05:23:00 PM',\n",
       " '10/13/2014 05:32:00 PM',\n",
       " '10/13/2014 05:31:00 PM',\n",
       " '10/13/2014 05:30:00 PM',\n",
       " '10/13/2014 05:39:00 PM',\n",
       " '10/13/2014 05:43:00 PM',\n",
       " '10/13/2014 05:52:00 PM',\n",
       " '10/13/2014 05:52:00 PM',\n",
       " '10/13/2014 05:32:00 PM',\n",
       " '10/13/2014 05:52:00 PM',\n",
       " '10/13/2014 06:09:00 PM',\n",
       " '10/13/2014 05:52:00 PM',\n",
       " '10/13/2014 05:53:00 PM',\n",
       " '10/13/2014 05:47:00 PM',\n",
       " '10/13/2014 05:47:00 PM',\n",
       " '10/13/2014 05:47:00 PM',\n",
       " '10/13/2014 05:48:00 PM',\n",
       " '10/13/2014 05:55:00 PM',\n",
       " '10/13/2014 05:58:00 PM',\n",
       " '10/13/2014 05:51:00 PM',\n",
       " '10/13/2014 05:44:00 PM',\n",
       " '10/13/2014 05:55:00 PM',\n",
       " '10/13/2014 05:49:00 PM',\n",
       " '10/13/2014 06:06:00 PM',\n",
       " '10/13/2014 05:52:00 PM',\n",
       " '10/13/2014 05:58:00 PM',\n",
       " '10/13/2014 05:49:00 PM',\n",
       " '10/13/2014 06:00:00 PM',\n",
       " '10/13/2014 06:02:00 PM',\n",
       " '10/13/2014 06:11:00 PM',\n",
       " '10/13/2014 06:01:00 PM',\n",
       " '10/13/2014 06:03:00 PM',\n",
       " '10/13/2014 06:18:00 PM',\n",
       " '10/13/2014 06:03:00 PM',\n",
       " '10/13/2014 07:28:00 PM',\n",
       " '10/13/2014 06:27:00 PM',\n",
       " '10/13/2014 06:27:00 PM',\n",
       " '10/13/2014 06:07:00 PM',\n",
       " '10/13/2014 06:28:00 PM',\n",
       " '10/13/2014 06:19:00 PM',\n",
       " '10/13/2014 06:27:00 PM',\n",
       " '10/13/2014 06:08:00 PM',\n",
       " '10/13/2014 06:15:00 PM',\n",
       " '10/13/2014 06:11:00 PM',\n",
       " '10/13/2014 06:16:00 PM',\n",
       " '10/13/2014 06:13:00 PM',\n",
       " '10/13/2014 06:13:00 PM',\n",
       " '10/13/2014 06:34:00 PM',\n",
       " '10/13/2014 06:19:00 PM',\n",
       " '10/13/2014 06:30:00 PM',\n",
       " '10/13/2014 06:35:00 PM',\n",
       " '10/13/2014 06:28:00 PM',\n",
       " '10/13/2014 06:31:00 PM',\n",
       " '10/13/2014 06:30:00 PM',\n",
       " '10/13/2014 06:43:00 PM',\n",
       " '10/13/2014 06:32:00 PM',\n",
       " '10/13/2014 06:44:00 PM',\n",
       " '10/13/2014 06:44:00 PM',\n",
       " '10/13/2014 06:33:00 PM',\n",
       " '10/13/2014 06:46:00 PM',\n",
       " '10/13/2014 06:46:00 PM',\n",
       " '10/13/2014 06:38:00 PM',\n",
       " '10/13/2014 06:46:00 PM',\n",
       " '10/13/2014 06:46:00 PM',\n",
       " '10/13/2014 06:38:00 PM',\n",
       " '10/13/2014 06:43:00 PM',\n",
       " '10/13/2014 06:43:00 PM',\n",
       " '10/13/2014 06:54:00 PM',\n",
       " '10/13/2014 06:49:00 PM',\n",
       " '10/13/2014 06:54:00 PM',\n",
       " '10/13/2014 07:10:00 PM',\n",
       " '10/13/2014 07:47:00 PM',\n",
       " '10/13/2014 07:48:00 PM',\n",
       " '10/13/2014 06:53:00 PM',\n",
       " '10/13/2014 07:05:00 PM',\n",
       " '10/13/2014 06:54:00 PM',\n",
       " '10/13/2014 07:05:00 PM',\n",
       " '10/13/2014 07:19:00 PM',\n",
       " '10/13/2014 07:47:00 PM',\n",
       " '10/13/2014 07:46:00 PM',\n",
       " '10/13/2014 07:39:00 PM',\n",
       " '10/13/2014 07:39:00 PM',\n",
       " '10/13/2014 07:47:00 PM',\n",
       " '10/13/2014 07:46:00 PM',\n",
       " '10/13/2014 07:56:00 PM',\n",
       " '10/13/2014 07:45:00 PM',\n",
       " '10/13/2014 08:12:00 PM',\n",
       " '10/13/2014 08:15:00 PM',\n",
       " '10/13/2014 08:14:00 PM',\n",
       " '10/13/2014 08:08:00 PM',\n",
       " '10/13/2014 08:22:00 PM',\n",
       " '10/13/2014 08:19:00 PM',\n",
       " '10/13/2014 08:28:00 PM',\n",
       " '10/13/2014 08:33:00 PM',\n",
       " '10/13/2014 09:24:00 PM',\n",
       " '10/13/2014 08:52:00 PM',\n",
       " '10/13/2014 08:38:00 PM',\n",
       " '10/13/2014 08:52:00 PM',\n",
       " '10/13/2014 08:57:00 PM',\n",
       " '10/13/2014 08:49:00 PM',\n",
       " '10/13/2014 09:18:00 PM',\n",
       " '10/13/2014 09:26:00 PM',\n",
       " '10/13/2014 09:11:00 PM',\n",
       " '10/13/2014 09:21:00 PM',\n",
       " '10/13/2014 09:20:00 PM',\n",
       " '10/13/2014 09:39:00 PM',\n",
       " '10/13/2014 09:28:00 PM',\n",
       " '10/13/2014 09:41:00 PM',\n",
       " '10/13/2014 09:54:00 PM',\n",
       " '10/13/2014 09:59:00 PM',\n",
       " '10/13/2014 09:57:00 PM',\n",
       " '10/13/2014 10:05:00 PM',\n",
       " '10/13/2014 10:08:00 PM',\n",
       " '10/13/2014 10:22:00 PM',\n",
       " '10/13/2014 10:32:00 PM',\n",
       " '10/13/2014 11:17:00 PM',\n",
       " '10/13/2014 11:15:00 PM',\n",
       " '10/14/2014 06:52:00 AM',\n",
       " '10/14/2014 05:57:00 AM',\n",
       " '10/14/2014 06:14:00 AM',\n",
       " '10/14/2014 06:36:00 AM',\n",
       " '10/14/2014 06:42:00 AM',\n",
       " '10/14/2014 06:50:00 AM',\n",
       " '10/14/2014 06:50:00 AM',\n",
       " '10/14/2014 07:21:00 AM',\n",
       " '10/14/2014 07:28:00 AM',\n",
       " '10/14/2014 07:29:00 AM',\n",
       " '10/14/2014 07:36:00 AM',\n",
       " '10/14/2014 07:34:00 AM',\n",
       " '10/14/2014 07:34:00 AM',\n",
       " '10/14/2014 07:39:00 AM',\n",
       " '10/14/2014 07:50:00 AM',\n",
       " '10/14/2014 07:50:00 AM',\n",
       " '10/14/2014 07:48:00 AM',\n",
       " '10/14/2014 07:45:00 AM',\n",
       " '10/14/2014 07:48:00 AM',\n",
       " '10/14/2014 07:58:00 AM',\n",
       " '10/14/2014 08:00:00 AM',\n",
       " '10/14/2014 07:50:00 AM',\n",
       " '10/14/2014 07:55:00 AM',\n",
       " '10/14/2014 08:05:00 AM',\n",
       " '10/14/2014 08:01:00 AM',\n",
       " '10/14/2014 08:18:00 AM',\n",
       " '10/14/2014 08:03:00 AM',\n",
       " '10/14/2014 08:14:00 AM',\n",
       " '10/14/2014 08:06:00 AM',\n",
       " '10/14/2014 08:06:00 AM',\n",
       " '10/14/2014 08:09:00 AM',\n",
       " '10/14/2014 08:12:00 AM',\n",
       " '10/14/2014 08:16:00 AM',\n",
       " '10/14/2014 08:11:00 AM',\n",
       " '10/14/2014 08:09:00 AM',\n",
       " '10/14/2014 08:14:00 AM',\n",
       " '10/14/2014 08:19:00 AM',\n",
       " '10/14/2014 08:37:00 AM',\n",
       " '10/14/2014 08:19:00 AM',\n",
       " '10/14/2014 10:11:00 AM',\n",
       " '10/14/2014 08:17:00 AM',\n",
       " '10/14/2014 08:29:00 AM',\n",
       " '10/14/2014 08:26:00 AM',\n",
       " '10/14/2014 08:30:00 AM',\n",
       " '10/14/2014 08:41:00 AM',\n",
       " '10/14/2014 08:31:00 AM',\n",
       " '10/14/2014 08:33:00 AM',\n",
       " '10/14/2014 08:33:00 AM',\n",
       " '10/14/2014 08:38:00 AM',\n",
       " '10/14/2014 08:44:00 AM',\n",
       " '10/14/2014 08:39:00 AM',\n",
       " '10/14/2014 08:54:00 AM',\n",
       " '10/14/2014 08:46:00 AM',\n",
       " '10/14/2014 08:45:00 AM',\n",
       " '10/14/2014 08:48:00 AM',\n",
       " '10/14/2014 09:00:00 AM',\n",
       " '10/14/2014 09:14:00 AM',\n",
       " '10/14/2014 08:50:00 AM',\n",
       " '10/14/2014 08:59:00 AM',\n",
       " '10/14/2014 08:54:00 AM',\n",
       " '10/14/2014 09:17:00 AM',\n",
       " '10/14/2014 09:26:00 AM',\n",
       " '10/14/2014 09:04:00 AM',\n",
       " '10/14/2014 09:02:00 AM',\n",
       " '10/14/2014 09:18:00 AM',\n",
       " '10/14/2014 09:10:00 AM',\n",
       " '10/14/2014 09:17:00 AM',\n",
       " '10/14/2014 01:20:00 PM',\n",
       " '10/14/2014 09:26:00 AM',\n",
       " '10/14/2014 09:20:00 AM',\n",
       " '10/14/2014 09:30:00 AM',\n",
       " '10/14/2014 09:37:00 AM',\n",
       " '10/14/2014 09:32:00 AM',\n",
       " '10/14/2014 09:38:00 AM',\n",
       " '10/14/2014 09:41:00 AM',\n",
       " '10/14/2014 09:40:00 AM',\n",
       " '10/14/2014 09:45:00 AM',\n",
       " '10/14/2014 09:40:00 AM',\n",
       " '10/14/2014 10:15:00 AM',\n",
       " '10/14/2014 10:15:00 AM',\n",
       " '10/14/2014 09:44:00 AM',\n",
       " '10/14/2014 09:54:00 AM',\n",
       " '10/14/2014 11:59:00 AM',\n",
       " '10/14/2014 09:54:00 AM',\n",
       " '10/14/2014 10:00:00 AM',\n",
       " '10/14/2014 10:10:00 AM',\n",
       " '10/14/2014 10:05:00 AM',\n",
       " '10/14/2014 10:01:00 AM',\n",
       " '10/14/2014 10:08:00 AM',\n",
       " '10/14/2014 10:09:00 AM',\n",
       " '10/14/2014 10:27:00 AM',\n",
       " '10/14/2014 10:08:00 AM',\n",
       " '10/14/2014 10:17:00 AM',\n",
       " '10/14/2014 10:10:00 AM',\n",
       " '10/14/2014 10:30:00 AM',\n",
       " '10/14/2014 10:30:00 AM',\n",
       " '10/14/2014 10:23:00 AM',\n",
       " '10/14/2014 10:24:00 AM',\n",
       " '10/14/2014 10:34:00 AM',\n",
       " '10/14/2014 10:53:00 AM',\n",
       " '10/14/2014 10:53:00 AM',\n",
       " '10/14/2014 10:51:00 AM',\n",
       " '10/14/2014 10:48:00 AM',\n",
       " '10/14/2014 10:53:00 AM',\n",
       " '10/14/2014 05:19:00 PM',\n",
       " '10/14/2014 11:01:00 AM',\n",
       " '10/14/2014 11:01:00 AM',\n",
       " '10/14/2014 11:07:00 AM',\n",
       " '10/14/2014 11:27:00 AM',\n",
       " '10/14/2014 11:25:00 AM',\n",
       " '10/14/2014 11:13:00 AM',\n",
       " '10/14/2014 11:13:00 AM',\n",
       " '10/14/2014 11:17:00 AM',\n",
       " '10/14/2014 11:18:00 AM',\n",
       " '10/14/2014 11:18:00 AM',\n",
       " '10/14/2014 11:20:00 AM',\n",
       " '10/14/2014 11:27:00 AM',\n",
       " '10/14/2014 11:27:00 AM',\n",
       " '10/14/2014 11:27:00 AM',\n",
       " '10/14/2014 11:32:00 AM',\n",
       " '10/14/2014 11:26:00 AM',\n",
       " '10/14/2014 11:35:00 AM',\n",
       " '10/14/2014 12:16:00 PM',\n",
       " '10/14/2014 12:16:00 PM',\n",
       " '10/14/2014 11:38:00 AM',\n",
       " '10/14/2014 11:43:00 AM',\n",
       " '10/14/2014 11:43:00 AM',\n",
       " '10/14/2014 11:43:00 AM',\n",
       " '10/14/2014 11:54:00 AM',\n",
       " '10/14/2014 11:54:00 AM',\n",
       " '10/14/2014 11:54:00 AM',\n",
       " '10/14/2014 11:54:00 AM',\n",
       " '10/14/2014 11:49:00 AM',\n",
       " '10/14/2014 11:55:00 AM',\n",
       " '10/14/2014 11:54:00 AM',\n",
       " '10/14/2014 11:57:00 AM',\n",
       " '10/14/2014 11:56:00 AM',\n",
       " '10/14/2014 12:02:00 PM',\n",
       " '10/14/2014 12:06:00 PM',\n",
       " '10/14/2014 11:56:00 AM',\n",
       " '10/14/2014 12:11:00 PM',\n",
       " '10/14/2014 02:11:00 PM',\n",
       " '10/14/2014 02:11:00 PM',\n",
       " '10/14/2014 12:11:00 PM',\n",
       " '10/14/2014 12:11:00 PM',\n",
       " '10/14/2014 11:58:00 AM',\n",
       " '10/14/2014 12:11:00 PM',\n",
       " '10/14/2014 12:00:00 PM',\n",
       " '10/14/2014 12:26:00 PM',\n",
       " '10/14/2014 12:13:00 PM',\n",
       " '10/14/2014 12:11:00 PM',\n",
       " '10/14/2014 12:11:00 PM',\n",
       " '10/14/2014 12:11:00 PM',\n",
       " '10/14/2014 12:10:00 PM',\n",
       " '10/14/2014 12:11:00 PM',\n",
       " '10/14/2014 12:17:00 PM',\n",
       " '10/14/2014 12:21:00 PM',\n",
       " '10/14/2014 12:54:00 PM',\n",
       " '10/14/2014 12:45:00 PM',\n",
       " '10/14/2014 01:17:00 PM',\n",
       " '10/14/2014 12:21:00 PM',\n",
       " '10/14/2014 12:26:00 PM',\n",
       " '10/14/2014 12:44:00 PM',\n",
       " '10/14/2014 12:29:00 PM',\n",
       " '10/14/2014 12:30:00 PM',\n",
       " '10/14/2014 12:29:00 PM',\n",
       " '10/14/2014 12:37:00 PM',\n",
       " '10/14/2014 12:54:00 PM',\n",
       " '10/14/2014 12:38:00 PM',\n",
       " '10/14/2014 12:54:00 PM',\n",
       " '10/14/2014 12:35:00 PM',\n",
       " '10/14/2014 12:41:00 PM',\n",
       " '10/14/2014 12:34:00 PM',\n",
       " '10/14/2014 12:46:00 PM',\n",
       " '10/14/2014 12:49:00 PM',\n",
       " '10/14/2014 01:09:00 PM',\n",
       " '10/14/2014 12:40:00 PM',\n",
       " '10/14/2014 12:44:00 PM',\n",
       " '10/14/2014 01:09:00 PM',\n",
       " '10/14/2014 12:52:00 PM',\n",
       " '10/14/2014 12:55:00 PM',\n",
       " '10/14/2014 12:58:00 PM',\n",
       " '10/14/2014 12:58:00 PM',\n",
       " '10/14/2014 12:55:00 PM',\n",
       " '10/14/2014 12:54:00 PM',\n",
       " '10/14/2014 12:58:00 PM',\n",
       " '10/14/2014 01:02:00 PM',\n",
       " '10/14/2014 01:01:00 PM',\n",
       " '10/14/2014 12:59:00 PM',\n",
       " '10/14/2014 12:59:00 PM',\n",
       " '10/14/2014 01:10:00 PM',\n",
       " '10/14/2014 01:11:00 PM',\n",
       " '10/14/2014 01:01:00 PM',\n",
       " '10/14/2014 01:10:00 PM',\n",
       " '10/14/2014 02:05:00 PM',\n",
       " '10/14/2014 01:09:00 PM',\n",
       " '10/14/2014 01:31:00 PM',\n",
       " '10/14/2014 01:22:00 PM',\n",
       " '10/14/2014 01:38:00 PM',\n",
       " '10/14/2014 01:10:00 PM',\n",
       " '10/14/2014 01:20:00 PM',\n",
       " '10/14/2014 01:10:00 PM',\n",
       " '10/14/2014 01:10:00 PM',\n",
       " '10/14/2014 01:16:00 PM',\n",
       " '10/14/2014 01:17:00 PM',\n",
       " '10/14/2014 01:19:00 PM',\n",
       " '10/14/2014 01:17:00 PM',\n",
       " '10/14/2014 01:27:00 PM',\n",
       " '10/14/2014 01:30:00 PM',\n",
       " '10/14/2014 01:29:00 PM',\n",
       " '10/14/2014 01:23:00 PM',\n",
       " '10/14/2014 01:26:00 PM',\n",
       " '10/14/2014 01:30:00 PM',\n",
       " '10/14/2014 01:30:00 PM',\n",
       " '10/14/2014 01:26:00 PM',\n",
       " '10/14/2014 01:26:00 PM',\n",
       " '10/14/2014 01:25:00 PM',\n",
       " '10/14/2014 01:30:00 PM',\n",
       " '10/14/2014 01:25:00 PM',\n",
       " '10/14/2014 01:38:00 PM',\n",
       " '10/14/2014 01:42:00 PM',\n",
       " '10/14/2014 01:33:00 PM',\n",
       " '10/14/2014 01:29:00 PM',\n",
       " '10/14/2014 01:39:00 PM',\n",
       " '10/14/2014 02:15:00 PM',\n",
       " '10/14/2014 01:43:00 PM',\n",
       " '10/14/2014 01:41:00 PM',\n",
       " '10/14/2014 01:40:00 PM',\n",
       " '10/14/2014 01:43:00 PM',\n",
       " '10/14/2014 01:43:00 PM',\n",
       " '10/14/2014 03:52:00 PM',\n",
       " '10/14/2014 01:42:00 PM',\n",
       " '10/14/2014 01:56:00 PM',\n",
       " '10/14/2014 01:53:00 PM',\n",
       " '10/14/2014 01:41:00 PM',\n",
       " '10/14/2014 01:53:00 PM',\n",
       " '10/14/2014 01:55:00 PM',\n",
       " '10/14/2014 01:51:00 PM',\n",
       " '10/14/2014 02:10:00 PM',\n",
       " '10/14/2014 01:43:00 PM',\n",
       " '10/14/2014 01:44:00 PM',\n",
       " '10/14/2014 01:54:00 PM',\n",
       " '10/14/2014 01:54:00 PM',\n",
       " '10/14/2014 01:56:00 PM',\n",
       " '10/14/2014 02:27:00 PM',\n",
       " '10/14/2014 02:09:00 PM',\n",
       " '10/14/2014 02:30:00 PM',\n",
       " '10/14/2014 02:29:00 PM',\n",
       " '10/14/2014 02:10:00 PM',\n",
       " '10/14/2014 02:38:00 PM',\n",
       " '10/14/2014 02:18:00 PM',\n",
       " '10/14/2014 02:38:00 PM',\n",
       " '10/14/2014 02:16:00 PM',\n",
       " '10/14/2014 02:22:00 PM',\n",
       " '10/14/2014 02:26:00 PM',\n",
       " '10/14/2014 02:32:00 PM',\n",
       " '10/14/2014 03:51:00 PM',\n",
       " '10/14/2014 02:22:00 PM',\n",
       " '10/14/2014 02:35:00 PM',\n",
       " '10/14/2014 02:40:00 PM',\n",
       " '10/14/2014 02:31:00 PM',\n",
       " '10/14/2014 02:36:00 PM',\n",
       " '10/14/2014 02:38:00 PM',\n",
       " '10/14/2014 02:52:00 PM',\n",
       " '10/14/2014 02:54:00 PM',\n",
       " '10/14/2014 02:52:00 PM',\n",
       " '10/14/2014 03:01:00 PM',\n",
       " '10/14/2014 03:00:00 PM',\n",
       " '10/14/2014 03:09:00 PM',\n",
       " '10/14/2014 03:09:00 PM',\n",
       " '10/14/2014 02:57:00 PM',\n",
       " '10/14/2014 02:57:00 PM',\n",
       " '10/14/2014 03:03:00 PM',\n",
       " '10/14/2014 03:06:00 PM',\n",
       " '10/14/2014 03:10:00 PM',\n",
       " '10/14/2014 03:17:00 PM',\n",
       " '10/14/2014 03:17:00 PM',\n",
       " '10/14/2014 03:20:00 PM',\n",
       " '10/14/2014 03:21:00 PM',\n",
       " '10/14/2014 03:32:00 PM',\n",
       " '10/14/2014 03:42:00 PM',\n",
       " '10/14/2014 03:42:00 PM',\n",
       " '10/14/2014 03:34:00 PM',\n",
       " '10/14/2014 03:46:00 PM',\n",
       " '10/14/2014 03:45:00 PM',\n",
       " '10/14/2014 03:47:00 PM',\n",
       " '10/14/2014 03:52:00 PM',\n",
       " '10/14/2014 03:46:00 PM',\n",
       " '10/14/2014 03:46:00 PM',\n",
       " '10/14/2014 03:48:00 PM',\n",
       " '10/14/2014 04:23:00 PM',\n",
       " '10/14/2014 03:49:00 PM',\n",
       " '10/14/2014 03:48:00 PM',\n",
       " '10/14/2014 06:41:00 PM',\n",
       " '10/14/2014 03:48:00 PM',\n",
       " '10/14/2014 04:50:00 PM',\n",
       " '10/14/2014 04:00:00 PM',\n",
       " '10/14/2014 04:25:00 PM',\n",
       " '10/14/2014 06:40:00 PM',\n",
       " '10/14/2014 04:24:00 PM',\n",
       " '10/14/2014 04:25:00 PM',\n",
       " '10/14/2014 04:00:00 PM',\n",
       " '10/14/2014 04:25:00 PM',\n",
       " '10/14/2014 04:25:00 PM',\n",
       " '10/14/2014 03:57:00 PM',\n",
       " '10/14/2014 04:09:00 PM',\n",
       " '10/14/2014 04:25:00 PM',\n",
       " '10/14/2014 04:21:00 PM',\n",
       " '10/14/2014 04:21:00 PM',\n",
       " '10/14/2014 04:27:00 PM',\n",
       " '10/14/2014 04:08:00 PM',\n",
       " '10/14/2014 04:14:00 PM',\n",
       " '10/14/2014 04:17:00 PM',\n",
       " '10/14/2014 04:16:00 PM',\n",
       " '10/14/2014 05:54:00 PM',\n",
       " '10/14/2014 04:20:00 PM',\n",
       " '10/14/2014 04:41:00 PM',\n",
       " '10/14/2014 04:41:00 PM',\n",
       " '10/14/2014 04:26:00 PM',\n",
       " '10/14/2014 04:47:00 PM',\n",
       " '10/14/2014 04:39:00 PM',\n",
       " '10/14/2014 04:49:00 PM',\n",
       " '10/14/2014 04:40:00 PM',\n",
       " '10/14/2014 04:43:00 PM',\n",
       " '10/14/2014 04:46:00 PM',\n",
       " '10/14/2014 04:51:00 PM',\n",
       " '10/14/2014 04:52:00 PM',\n",
       " '10/14/2014 04:50:00 PM',\n",
       " '10/14/2014 04:50:00 PM',\n",
       " '10/14/2014 05:07:00 PM',\n",
       " '10/14/2014 05:18:00 PM',\n",
       " '10/14/2014 05:04:00 PM',\n",
       " '10/14/2014 05:01:00 PM',\n",
       " '10/14/2014 05:03:00 PM',\n",
       " '10/14/2014 04:58:00 PM',\n",
       " '10/14/2014 05:09:00 PM',\n",
       " '10/14/2014 05:08:00 PM',\n",
       " '10/14/2014 05:12:00 PM',\n",
       " '10/14/2014 05:11:00 PM',\n",
       " '10/14/2014 05:13:00 PM',\n",
       " '10/14/2014 05:07:00 PM',\n",
       " '10/14/2014 05:14:00 PM',\n",
       " '10/14/2014 05:21:00 PM',\n",
       " '10/14/2014 05:56:00 PM',\n",
       " '10/14/2014 05:25:00 PM',\n",
       " '10/14/2014 05:24:00 PM',\n",
       " '10/14/2014 05:18:00 PM',\n",
       " '10/14/2014 05:33:00 PM',\n",
       " '10/14/2014 05:26:00 PM',\n",
       " '10/14/2014 05:22:00 PM',\n",
       " '10/14/2014 05:34:00 PM',\n",
       " '10/14/2014 05:32:00 PM',\n",
       " '10/14/2014 06:55:00 PM',\n",
       " '10/14/2014 05:29:00 PM',\n",
       " '10/14/2014 05:24:00 PM',\n",
       " '10/14/2014 05:32:00 PM',\n",
       " '10/14/2014 05:30:00 PM',\n",
       " '10/14/2014 05:42:00 PM',\n",
       " '10/14/2014 05:41:00 PM',\n",
       " '10/14/2014 05:36:00 PM',\n",
       " '10/14/2014 05:37:00 PM',\n",
       " '10/14/2014 05:45:00 PM',\n",
       " '10/14/2014 05:49:00 PM',\n",
       " '10/14/2014 05:45:00 PM',\n",
       " '10/14/2014 05:44:00 PM',\n",
       " '10/14/2014 05:54:00 PM',\n",
       " '10/14/2014 05:51:00 PM',\n",
       " '10/14/2014 05:52:00 PM',\n",
       " '10/14/2014 05:47:00 PM',\n",
       " '10/14/2014 05:56:00 PM',\n",
       " '10/14/2014 05:48:00 PM',\n",
       " '10/14/2014 05:56:00 PM',\n",
       " '10/14/2014 05:56:00 PM',\n",
       " '10/14/2014 05:54:00 PM',\n",
       " '10/14/2014 05:54:00 PM',\n",
       " '10/14/2014 06:07:00 PM',\n",
       " '10/14/2014 06:10:00 PM',\n",
       " '10/14/2014 06:07:00 PM',\n",
       " '10/14/2014 06:02:00 PM',\n",
       " '10/14/2014 06:09:00 PM',\n",
       " '10/14/2014 06:04:00 PM',\n",
       " '10/14/2014 06:02:00 PM',\n",
       " '10/14/2014 07:03:00 PM',\n",
       " '10/14/2014 06:36:00 PM',\n",
       " '10/14/2014 06:06:00 PM',\n",
       " '10/14/2014 06:06:00 PM',\n",
       " '10/14/2014 06:09:00 PM',\n",
       " '10/14/2014 06:14:00 PM',\n",
       " '10/14/2014 07:04:00 PM',\n",
       " '10/14/2014 07:03:00 PM',\n",
       " '10/14/2014 06:10:00 PM',\n",
       " '10/14/2014 06:47:00 PM',\n",
       " '10/14/2014 06:24:00 PM',\n",
       " '10/14/2014 06:35:00 PM',\n",
       " '10/14/2014 06:35:00 PM',\n",
       " '10/14/2014 06:27:00 PM',\n",
       " '10/14/2014 06:27:00 PM',\n",
       " '10/14/2014 06:28:00 PM',\n",
       " '10/14/2014 06:26:00 PM',\n",
       " '10/14/2014 06:30:00 PM',\n",
       " '10/14/2014 06:29:00 PM',\n",
       " '10/14/2014 06:32:00 PM',\n",
       " '10/14/2014 06:35:00 PM',\n",
       " '10/14/2014 06:37:00 PM',\n",
       " '10/14/2014 06:30:00 PM',\n",
       " '10/14/2014 06:35:00 PM',\n",
       " '10/14/2014 06:29:00 PM',\n",
       " '10/14/2014 06:39:00 PM',\n",
       " '10/14/2014 06:34:00 PM',\n",
       " '10/14/2014 06:53:00 PM',\n",
       " '10/14/2014 06:44:00 PM',\n",
       " '10/14/2014 06:40:00 PM',\n",
       " '10/14/2014 07:09:00 PM',\n",
       " '10/14/2014 06:45:00 PM',\n",
       " '10/14/2014 06:51:00 PM',\n",
       " '10/14/2014 06:49:00 PM',\n",
       " '10/14/2014 06:52:00 PM',\n",
       " '10/14/2014 06:53:00 PM',\n",
       " '10/14/2014 06:55:00 PM',\n",
       " '10/14/2014 06:55:00 PM',\n",
       " '10/14/2014 07:02:00 PM',\n",
       " '10/14/2014 06:59:00 PM',\n",
       " '10/14/2014 06:59:00 PM',\n",
       " '10/14/2014 06:59:00 PM',\n",
       " '10/14/2014 07:03:00 PM',\n",
       " '10/14/2014 07:07:00 PM',\n",
       " '10/14/2014 07:05:00 PM',\n",
       " '10/14/2014 07:22:00 PM',\n",
       " '10/14/2014 07:12:00 PM',\n",
       " '10/14/2014 07:28:00 PM',\n",
       " '10/14/2014 07:28:00 PM',\n",
       " '10/14/2014 07:25:00 PM',\n",
       " '10/14/2014 07:16:00 PM',\n",
       " '10/14/2014 07:36:00 PM',\n",
       " '10/14/2014 07:24:00 PM',\n",
       " '10/14/2014 07:29:00 PM',\n",
       " '10/14/2014 07:47:00 PM',\n",
       " '10/14/2014 07:44:00 PM',\n",
       " '10/14/2014 07:44:00 PM',\n",
       " '10/14/2014 07:48:00 PM',\n",
       " '10/14/2014 07:48:00 PM',\n",
       " '10/14/2014 07:42:00 PM',\n",
       " '10/14/2014 07:45:00 PM',\n",
       " '10/14/2014 07:55:00 PM',\n",
       " '10/14/2014 07:48:00 PM',\n",
       " '10/14/2014 07:51:00 PM',\n",
       " '10/14/2014 08:26:00 PM',\n",
       " '10/14/2014 08:26:00 PM',\n",
       " '10/14/2014 07:51:00 PM',\n",
       " '10/14/2014 07:53:00 PM',\n",
       " '10/14/2014 09:27:00 PM',\n",
       " '10/14/2014 09:37:00 PM',\n",
       " '10/14/2014 09:26:00 PM',\n",
       " '10/14/2014 08:11:00 PM',\n",
       " '10/14/2014 08:36:00 PM',\n",
       " '10/14/2014 08:17:00 PM',\n",
       " '10/14/2014 08:36:00 PM',\n",
       " '10/14/2014 08:36:00 PM',\n",
       " '10/14/2014 08:14:00 PM',\n",
       " '10/14/2014 08:22:00 PM',\n",
       " '10/14/2014 08:22:00 PM',\n",
       " '10/14/2014 08:42:00 PM',\n",
       " '10/14/2014 08:32:00 PM',\n",
       " '10/14/2014 08:49:00 PM',\n",
       " '10/14/2014 09:39:00 PM',\n",
       " '10/14/2014 08:57:00 PM',\n",
       " '10/14/2014 09:01:00 PM',\n",
       " '10/14/2014 09:02:00 PM',\n",
       " '10/14/2014 09:04:00 PM',\n",
       " '10/14/2014 09:04:00 PM',\n",
       " '10/14/2014 09:08:00 PM',\n",
       " '10/14/2014 09:06:00 PM',\n",
       " '10/14/2014 09:16:00 PM',\n",
       " '10/14/2014 09:23:00 PM',\n",
       " '10/14/2014 09:19:00 PM',\n",
       " '10/14/2014 10:46:00 PM',\n",
       " '10/14/2014 09:26:00 PM',\n",
       " '10/14/2014 09:26:00 PM',\n",
       " '10/14/2014 09:33:00 PM',\n",
       " '10/14/2014 09:43:00 PM',\n",
       " '10/14/2014 09:46:00 PM',\n",
       " '10/14/2014 09:48:00 PM',\n",
       " '10/14/2014 10:02:00 PM',\n",
       " '10/14/2014 10:16:00 PM',\n",
       " '10/14/2014 10:30:00 PM',\n",
       " '10/14/2014 10:30:00 PM',\n",
       " '10/15/2014 04:29:00 AM',\n",
       " '10/15/2014 04:29:00 AM',\n",
       " '10/14/2014 10:50:00 PM',\n",
       " '10/14/2014 10:55:00 PM',\n",
       " '10/14/2014 11:20:00 PM',\n",
       " '10/15/2014 12:01:00 AM',\n",
       " '10/15/2014 12:18:00 AM',\n",
       " '10/15/2014 12:22:00 AM',\n",
       " '10/15/2014 12:53:00 AM',\n",
       " '10/15/2014 01:13:00 AM',\n",
       " '10/15/2014 01:59:00 AM',\n",
       " '10/15/2014 02:12:00 AM',\n",
       " '10/15/2014 06:16:00 AM',\n",
       " '10/15/2014 06:20:00 AM',\n",
       " '10/15/2014 06:47:00 AM',\n",
       " '10/15/2014 06:40:00 AM',\n",
       " '10/15/2014 06:44:00 AM',\n",
       " '10/15/2014 06:39:00 AM',\n",
       " '10/15/2014 06:47:00 AM',\n",
       " '10/15/2014 07:03:00 AM',\n",
       " '10/15/2014 07:21:00 AM',\n",
       " '10/15/2014 07:24:00 AM',\n",
       " '10/15/2014 07:22:00 AM',\n",
       " '10/15/2014 07:44:00 AM',\n",
       " '10/15/2014 07:49:00 AM',\n",
       " '10/15/2014 07:52:00 AM',\n",
       " '10/15/2014 08:01:00 AM',\n",
       " '10/15/2014 08:02:00 AM',\n",
       " '10/15/2014 08:15:00 AM',\n",
       " '10/15/2014 08:16:00 AM',\n",
       " '10/15/2014 08:13:00 AM',\n",
       " '10/15/2014 08:18:00 AM',\n",
       " '10/15/2014 08:19:00 AM',\n",
       " '10/15/2014 08:38:00 AM',\n",
       " '10/15/2014 08:35:00 AM',\n",
       " '10/15/2014 08:35:00 AM',\n",
       " '10/15/2014 08:47:00 AM',\n",
       " '10/15/2014 08:36:00 AM',\n",
       " '10/15/2014 08:52:00 AM',\n",
       " '10/15/2014 08:56:00 AM',\n",
       " '10/15/2014 09:16:00 AM',\n",
       " '10/15/2014 09:16:00 AM',\n",
       " '10/15/2014 09:09:00 AM',\n",
       " '10/15/2014 09:14:00 AM',\n",
       " '10/15/2014 09:26:00 AM',\n",
       " '10/15/2014 09:19:00 AM',\n",
       " '10/15/2014 09:23:00 AM',\n",
       " '10/15/2014 09:28:00 AM',\n",
       " '10/15/2014 09:31:00 AM',\n",
       " '10/15/2014 09:34:00 AM',\n",
       " '10/15/2014 09:27:00 AM',\n",
       " '10/15/2014 09:39:00 AM',\n",
       " '10/15/2014 09:29:00 AM',\n",
       " '10/15/2014 09:37:00 AM',\n",
       " '10/15/2014 09:30:00 AM',\n",
       " '10/15/2014 09:39:00 AM',\n",
       " '10/15/2014 09:57:00 AM',\n",
       " '10/15/2014 09:54:00 AM',\n",
       " '10/15/2014 10:01:00 AM',\n",
       " '10/15/2014 09:57:00 AM',\n",
       " '10/15/2014 09:58:00 AM',\n",
       " '10/15/2014 10:09:00 AM',\n",
       " '10/15/2014 10:15:00 AM',\n",
       " '10/15/2014 10:22:00 AM',\n",
       " '10/15/2014 10:08:00 AM',\n",
       " '10/15/2014 10:13:00 AM',\n",
       " '10/15/2014 10:15:00 AM',\n",
       " '10/15/2014 10:41:00 AM',\n",
       " '10/15/2014 10:28:00 AM',\n",
       " '10/15/2014 10:33:00 AM',\n",
       " '10/15/2014 10:38:00 AM',\n",
       " '10/15/2014 10:34:00 AM',\n",
       " '10/15/2014 10:42:00 AM',\n",
       " '10/15/2014 10:37:00 AM',\n",
       " '10/15/2014 11:06:00 AM',\n",
       " '10/15/2014 11:06:00 AM',\n",
       " '10/15/2014 10:49:00 AM',\n",
       " '10/15/2014 10:52:00 AM',\n",
       " '10/15/2014 10:53:00 AM',\n",
       " '10/15/2014 11:11:00 AM',\n",
       " '10/15/2014 11:03:00 AM',\n",
       " '10/15/2014 11:05:00 AM',\n",
       " '10/15/2014 11:03:00 AM',\n",
       " '10/15/2014 11:03:00 AM',\n",
       " '10/15/2014 11:05:00 AM',\n",
       " '10/15/2014 11:07:00 AM',\n",
       " '10/15/2014 11:24:00 AM',\n",
       " '10/15/2014 11:29:00 AM',\n",
       " '10/15/2014 11:32:00 AM',\n",
       " '10/15/2014 11:21:00 AM',\n",
       " '10/15/2014 11:42:00 AM',\n",
       " '10/15/2014 11:34:00 AM',\n",
       " '10/15/2014 11:42:00 AM',\n",
       " '10/15/2014 11:53:00 AM',\n",
       " '10/15/2014 11:44:00 AM',\n",
       " '10/15/2014 12:01:00 PM',\n",
       " '10/15/2014 11:52:00 AM',\n",
       " '10/15/2014 12:05:00 PM',\n",
       " '10/15/2014 12:05:00 PM',\n",
       " '10/15/2014 12:40:00 PM',\n",
       " '10/15/2014 12:40:00 PM',\n",
       " '10/15/2014 12:52:00 PM',\n",
       " '10/15/2014 12:34:00 PM',\n",
       " '10/15/2014 12:32:00 PM',\n",
       " '10/15/2014 12:38:00 PM',\n",
       " '10/15/2014 12:53:00 PM',\n",
       " ...]"
      ]
     },
     "execution_count": 44,
     "metadata": {},
     "output_type": "execute_result"
    }
   ],
   "source": [
    "df_small.tolist()"
   ]
  },
  {
   "cell_type": "markdown",
   "metadata": {},
   "source": [
    "Mathematical operations on columns happen *element-wise*:"
   ]
  },
  {
   "cell_type": "code",
   "execution_count": 45,
   "metadata": {},
   "outputs": [
    {
     "data": {
      "text/plain": [
       "0         0.273871\n",
       "1         0.257326\n",
       "2         0.245509\n",
       "3         0.240538\n",
       "4         0.256645\n",
       "            ...   \n",
       "275086    2.913188\n",
       "275087    2.913157\n",
       "275088    0.334904\n",
       "275089    0.309905\n",
       "275090    2.685466\n",
       "Name: tripduration, Length: 275091, dtype: float64"
      ]
     },
     "execution_count": 45,
     "metadata": {},
     "output_type": "execute_result"
    }
   ],
   "source": [
    "trip_duration_hours = df['tripduration']/3600\n",
    "trip_duration_hours"
   ]
  },
  {
   "cell_type": "code",
   "execution_count": 46,
   "metadata": {},
   "outputs": [
    {
     "data": {
      "text/plain": [
       "0    0.273871\n",
       "1    0.257326\n",
       "2    0.245509\n",
       "3    0.240538\n",
       "4    0.256645\n",
       "Name: tripduration, dtype: float64"
      ]
     },
     "execution_count": 46,
     "metadata": {},
     "output_type": "execute_result"
    }
   ],
   "source": [
    "trip_duration_hours.head()"
   ]
  },
  {
   "cell_type": "code",
   "execution_count": 47,
   "metadata": {},
   "outputs": [
    {
     "data": {
      "text/html": [
       "<div>\n",
       "<style scoped>\n",
       "    .dataframe tbody tr th:only-of-type {\n",
       "        vertical-align: middle;\n",
       "    }\n",
       "\n",
       "    .dataframe tbody tr th {\n",
       "        vertical-align: top;\n",
       "    }\n",
       "\n",
       "    .dataframe thead th {\n",
       "        text-align: right;\n",
       "    }\n",
       "</style>\n",
       "<table border=\"1\" class=\"dataframe\">\n",
       "  <thead>\n",
       "    <tr style=\"text-align: right;\">\n",
       "      <th></th>\n",
       "      <th>trip_id</th>\n",
       "      <th>starttime</th>\n",
       "      <th>stoptime</th>\n",
       "      <th>bikeid</th>\n",
       "      <th>tripduration</th>\n",
       "      <th>from_station_name</th>\n",
       "      <th>to_station_name</th>\n",
       "      <th>from_station_id</th>\n",
       "      <th>to_station_id</th>\n",
       "      <th>usertype</th>\n",
       "      <th>gender</th>\n",
       "      <th>birthyear</th>\n",
       "      <th>trip_duration_hours</th>\n",
       "      <th>average</th>\n",
       "    </tr>\n",
       "  </thead>\n",
       "  <tbody>\n",
       "    <tr>\n",
       "      <th>0</th>\n",
       "      <td>431</td>\n",
       "      <td>10/13/2014 10:31:00 AM</td>\n",
       "      <td>10/13/2014 10:48:00 AM</td>\n",
       "      <td>SEA00298</td>\n",
       "      <td>985.935</td>\n",
       "      <td>2nd Ave &amp; Spring St</td>\n",
       "      <td>Occidental Park / Occidental Ave S &amp; S Washing...</td>\n",
       "      <td>CBD-06</td>\n",
       "      <td>PS-04</td>\n",
       "      <td>Member</td>\n",
       "      <td>Male</td>\n",
       "      <td>1960.0</td>\n",
       "      <td>0.273871</td>\n",
       "      <td>hello</td>\n",
       "    </tr>\n",
       "    <tr>\n",
       "      <th>1</th>\n",
       "      <td>432</td>\n",
       "      <td>10/13/2014 10:32:00 AM</td>\n",
       "      <td>10/13/2014 10:48:00 AM</td>\n",
       "      <td>SEA00195</td>\n",
       "      <td>926.375</td>\n",
       "      <td>2nd Ave &amp; Spring St</td>\n",
       "      <td>Occidental Park / Occidental Ave S &amp; S Washing...</td>\n",
       "      <td>CBD-06</td>\n",
       "      <td>PS-04</td>\n",
       "      <td>Member</td>\n",
       "      <td>Male</td>\n",
       "      <td>1970.0</td>\n",
       "      <td>0.257326</td>\n",
       "      <td>hello</td>\n",
       "    </tr>\n",
       "    <tr>\n",
       "      <th>2</th>\n",
       "      <td>433</td>\n",
       "      <td>10/13/2014 10:33:00 AM</td>\n",
       "      <td>10/13/2014 10:48:00 AM</td>\n",
       "      <td>SEA00486</td>\n",
       "      <td>883.831</td>\n",
       "      <td>2nd Ave &amp; Spring St</td>\n",
       "      <td>Occidental Park / Occidental Ave S &amp; S Washing...</td>\n",
       "      <td>CBD-06</td>\n",
       "      <td>PS-04</td>\n",
       "      <td>Member</td>\n",
       "      <td>Female</td>\n",
       "      <td>1988.0</td>\n",
       "      <td>0.245509</td>\n",
       "      <td>hello</td>\n",
       "    </tr>\n",
       "    <tr>\n",
       "      <th>3</th>\n",
       "      <td>434</td>\n",
       "      <td>10/13/2014 10:34:00 AM</td>\n",
       "      <td>10/13/2014 10:48:00 AM</td>\n",
       "      <td>SEA00333</td>\n",
       "      <td>865.937</td>\n",
       "      <td>2nd Ave &amp; Spring St</td>\n",
       "      <td>Occidental Park / Occidental Ave S &amp; S Washing...</td>\n",
       "      <td>CBD-06</td>\n",
       "      <td>PS-04</td>\n",
       "      <td>Member</td>\n",
       "      <td>Female</td>\n",
       "      <td>1977.0</td>\n",
       "      <td>0.240538</td>\n",
       "      <td>hello</td>\n",
       "    </tr>\n",
       "    <tr>\n",
       "      <th>4</th>\n",
       "      <td>435</td>\n",
       "      <td>10/13/2014 10:34:00 AM</td>\n",
       "      <td>10/13/2014 10:49:00 AM</td>\n",
       "      <td>SEA00202</td>\n",
       "      <td>923.923</td>\n",
       "      <td>2nd Ave &amp; Spring St</td>\n",
       "      <td>Occidental Park / Occidental Ave S &amp; S Washing...</td>\n",
       "      <td>CBD-06</td>\n",
       "      <td>PS-04</td>\n",
       "      <td>Member</td>\n",
       "      <td>Male</td>\n",
       "      <td>1971.0</td>\n",
       "      <td>0.256645</td>\n",
       "      <td>hello</td>\n",
       "    </tr>\n",
       "    <tr>\n",
       "      <th>...</th>\n",
       "      <td>...</td>\n",
       "      <td>...</td>\n",
       "      <td>...</td>\n",
       "      <td>...</td>\n",
       "      <td>...</td>\n",
       "      <td>...</td>\n",
       "      <td>...</td>\n",
       "      <td>...</td>\n",
       "      <td>...</td>\n",
       "      <td>...</td>\n",
       "      <td>...</td>\n",
       "      <td>...</td>\n",
       "      <td>...</td>\n",
       "      <td>...</td>\n",
       "    </tr>\n",
       "    <tr>\n",
       "      <th>275086</th>\n",
       "      <td>295463</td>\n",
       "      <td>03/31/2017 11:16:00 PM</td>\n",
       "      <td>04/01/2017 02:11:00 AM</td>\n",
       "      <td>SEA00347</td>\n",
       "      <td>10487.475</td>\n",
       "      <td>NE 42nd St &amp; University Way NE</td>\n",
       "      <td>E Harrison St &amp; Broadway Ave E</td>\n",
       "      <td>UD-02</td>\n",
       "      <td>CH-02</td>\n",
       "      <td>Short-Term Pass Holder</td>\n",
       "      <td>NaN</td>\n",
       "      <td>NaN</td>\n",
       "      <td>2.913188</td>\n",
       "      <td>hello</td>\n",
       "    </tr>\n",
       "    <tr>\n",
       "      <th>275087</th>\n",
       "      <td>295464</td>\n",
       "      <td>03/31/2017 11:16:00 PM</td>\n",
       "      <td>04/01/2017 02:11:00 AM</td>\n",
       "      <td>SEA00031</td>\n",
       "      <td>10487.366</td>\n",
       "      <td>NE 42nd St &amp; University Way NE</td>\n",
       "      <td>E Harrison St &amp; Broadway Ave E</td>\n",
       "      <td>UD-02</td>\n",
       "      <td>CH-02</td>\n",
       "      <td>Member</td>\n",
       "      <td>Female</td>\n",
       "      <td>1982.0</td>\n",
       "      <td>2.913157</td>\n",
       "      <td>hello</td>\n",
       "    </tr>\n",
       "    <tr>\n",
       "      <th>275088</th>\n",
       "      <td>295465</td>\n",
       "      <td>03/31/2017 11:44:00 PM</td>\n",
       "      <td>04/01/2017 12:04:00 AM</td>\n",
       "      <td>SEA00240</td>\n",
       "      <td>1205.656</td>\n",
       "      <td>Bellevue Ave &amp; E Pine St</td>\n",
       "      <td>Lake Union Park / Westlake Ave &amp; Aloha St</td>\n",
       "      <td>CH-12</td>\n",
       "      <td>SLU-23</td>\n",
       "      <td>Member</td>\n",
       "      <td>Male</td>\n",
       "      <td>1990.0</td>\n",
       "      <td>0.334904</td>\n",
       "      <td>hello</td>\n",
       "    </tr>\n",
       "    <tr>\n",
       "      <th>275089</th>\n",
       "      <td>295466</td>\n",
       "      <td>03/31/2017 11:46:00 PM</td>\n",
       "      <td>04/01/2017 12:04:00 AM</td>\n",
       "      <td>SEA00121</td>\n",
       "      <td>1115.658</td>\n",
       "      <td>Bellevue Ave &amp; E Pine St</td>\n",
       "      <td>Lake Union Park / Westlake Ave &amp; Aloha St</td>\n",
       "      <td>CH-12</td>\n",
       "      <td>SLU-23</td>\n",
       "      <td>Member</td>\n",
       "      <td>Female</td>\n",
       "      <td>1987.0</td>\n",
       "      <td>0.309905</td>\n",
       "      <td>hello</td>\n",
       "    </tr>\n",
       "    <tr>\n",
       "      <th>275090</th>\n",
       "      <td>295467</td>\n",
       "      <td>03/31/2017 11:52:00 PM</td>\n",
       "      <td>04/01/2017 02:33:00 AM</td>\n",
       "      <td>SEA00151</td>\n",
       "      <td>9667.679</td>\n",
       "      <td>Cal Anderson Park / 11th Ave &amp; Pine St</td>\n",
       "      <td>Broadway and E Denny Way</td>\n",
       "      <td>CH-08</td>\n",
       "      <td>CH-16</td>\n",
       "      <td>Member</td>\n",
       "      <td>Male</td>\n",
       "      <td>1988.0</td>\n",
       "      <td>2.685466</td>\n",
       "      <td>hello</td>\n",
       "    </tr>\n",
       "  </tbody>\n",
       "</table>\n",
       "<p>275091 rows × 14 columns</p>\n",
       "</div>"
      ],
      "text/plain": [
       "        trip_id               starttime                stoptime    bikeid  \\\n",
       "0           431  10/13/2014 10:31:00 AM  10/13/2014 10:48:00 AM  SEA00298   \n",
       "1           432  10/13/2014 10:32:00 AM  10/13/2014 10:48:00 AM  SEA00195   \n",
       "2           433  10/13/2014 10:33:00 AM  10/13/2014 10:48:00 AM  SEA00486   \n",
       "3           434  10/13/2014 10:34:00 AM  10/13/2014 10:48:00 AM  SEA00333   \n",
       "4           435  10/13/2014 10:34:00 AM  10/13/2014 10:49:00 AM  SEA00202   \n",
       "...         ...                     ...                     ...       ...   \n",
       "275086   295463  03/31/2017 11:16:00 PM  04/01/2017 02:11:00 AM  SEA00347   \n",
       "275087   295464  03/31/2017 11:16:00 PM  04/01/2017 02:11:00 AM  SEA00031   \n",
       "275088   295465  03/31/2017 11:44:00 PM  04/01/2017 12:04:00 AM  SEA00240   \n",
       "275089   295466  03/31/2017 11:46:00 PM  04/01/2017 12:04:00 AM  SEA00121   \n",
       "275090   295467  03/31/2017 11:52:00 PM  04/01/2017 02:33:00 AM  SEA00151   \n",
       "\n",
       "        tripduration                       from_station_name  \\\n",
       "0            985.935                     2nd Ave & Spring St   \n",
       "1            926.375                     2nd Ave & Spring St   \n",
       "2            883.831                     2nd Ave & Spring St   \n",
       "3            865.937                     2nd Ave & Spring St   \n",
       "4            923.923                     2nd Ave & Spring St   \n",
       "...              ...                                     ...   \n",
       "275086     10487.475          NE 42nd St & University Way NE   \n",
       "275087     10487.366          NE 42nd St & University Way NE   \n",
       "275088      1205.656                Bellevue Ave & E Pine St   \n",
       "275089      1115.658                Bellevue Ave & E Pine St   \n",
       "275090      9667.679  Cal Anderson Park / 11th Ave & Pine St   \n",
       "\n",
       "                                          to_station_name from_station_id  \\\n",
       "0       Occidental Park / Occidental Ave S & S Washing...          CBD-06   \n",
       "1       Occidental Park / Occidental Ave S & S Washing...          CBD-06   \n",
       "2       Occidental Park / Occidental Ave S & S Washing...          CBD-06   \n",
       "3       Occidental Park / Occidental Ave S & S Washing...          CBD-06   \n",
       "4       Occidental Park / Occidental Ave S & S Washing...          CBD-06   \n",
       "...                                                   ...             ...   \n",
       "275086                     E Harrison St & Broadway Ave E           UD-02   \n",
       "275087                     E Harrison St & Broadway Ave E           UD-02   \n",
       "275088          Lake Union Park / Westlake Ave & Aloha St           CH-12   \n",
       "275089          Lake Union Park / Westlake Ave & Aloha St           CH-12   \n",
       "275090                           Broadway and E Denny Way           CH-08   \n",
       "\n",
       "       to_station_id                usertype  gender  birthyear  \\\n",
       "0              PS-04                  Member    Male     1960.0   \n",
       "1              PS-04                  Member    Male     1970.0   \n",
       "2              PS-04                  Member  Female     1988.0   \n",
       "3              PS-04                  Member  Female     1977.0   \n",
       "4              PS-04                  Member    Male     1971.0   \n",
       "...              ...                     ...     ...        ...   \n",
       "275086         CH-02  Short-Term Pass Holder     NaN        NaN   \n",
       "275087         CH-02                  Member  Female     1982.0   \n",
       "275088        SLU-23                  Member    Male     1990.0   \n",
       "275089        SLU-23                  Member  Female     1987.0   \n",
       "275090         CH-16                  Member    Male     1988.0   \n",
       "\n",
       "        trip_duration_hours average  \n",
       "0                  0.273871   hello  \n",
       "1                  0.257326   hello  \n",
       "2                  0.245509   hello  \n",
       "3                  0.240538   hello  \n",
       "4                  0.256645   hello  \n",
       "...                     ...     ...  \n",
       "275086             2.913188   hello  \n",
       "275087             2.913157   hello  \n",
       "275088             0.334904   hello  \n",
       "275089             0.309905   hello  \n",
       "275090             2.685466   hello  \n",
       "\n",
       "[275091 rows x 14 columns]"
      ]
     },
     "execution_count": 47,
     "metadata": {},
     "output_type": "execute_result"
    }
   ],
   "source": [
    "df['trip_duration_hours'] = df['tripduration']/3600\n",
    "df\n",
    "#df['trip_duration_hours']\n",
    "df['average'] = 'hello'\n",
    "df"
   ]
  },
  {
   "cell_type": "code",
   "execution_count": 48,
   "metadata": {},
   "outputs": [],
   "source": [
    "def tripcomment(x):\n",
    "    if x > 10000:\n",
    "        return \"Wow, long trip!\"\n",
    "    elif x < 100:\n",
    "        return \"Short trip!\"\n",
    "    else: \n",
    "        return \"Normal!\"\n",
    "    "
   ]
  },
  {
   "cell_type": "code",
   "execution_count": 49,
   "metadata": {},
   "outputs": [
    {
     "ename": "KeyError",
     "evalue": "'commenet'",
     "output_type": "error",
     "traceback": [
      "\u001b[0;31m---------------------------------------------------------------------------\u001b[0m",
      "\u001b[0;31mKeyError\u001b[0m                                  Traceback (most recent call last)",
      "File \u001b[0;32m~/miniconda3/envs/pytu/lib/python3.11/site-packages/pandas/core/indexes/base.py:3802\u001b[0m, in \u001b[0;36mIndex.get_loc\u001b[0;34m(self, key, method, tolerance)\u001b[0m\n\u001b[1;32m   3801\u001b[0m \u001b[38;5;28;01mtry\u001b[39;00m:\n\u001b[0;32m-> 3802\u001b[0m     \u001b[38;5;28;01mreturn\u001b[39;00m \u001b[38;5;28mself\u001b[39m\u001b[38;5;241m.\u001b[39m_engine\u001b[38;5;241m.\u001b[39mget_loc(casted_key)\n\u001b[1;32m   3803\u001b[0m \u001b[38;5;28;01mexcept\u001b[39;00m \u001b[38;5;167;01mKeyError\u001b[39;00m \u001b[38;5;28;01mas\u001b[39;00m err:\n",
      "File \u001b[0;32m~/miniconda3/envs/pytu/lib/python3.11/site-packages/pandas/_libs/index.pyx:138\u001b[0m, in \u001b[0;36mpandas._libs.index.IndexEngine.get_loc\u001b[0;34m()\u001b[0m\n",
      "File \u001b[0;32m~/miniconda3/envs/pytu/lib/python3.11/site-packages/pandas/_libs/index.pyx:165\u001b[0m, in \u001b[0;36mpandas._libs.index.IndexEngine.get_loc\u001b[0;34m()\u001b[0m\n",
      "File \u001b[0;32mpandas/_libs/hashtable_class_helper.pxi:5745\u001b[0m, in \u001b[0;36mpandas._libs.hashtable.PyObjectHashTable.get_item\u001b[0;34m()\u001b[0m\n",
      "File \u001b[0;32mpandas/_libs/hashtable_class_helper.pxi:5753\u001b[0m, in \u001b[0;36mpandas._libs.hashtable.PyObjectHashTable.get_item\u001b[0;34m()\u001b[0m\n",
      "\u001b[0;31mKeyError\u001b[0m: 'commenet'",
      "\nThe above exception was the direct cause of the following exception:\n",
      "\u001b[0;31mKeyError\u001b[0m                                  Traceback (most recent call last)",
      "Cell \u001b[0;32mIn[49], line 2\u001b[0m\n\u001b[1;32m      1\u001b[0m df[\u001b[38;5;124m'\u001b[39m\u001b[38;5;124mcomment\u001b[39m\u001b[38;5;124m'\u001b[39m] \u001b[38;5;241m=\u001b[39m df[\u001b[38;5;124m'\u001b[39m\u001b[38;5;124mtripduration\u001b[39m\u001b[38;5;124m'\u001b[39m]\u001b[38;5;241m.\u001b[39mapply(\u001b[38;5;28;01mlambda\u001b[39;00m val: tripcomment(val))\n\u001b[0;32m----> 2\u001b[0m \u001b[38;5;28;01mdel\u001b[39;00m df[\u001b[38;5;124m'\u001b[39m\u001b[38;5;124mcommenet\u001b[39m\u001b[38;5;124m'\u001b[39m]\n\u001b[1;32m      3\u001b[0m df\n",
      "File \u001b[0;32m~/miniconda3/envs/pytu/lib/python3.11/site-packages/pandas/core/generic.py:4243\u001b[0m, in \u001b[0;36mNDFrame.__delitem__\u001b[0;34m(self, key)\u001b[0m\n\u001b[1;32m   4238\u001b[0m             deleted \u001b[38;5;241m=\u001b[39m \u001b[38;5;28;01mTrue\u001b[39;00m\n\u001b[1;32m   4239\u001b[0m \u001b[38;5;28;01mif\u001b[39;00m \u001b[38;5;129;01mnot\u001b[39;00m deleted:\n\u001b[1;32m   4240\u001b[0m     \u001b[38;5;66;03m# If the above loop ran and didn't delete anything because\u001b[39;00m\n\u001b[1;32m   4241\u001b[0m     \u001b[38;5;66;03m# there was no match, this call should raise the appropriate\u001b[39;00m\n\u001b[1;32m   4242\u001b[0m     \u001b[38;5;66;03m# exception:\u001b[39;00m\n\u001b[0;32m-> 4243\u001b[0m     loc \u001b[38;5;241m=\u001b[39m \u001b[38;5;28mself\u001b[39m\u001b[38;5;241m.\u001b[39maxes[\u001b[38;5;241m-\u001b[39m\u001b[38;5;241m1\u001b[39m]\u001b[38;5;241m.\u001b[39mget_loc(key)\n\u001b[1;32m   4244\u001b[0m     \u001b[38;5;28mself\u001b[39m\u001b[38;5;241m.\u001b[39m_mgr \u001b[38;5;241m=\u001b[39m \u001b[38;5;28mself\u001b[39m\u001b[38;5;241m.\u001b[39m_mgr\u001b[38;5;241m.\u001b[39midelete(loc)\n\u001b[1;32m   4246\u001b[0m \u001b[38;5;66;03m# delete from the caches\u001b[39;00m\n",
      "File \u001b[0;32m~/miniconda3/envs/pytu/lib/python3.11/site-packages/pandas/core/indexes/base.py:3804\u001b[0m, in \u001b[0;36mIndex.get_loc\u001b[0;34m(self, key, method, tolerance)\u001b[0m\n\u001b[1;32m   3802\u001b[0m     \u001b[38;5;28;01mreturn\u001b[39;00m \u001b[38;5;28mself\u001b[39m\u001b[38;5;241m.\u001b[39m_engine\u001b[38;5;241m.\u001b[39mget_loc(casted_key)\n\u001b[1;32m   3803\u001b[0m \u001b[38;5;28;01mexcept\u001b[39;00m \u001b[38;5;167;01mKeyError\u001b[39;00m \u001b[38;5;28;01mas\u001b[39;00m err:\n\u001b[0;32m-> 3804\u001b[0m     \u001b[38;5;28;01mraise\u001b[39;00m \u001b[38;5;167;01mKeyError\u001b[39;00m(key) \u001b[38;5;28;01mfrom\u001b[39;00m \u001b[38;5;21;01merr\u001b[39;00m\n\u001b[1;32m   3805\u001b[0m \u001b[38;5;28;01mexcept\u001b[39;00m \u001b[38;5;167;01mTypeError\u001b[39;00m:\n\u001b[1;32m   3806\u001b[0m     \u001b[38;5;66;03m# If we have a listlike key, _check_indexing_error will raise\u001b[39;00m\n\u001b[1;32m   3807\u001b[0m     \u001b[38;5;66;03m#  InvalidIndexError. Otherwise we fall through and re-raise\u001b[39;00m\n\u001b[1;32m   3808\u001b[0m     \u001b[38;5;66;03m#  the TypeError.\u001b[39;00m\n\u001b[1;32m   3809\u001b[0m     \u001b[38;5;28mself\u001b[39m\u001b[38;5;241m.\u001b[39m_check_indexing_error(key)\n",
      "\u001b[0;31mKeyError\u001b[0m: 'commenet'"
     ]
    }
   ],
   "source": [
    "df['comment'] = df['tripduration'].apply(lambda val: tripcomment(val))\n",
    "del df['commenet']\n",
    "df"
   ]
  },
  {
   "cell_type": "code",
   "execution_count": null,
   "metadata": {},
   "outputs": [],
   "source": [
    "df['comment'].value_counts()\n",
    "df['from_station_name'].value_counts()"
   ]
  },
  {
   "cell_type": "code",
   "execution_count": null,
   "metadata": {},
   "outputs": [],
   "source": [
    "del df['trip_duration_hours']"
   ]
  },
  {
   "cell_type": "code",
   "execution_count": null,
   "metadata": {},
   "outputs": [],
   "source": []
  },
  {
   "cell_type": "code",
   "execution_count": 50,
   "metadata": {},
   "outputs": [
    {
     "data": {
      "text/html": [
       "<div>\n",
       "<style scoped>\n",
       "    .dataframe tbody tr th:only-of-type {\n",
       "        vertical-align: middle;\n",
       "    }\n",
       "\n",
       "    .dataframe tbody tr th {\n",
       "        vertical-align: top;\n",
       "    }\n",
       "\n",
       "    .dataframe thead th {\n",
       "        text-align: right;\n",
       "    }\n",
       "</style>\n",
       "<table border=\"1\" class=\"dataframe\">\n",
       "  <thead>\n",
       "    <tr style=\"text-align: right;\">\n",
       "      <th></th>\n",
       "      <th>trip_id</th>\n",
       "      <th>starttime</th>\n",
       "      <th>stoptime</th>\n",
       "      <th>bikeid</th>\n",
       "      <th>tripduration</th>\n",
       "      <th>from_station_name</th>\n",
       "      <th>to_station_name</th>\n",
       "      <th>from_station_id</th>\n",
       "      <th>to_station_id</th>\n",
       "      <th>usertype</th>\n",
       "      <th>gender</th>\n",
       "      <th>birthyear</th>\n",
       "      <th>trip_duration_hours</th>\n",
       "      <th>average</th>\n",
       "      <th>comment</th>\n",
       "    </tr>\n",
       "  </thead>\n",
       "  <tbody>\n",
       "    <tr>\n",
       "      <th>0</th>\n",
       "      <td>431</td>\n",
       "      <td>10/13/2014 10:31:00 AM</td>\n",
       "      <td>10/13/2014 10:48:00 AM</td>\n",
       "      <td>SEA00298</td>\n",
       "      <td>985.935</td>\n",
       "      <td>2nd Ave &amp; Spring St</td>\n",
       "      <td>Occidental Park / Occidental Ave S &amp; S Washing...</td>\n",
       "      <td>CBD-06</td>\n",
       "      <td>PS-04</td>\n",
       "      <td>Member</td>\n",
       "      <td>Male</td>\n",
       "      <td>1960.0</td>\n",
       "      <td>0.273871</td>\n",
       "      <td>hello</td>\n",
       "      <td>Normal!</td>\n",
       "    </tr>\n",
       "    <tr>\n",
       "      <th>1</th>\n",
       "      <td>432</td>\n",
       "      <td>10/13/2014 10:32:00 AM</td>\n",
       "      <td>10/13/2014 10:48:00 AM</td>\n",
       "      <td>SEA00195</td>\n",
       "      <td>926.375</td>\n",
       "      <td>2nd Ave &amp; Spring St</td>\n",
       "      <td>Occidental Park / Occidental Ave S &amp; S Washing...</td>\n",
       "      <td>CBD-06</td>\n",
       "      <td>PS-04</td>\n",
       "      <td>Member</td>\n",
       "      <td>Male</td>\n",
       "      <td>1970.0</td>\n",
       "      <td>0.257326</td>\n",
       "      <td>hello</td>\n",
       "      <td>Normal!</td>\n",
       "    </tr>\n",
       "    <tr>\n",
       "      <th>2</th>\n",
       "      <td>433</td>\n",
       "      <td>10/13/2014 10:33:00 AM</td>\n",
       "      <td>10/13/2014 10:48:00 AM</td>\n",
       "      <td>SEA00486</td>\n",
       "      <td>883.831</td>\n",
       "      <td>2nd Ave &amp; Spring St</td>\n",
       "      <td>Occidental Park / Occidental Ave S &amp; S Washing...</td>\n",
       "      <td>CBD-06</td>\n",
       "      <td>PS-04</td>\n",
       "      <td>Member</td>\n",
       "      <td>Female</td>\n",
       "      <td>1988.0</td>\n",
       "      <td>0.245509</td>\n",
       "      <td>hello</td>\n",
       "      <td>Normal!</td>\n",
       "    </tr>\n",
       "    <tr>\n",
       "      <th>3</th>\n",
       "      <td>434</td>\n",
       "      <td>10/13/2014 10:34:00 AM</td>\n",
       "      <td>10/13/2014 10:48:00 AM</td>\n",
       "      <td>SEA00333</td>\n",
       "      <td>865.937</td>\n",
       "      <td>2nd Ave &amp; Spring St</td>\n",
       "      <td>Occidental Park / Occidental Ave S &amp; S Washing...</td>\n",
       "      <td>CBD-06</td>\n",
       "      <td>PS-04</td>\n",
       "      <td>Member</td>\n",
       "      <td>Female</td>\n",
       "      <td>1977.0</td>\n",
       "      <td>0.240538</td>\n",
       "      <td>hello</td>\n",
       "      <td>Normal!</td>\n",
       "    </tr>\n",
       "    <tr>\n",
       "      <th>4</th>\n",
       "      <td>435</td>\n",
       "      <td>10/13/2014 10:34:00 AM</td>\n",
       "      <td>10/13/2014 10:49:00 AM</td>\n",
       "      <td>SEA00202</td>\n",
       "      <td>923.923</td>\n",
       "      <td>2nd Ave &amp; Spring St</td>\n",
       "      <td>Occidental Park / Occidental Ave S &amp; S Washing...</td>\n",
       "      <td>CBD-06</td>\n",
       "      <td>PS-04</td>\n",
       "      <td>Member</td>\n",
       "      <td>Male</td>\n",
       "      <td>1971.0</td>\n",
       "      <td>0.256645</td>\n",
       "      <td>hello</td>\n",
       "      <td>Normal!</td>\n",
       "    </tr>\n",
       "  </tbody>\n",
       "</table>\n",
       "</div>"
      ],
      "text/plain": [
       "   trip_id               starttime                stoptime    bikeid  \\\n",
       "0      431  10/13/2014 10:31:00 AM  10/13/2014 10:48:00 AM  SEA00298   \n",
       "1      432  10/13/2014 10:32:00 AM  10/13/2014 10:48:00 AM  SEA00195   \n",
       "2      433  10/13/2014 10:33:00 AM  10/13/2014 10:48:00 AM  SEA00486   \n",
       "3      434  10/13/2014 10:34:00 AM  10/13/2014 10:48:00 AM  SEA00333   \n",
       "4      435  10/13/2014 10:34:00 AM  10/13/2014 10:49:00 AM  SEA00202   \n",
       "\n",
       "   tripduration    from_station_name  \\\n",
       "0       985.935  2nd Ave & Spring St   \n",
       "1       926.375  2nd Ave & Spring St   \n",
       "2       883.831  2nd Ave & Spring St   \n",
       "3       865.937  2nd Ave & Spring St   \n",
       "4       923.923  2nd Ave & Spring St   \n",
       "\n",
       "                                     to_station_name from_station_id  \\\n",
       "0  Occidental Park / Occidental Ave S & S Washing...          CBD-06   \n",
       "1  Occidental Park / Occidental Ave S & S Washing...          CBD-06   \n",
       "2  Occidental Park / Occidental Ave S & S Washing...          CBD-06   \n",
       "3  Occidental Park / Occidental Ave S & S Washing...          CBD-06   \n",
       "4  Occidental Park / Occidental Ave S & S Washing...          CBD-06   \n",
       "\n",
       "  to_station_id usertype  gender  birthyear  trip_duration_hours average  \\\n",
       "0         PS-04   Member    Male     1960.0             0.273871   hello   \n",
       "1         PS-04   Member    Male     1970.0             0.257326   hello   \n",
       "2         PS-04   Member  Female     1988.0             0.245509   hello   \n",
       "3         PS-04   Member  Female     1977.0             0.240538   hello   \n",
       "4         PS-04   Member    Male     1971.0             0.256645   hello   \n",
       "\n",
       "   comment  \n",
       "0  Normal!  \n",
       "1  Normal!  \n",
       "2  Normal!  \n",
       "3  Normal!  \n",
       "4  Normal!  "
      ]
     },
     "execution_count": 50,
     "metadata": {},
     "output_type": "execute_result"
    }
   ],
   "source": [
    "df.head()"
   ]
  },
  {
   "cell_type": "code",
   "execution_count": 51,
   "metadata": {},
   "outputs": [
    {
     "data": {
      "text/html": [
       "<div>\n",
       "<style scoped>\n",
       "    .dataframe tbody tr th:only-of-type {\n",
       "        vertical-align: middle;\n",
       "    }\n",
       "\n",
       "    .dataframe tbody tr th {\n",
       "        vertical-align: top;\n",
       "    }\n",
       "\n",
       "    .dataframe thead th {\n",
       "        text-align: right;\n",
       "    }\n",
       "</style>\n",
       "<table border=\"1\" class=\"dataframe\">\n",
       "  <thead>\n",
       "    <tr style=\"text-align: right;\">\n",
       "      <th></th>\n",
       "      <th>starttime</th>\n",
       "      <th>stoptime</th>\n",
       "    </tr>\n",
       "  </thead>\n",
       "  <tbody>\n",
       "    <tr>\n",
       "      <th>0</th>\n",
       "      <td>10/13/2014 10:31:00 AM</td>\n",
       "      <td>10/13/2014 10:48:00 AM</td>\n",
       "    </tr>\n",
       "    <tr>\n",
       "      <th>4</th>\n",
       "      <td>10/13/2014 10:34:00 AM</td>\n",
       "      <td>10/13/2014 10:49:00 AM</td>\n",
       "    </tr>\n",
       "  </tbody>\n",
       "</table>\n",
       "</div>"
      ],
      "text/plain": [
       "                starttime                stoptime\n",
       "0  10/13/2014 10:31:00 AM  10/13/2014 10:48:00 AM\n",
       "4  10/13/2014 10:34:00 AM  10/13/2014 10:49:00 AM"
      ]
     },
     "execution_count": 51,
     "metadata": {},
     "output_type": "execute_result"
    }
   ],
   "source": [
    "df.loc[[0,4],['starttime', 'stoptime']]"
   ]
  },
  {
   "cell_type": "code",
   "execution_count": 52,
   "metadata": {},
   "outputs": [
    {
     "data": {
      "text/plain": [
       "0         False\n",
       "1         False\n",
       "2         False\n",
       "3         False\n",
       "4         False\n",
       "          ...  \n",
       "275086     True\n",
       "275087     True\n",
       "275088    False\n",
       "275089    False\n",
       "275090    False\n",
       "Name: tripduration, Length: 275091, dtype: bool"
      ]
     },
     "execution_count": 52,
     "metadata": {},
     "output_type": "execute_result"
    }
   ],
   "source": [
    "df['tripduration'] > 10000"
   ]
  },
  {
   "cell_type": "code",
   "execution_count": 53,
   "metadata": {},
   "outputs": [],
   "source": [
    "df_long_trips = df[df['tripduration'] >10000]"
   ]
  },
  {
   "cell_type": "code",
   "execution_count": 54,
   "metadata": {},
   "outputs": [],
   "source": [
    "sel = df['tripduration'] > 10000\n",
    "df_long_trips = df[sel]"
   ]
  },
  {
   "cell_type": "code",
   "execution_count": 55,
   "metadata": {},
   "outputs": [
    {
     "data": {
      "text/html": [
       "<div>\n",
       "<style scoped>\n",
       "    .dataframe tbody tr th:only-of-type {\n",
       "        vertical-align: middle;\n",
       "    }\n",
       "\n",
       "    .dataframe tbody tr th {\n",
       "        vertical-align: top;\n",
       "    }\n",
       "\n",
       "    .dataframe thead th {\n",
       "        text-align: right;\n",
       "    }\n",
       "</style>\n",
       "<table border=\"1\" class=\"dataframe\">\n",
       "  <thead>\n",
       "    <tr style=\"text-align: right;\">\n",
       "      <th></th>\n",
       "      <th>trip_id</th>\n",
       "      <th>starttime</th>\n",
       "      <th>stoptime</th>\n",
       "      <th>bikeid</th>\n",
       "      <th>tripduration</th>\n",
       "      <th>from_station_name</th>\n",
       "      <th>to_station_name</th>\n",
       "      <th>from_station_id</th>\n",
       "      <th>to_station_id</th>\n",
       "      <th>usertype</th>\n",
       "      <th>gender</th>\n",
       "      <th>birthyear</th>\n",
       "      <th>trip_duration_hours</th>\n",
       "      <th>average</th>\n",
       "      <th>comment</th>\n",
       "    </tr>\n",
       "  </thead>\n",
       "  <tbody>\n",
       "    <tr>\n",
       "      <th>68</th>\n",
       "      <td>506</td>\n",
       "      <td>10/13/2014 12:08:00 PM</td>\n",
       "      <td>10/13/2014 07:07:00 PM</td>\n",
       "      <td>SEA00155</td>\n",
       "      <td>25119.114</td>\n",
       "      <td>2nd Ave &amp; Spring St</td>\n",
       "      <td>2nd Ave &amp; Vine St</td>\n",
       "      <td>CBD-06</td>\n",
       "      <td>BT-03</td>\n",
       "      <td>Member</td>\n",
       "      <td>Male</td>\n",
       "      <td>1988.0</td>\n",
       "      <td>6.977532</td>\n",
       "      <td>hello</td>\n",
       "      <td>Wow, long trip!</td>\n",
       "    </tr>\n",
       "    <tr>\n",
       "      <th>193</th>\n",
       "      <td>649</td>\n",
       "      <td>10/13/2014 02:54:00 PM</td>\n",
       "      <td>10/13/2014 05:59:00 PM</td>\n",
       "      <td>SEA00193</td>\n",
       "      <td>11144.159</td>\n",
       "      <td>NE 42nd St &amp; University Way NE</td>\n",
       "      <td>NE 42nd St &amp; University Way NE</td>\n",
       "      <td>UD-02</td>\n",
       "      <td>UD-02</td>\n",
       "      <td>Short-Term Pass Holder</td>\n",
       "      <td>NaN</td>\n",
       "      <td>NaN</td>\n",
       "      <td>3.095600</td>\n",
       "      <td>hello</td>\n",
       "      <td>Wow, long trip!</td>\n",
       "    </tr>\n",
       "    <tr>\n",
       "      <th>408</th>\n",
       "      <td>908</td>\n",
       "      <td>10/13/2014 11:12:00 PM</td>\n",
       "      <td>10/14/2014 06:52:00 AM</td>\n",
       "      <td>SEA00230</td>\n",
       "      <td>27583.945</td>\n",
       "      <td>7th Ave &amp; Union St</td>\n",
       "      <td>2nd Ave &amp; Pine St</td>\n",
       "      <td>CBD-03</td>\n",
       "      <td>CBD-13</td>\n",
       "      <td>Short-Term Pass Holder</td>\n",
       "      <td>NaN</td>\n",
       "      <td>NaN</td>\n",
       "      <td>7.662207</td>\n",
       "      <td>hello</td>\n",
       "      <td>Wow, long trip!</td>\n",
       "    </tr>\n",
       "    <tr>\n",
       "      <th>475</th>\n",
       "      <td>983</td>\n",
       "      <td>10/14/2014 09:12:00 AM</td>\n",
       "      <td>10/14/2014 01:20:00 PM</td>\n",
       "      <td>SEA00181</td>\n",
       "      <td>14885.176</td>\n",
       "      <td>Pier 69 / Alaskan Way &amp; Clay St</td>\n",
       "      <td>Pier 69 / Alaskan Way &amp; Clay St</td>\n",
       "      <td>WF-01</td>\n",
       "      <td>WF-01</td>\n",
       "      <td>Short-Term Pass Holder</td>\n",
       "      <td>NaN</td>\n",
       "      <td>NaN</td>\n",
       "      <td>4.134771</td>\n",
       "      <td>hello</td>\n",
       "      <td>Wow, long trip!</td>\n",
       "    </tr>\n",
       "    <tr>\n",
       "      <th>512</th>\n",
       "      <td>1025</td>\n",
       "      <td>10/14/2014 10:49:00 AM</td>\n",
       "      <td>10/14/2014 05:19:00 PM</td>\n",
       "      <td>SEA00244</td>\n",
       "      <td>23346.911</td>\n",
       "      <td>E Pine St &amp; 16th Ave</td>\n",
       "      <td>PATH / 9th Ave &amp; Westlake Ave</td>\n",
       "      <td>CH-07</td>\n",
       "      <td>SLU-07</td>\n",
       "      <td>Member</td>\n",
       "      <td>Male</td>\n",
       "      <td>1986.0</td>\n",
       "      <td>6.485253</td>\n",
       "      <td>hello</td>\n",
       "      <td>Wow, long trip!</td>\n",
       "    </tr>\n",
       "    <tr>\n",
       "      <th>...</th>\n",
       "      <td>...</td>\n",
       "      <td>...</td>\n",
       "      <td>...</td>\n",
       "      <td>...</td>\n",
       "      <td>...</td>\n",
       "      <td>...</td>\n",
       "      <td>...</td>\n",
       "      <td>...</td>\n",
       "      <td>...</td>\n",
       "      <td>...</td>\n",
       "      <td>...</td>\n",
       "      <td>...</td>\n",
       "      <td>...</td>\n",
       "      <td>...</td>\n",
       "      <td>...</td>\n",
       "    </tr>\n",
       "    <tr>\n",
       "      <th>274051</th>\n",
       "      <td>294382</td>\n",
       "      <td>03/25/2017 02:28:00 PM</td>\n",
       "      <td>03/25/2017 07:05:00 PM</td>\n",
       "      <td>SEA00494</td>\n",
       "      <td>16634.168</td>\n",
       "      <td>Cal Anderson Park / 11th Ave &amp; Pine St</td>\n",
       "      <td>Pier 69 / Alaskan Way &amp; Clay St</td>\n",
       "      <td>CH-08</td>\n",
       "      <td>WF-01</td>\n",
       "      <td>Short-Term Pass Holder</td>\n",
       "      <td>NaN</td>\n",
       "      <td>NaN</td>\n",
       "      <td>4.620602</td>\n",
       "      <td>hello</td>\n",
       "      <td>Wow, long trip!</td>\n",
       "    </tr>\n",
       "    <tr>\n",
       "      <th>274052</th>\n",
       "      <td>294383</td>\n",
       "      <td>03/25/2017 02:28:00 PM</td>\n",
       "      <td>03/25/2017 07:05:00 PM</td>\n",
       "      <td>SEA00182</td>\n",
       "      <td>16639.182</td>\n",
       "      <td>Cal Anderson Park / 11th Ave &amp; Pine St</td>\n",
       "      <td>Pier 69 / Alaskan Way &amp; Clay St</td>\n",
       "      <td>CH-08</td>\n",
       "      <td>WF-01</td>\n",
       "      <td>Short-Term Pass Holder</td>\n",
       "      <td>NaN</td>\n",
       "      <td>NaN</td>\n",
       "      <td>4.621995</td>\n",
       "      <td>hello</td>\n",
       "      <td>Wow, long trip!</td>\n",
       "    </tr>\n",
       "    <tr>\n",
       "      <th>274266</th>\n",
       "      <td>294604</td>\n",
       "      <td>03/27/2017 11:56:00 AM</td>\n",
       "      <td>03/27/2017 03:29:00 PM</td>\n",
       "      <td>SEA00291</td>\n",
       "      <td>12758.624</td>\n",
       "      <td>6th Ave S &amp; S King St</td>\n",
       "      <td>NE 42nd St &amp; University Way NE</td>\n",
       "      <td>ID-04</td>\n",
       "      <td>UD-02</td>\n",
       "      <td>Short-Term Pass Holder</td>\n",
       "      <td>NaN</td>\n",
       "      <td>NaN</td>\n",
       "      <td>3.544062</td>\n",
       "      <td>hello</td>\n",
       "      <td>Wow, long trip!</td>\n",
       "    </tr>\n",
       "    <tr>\n",
       "      <th>275086</th>\n",
       "      <td>295463</td>\n",
       "      <td>03/31/2017 11:16:00 PM</td>\n",
       "      <td>04/01/2017 02:11:00 AM</td>\n",
       "      <td>SEA00347</td>\n",
       "      <td>10487.475</td>\n",
       "      <td>NE 42nd St &amp; University Way NE</td>\n",
       "      <td>E Harrison St &amp; Broadway Ave E</td>\n",
       "      <td>UD-02</td>\n",
       "      <td>CH-02</td>\n",
       "      <td>Short-Term Pass Holder</td>\n",
       "      <td>NaN</td>\n",
       "      <td>NaN</td>\n",
       "      <td>2.913188</td>\n",
       "      <td>hello</td>\n",
       "      <td>Wow, long trip!</td>\n",
       "    </tr>\n",
       "    <tr>\n",
       "      <th>275087</th>\n",
       "      <td>295464</td>\n",
       "      <td>03/31/2017 11:16:00 PM</td>\n",
       "      <td>04/01/2017 02:11:00 AM</td>\n",
       "      <td>SEA00031</td>\n",
       "      <td>10487.366</td>\n",
       "      <td>NE 42nd St &amp; University Way NE</td>\n",
       "      <td>E Harrison St &amp; Broadway Ave E</td>\n",
       "      <td>UD-02</td>\n",
       "      <td>CH-02</td>\n",
       "      <td>Member</td>\n",
       "      <td>Female</td>\n",
       "      <td>1982.0</td>\n",
       "      <td>2.913157</td>\n",
       "      <td>hello</td>\n",
       "      <td>Wow, long trip!</td>\n",
       "    </tr>\n",
       "  </tbody>\n",
       "</table>\n",
       "<p>3243 rows × 15 columns</p>\n",
       "</div>"
      ],
      "text/plain": [
       "        trip_id               starttime                stoptime    bikeid  \\\n",
       "68          506  10/13/2014 12:08:00 PM  10/13/2014 07:07:00 PM  SEA00155   \n",
       "193         649  10/13/2014 02:54:00 PM  10/13/2014 05:59:00 PM  SEA00193   \n",
       "408         908  10/13/2014 11:12:00 PM  10/14/2014 06:52:00 AM  SEA00230   \n",
       "475         983  10/14/2014 09:12:00 AM  10/14/2014 01:20:00 PM  SEA00181   \n",
       "512        1025  10/14/2014 10:49:00 AM  10/14/2014 05:19:00 PM  SEA00244   \n",
       "...         ...                     ...                     ...       ...   \n",
       "274051   294382  03/25/2017 02:28:00 PM  03/25/2017 07:05:00 PM  SEA00494   \n",
       "274052   294383  03/25/2017 02:28:00 PM  03/25/2017 07:05:00 PM  SEA00182   \n",
       "274266   294604  03/27/2017 11:56:00 AM  03/27/2017 03:29:00 PM  SEA00291   \n",
       "275086   295463  03/31/2017 11:16:00 PM  04/01/2017 02:11:00 AM  SEA00347   \n",
       "275087   295464  03/31/2017 11:16:00 PM  04/01/2017 02:11:00 AM  SEA00031   \n",
       "\n",
       "        tripduration                       from_station_name  \\\n",
       "68         25119.114                     2nd Ave & Spring St   \n",
       "193        11144.159          NE 42nd St & University Way NE   \n",
       "408        27583.945                      7th Ave & Union St   \n",
       "475        14885.176         Pier 69 / Alaskan Way & Clay St   \n",
       "512        23346.911                    E Pine St & 16th Ave   \n",
       "...              ...                                     ...   \n",
       "274051     16634.168  Cal Anderson Park / 11th Ave & Pine St   \n",
       "274052     16639.182  Cal Anderson Park / 11th Ave & Pine St   \n",
       "274266     12758.624                   6th Ave S & S King St   \n",
       "275086     10487.475          NE 42nd St & University Way NE   \n",
       "275087     10487.366          NE 42nd St & University Way NE   \n",
       "\n",
       "                        to_station_name from_station_id to_station_id  \\\n",
       "68                    2nd Ave & Vine St          CBD-06         BT-03   \n",
       "193      NE 42nd St & University Way NE           UD-02         UD-02   \n",
       "408                   2nd Ave & Pine St          CBD-03        CBD-13   \n",
       "475     Pier 69 / Alaskan Way & Clay St           WF-01         WF-01   \n",
       "512       PATH / 9th Ave & Westlake Ave           CH-07        SLU-07   \n",
       "...                                 ...             ...           ...   \n",
       "274051  Pier 69 / Alaskan Way & Clay St           CH-08         WF-01   \n",
       "274052  Pier 69 / Alaskan Way & Clay St           CH-08         WF-01   \n",
       "274266   NE 42nd St & University Way NE           ID-04         UD-02   \n",
       "275086   E Harrison St & Broadway Ave E           UD-02         CH-02   \n",
       "275087   E Harrison St & Broadway Ave E           UD-02         CH-02   \n",
       "\n",
       "                      usertype  gender  birthyear  trip_duration_hours  \\\n",
       "68                      Member    Male     1988.0             6.977532   \n",
       "193     Short-Term Pass Holder     NaN        NaN             3.095600   \n",
       "408     Short-Term Pass Holder     NaN        NaN             7.662207   \n",
       "475     Short-Term Pass Holder     NaN        NaN             4.134771   \n",
       "512                     Member    Male     1986.0             6.485253   \n",
       "...                        ...     ...        ...                  ...   \n",
       "274051  Short-Term Pass Holder     NaN        NaN             4.620602   \n",
       "274052  Short-Term Pass Holder     NaN        NaN             4.621995   \n",
       "274266  Short-Term Pass Holder     NaN        NaN             3.544062   \n",
       "275086  Short-Term Pass Holder     NaN        NaN             2.913188   \n",
       "275087                  Member  Female     1982.0             2.913157   \n",
       "\n",
       "       average          comment  \n",
       "68       hello  Wow, long trip!  \n",
       "193      hello  Wow, long trip!  \n",
       "408      hello  Wow, long trip!  \n",
       "475      hello  Wow, long trip!  \n",
       "512      hello  Wow, long trip!  \n",
       "...        ...              ...  \n",
       "274051   hello  Wow, long trip!  \n",
       "274052   hello  Wow, long trip!  \n",
       "274266   hello  Wow, long trip!  \n",
       "275086   hello  Wow, long trip!  \n",
       "275087   hello  Wow, long trip!  \n",
       "\n",
       "[3243 rows x 15 columns]"
      ]
     },
     "execution_count": 55,
     "metadata": {},
     "output_type": "execute_result"
    }
   ],
   "source": [
    "df_long_trips"
   ]
  },
  {
   "cell_type": "code",
   "execution_count": 56,
   "metadata": {},
   "outputs": [
    {
     "data": {
      "text/plain": [
       "(3243, 15)"
      ]
     },
     "execution_count": 56,
     "metadata": {},
     "output_type": "execute_result"
    }
   ],
   "source": [
    "df_long_trips.shape"
   ]
  },
  {
   "cell_type": "code",
   "execution_count": 57,
   "metadata": {},
   "outputs": [],
   "source": [
    "# Make a copy of a slice\n",
    "df_sel1 = df[['starttime', 'stoptime']].copy()\n",
    "df_sel1['trip_hours'] = df['tripduration']/3600"
   ]
  },
  {
   "cell_type": "markdown",
   "metadata": {},
   "source": [
    "Columns can be created (or overwritten) with the assignment operator.\n",
    "Let's create a *tripminutes* column with the number of minutes for each trip"
   ]
  },
  {
   "cell_type": "markdown",
   "metadata": {},
   "source": [
    "More complicated mathematical operations can be done with tools in the ``numpy`` package:"
   ]
  },
  {
   "cell_type": "markdown",
   "metadata": {},
   "source": [
    "### Working with Times"
   ]
  },
  {
   "cell_type": "markdown",
   "metadata": {},
   "source": [
    "One trick to know when working with columns of times is that Pandas ``DateTimeIndex`` provides a nice interface for working with columns of times.\n",
    "\n",
    "For a dataset of this size, using ``pd.to_datetime`` and specifying the date format can make things much faster (from the [strftime reference](http://strftime.org/), we see that the pronto data has format ``\"%m/%d/%Y %I:%M:%S %p\"``"
   ]
  },
  {
   "cell_type": "markdown",
   "metadata": {},
   "source": [
    "(Note: you can also use ``infer_datetime_format=True`` in most cases to automatically infer the correct format, though due to a bug it doesn't work when AM/PM are present)"
   ]
  },
  {
   "cell_type": "markdown",
   "metadata": {},
   "source": [
    "With it, we can extract, the hour of the day, the day of the week, the month, and a wide range of other views of the time:"
   ]
  },
  {
   "cell_type": "markdown",
   "metadata": {},
   "source": [
    "### Simple Grouping of Data\n",
    "\n",
    "The real power of Pandas comes in its tools for grouping and aggregating data. Here we'll look at *value counts* and the basics of *group-by* operations."
   ]
  },
  {
   "cell_type": "markdown",
   "metadata": {},
   "source": [
    "#### Value Counts"
   ]
  },
  {
   "cell_type": "markdown",
   "metadata": {},
   "source": [
    "Pandas includes an array of useful functionality for manipulating and analyzing tabular data.\n",
    "We'll take a look at two of these here."
   ]
  },
  {
   "cell_type": "markdown",
   "metadata": {},
   "source": [
    "The ``pandas.value_counts`` returns statistics on the unique values within each column.\n",
    "\n",
    "We can use it, for example, to break down rides by gender:"
   ]
  },
  {
   "cell_type": "code",
   "execution_count": null,
   "metadata": {},
   "outputs": [],
   "source": [
    "pd.value_counts(df[\"gender\"])"
   ]
  },
  {
   "cell_type": "markdown",
   "metadata": {},
   "source": [
    "Or to break down rides by age:"
   ]
  },
  {
   "cell_type": "code",
   "execution_count": null,
   "metadata": {},
   "outputs": [],
   "source": [
    "pd.value_counts(2019 - df[\"birthyear\"])"
   ]
  },
  {
   "cell_type": "markdown",
   "metadata": {},
   "source": [
    "By default, the values rather than the index are sorted. Use ``sort=False`` to turn this behavior off:"
   ]
  },
  {
   "cell_type": "code",
   "execution_count": null,
   "metadata": {},
   "outputs": [],
   "source": [
    "pd.value_counts(df[\"birthyear\"], sort=False)"
   ]
  },
  {
   "cell_type": "markdown",
   "metadata": {},
   "source": [
    "We can explore other things as well: day of week, hour of day, etc."
   ]
  },
  {
   "cell_type": "code",
   "execution_count": null,
   "metadata": {},
   "outputs": [],
   "source": [
    "#"
   ]
  },
  {
   "cell_type": "markdown",
   "metadata": {},
   "source": [
    "### Group-by Operation\n",
    "\n",
    "One of the killer features of the Pandas dataframe is the ability to do group-by operations.\n",
    "You can visualize the group-by like this (image borrowed from the [Python Data Science Handbook](http://shop.oreilly.com/product/0636920034919.do))"
   ]
  },
  {
   "cell_type": "code",
   "execution_count": null,
   "metadata": {},
   "outputs": [],
   "source": [
    "df.head()"
   ]
  },
  {
   "cell_type": "code",
   "execution_count": 34,
   "metadata": {},
   "outputs": [
    {
     "data": {
      "text/html": [
       "<div>\n",
       "<style scoped>\n",
       "    .dataframe tbody tr th:only-of-type {\n",
       "        vertical-align: middle;\n",
       "    }\n",
       "\n",
       "    .dataframe tbody tr th {\n",
       "        vertical-align: top;\n",
       "    }\n",
       "\n",
       "    .dataframe thead th {\n",
       "        text-align: right;\n",
       "    }\n",
       "</style>\n",
       "<table border=\"1\" class=\"dataframe\">\n",
       "  <thead>\n",
       "    <tr style=\"text-align: right;\">\n",
       "      <th></th>\n",
       "      <th>count</th>\n",
       "    </tr>\n",
       "    <tr>\n",
       "      <th>from_station_id</th>\n",
       "      <th></th>\n",
       "    </tr>\n",
       "  </thead>\n",
       "  <tbody>\n",
       "    <tr>\n",
       "      <th>BT-01</th>\n",
       "      <td>10463</td>\n",
       "    </tr>\n",
       "    <tr>\n",
       "      <th>BT-03</th>\n",
       "      <td>7334</td>\n",
       "    </tr>\n",
       "    <tr>\n",
       "      <th>BT-04</th>\n",
       "      <td>4666</td>\n",
       "    </tr>\n",
       "    <tr>\n",
       "      <th>BT-05</th>\n",
       "      <td>5699</td>\n",
       "    </tr>\n",
       "    <tr>\n",
       "      <th>BT-06</th>\n",
       "      <td>150</td>\n",
       "    </tr>\n",
       "  </tbody>\n",
       "</table>\n",
       "</div>"
      ],
      "text/plain": [
       "                 count\n",
       "from_station_id       \n",
       "BT-01            10463\n",
       "BT-03             7334\n",
       "BT-04             4666\n",
       "BT-05             5699\n",
       "BT-06              150"
      ]
     },
     "execution_count": 34,
     "metadata": {},
     "output_type": "execute_result"
    }
   ],
   "source": [
    "df_sub = df[['from_station_id', 'trip_id']]\n",
    "df_count = df_sub.groupby(['from_station_id']).count()\n",
    "df_count.columns = ['count']\n",
    "df_count.head()"
   ]
  },
  {
   "cell_type": "code",
   "execution_count": null,
   "metadata": {},
   "outputs": [],
   "source": [
    "df_mean = df.groupby(['from_station_id']).mean()\n",
    "df_mean.head()"
   ]
  },
  {
   "cell_type": "code",
   "execution_count": null,
   "metadata": {},
   "outputs": [],
   "source": [
    "dfgroup = df.groupby(['from_station_id'])\n",
    "dfgroup.groups"
   ]
  },
  {
   "cell_type": "markdown",
   "metadata": {},
   "source": [
    "The simplest version of a groupby looks like this, and you can use almost any aggregation function you wish (mean, median, sum, minimum, maximum, standard deviation, count, etc.)\n",
    "\n",
    "```\n",
    "<data object>.groupby(<grouping values>).<aggregate>()\n",
    "```\n",
    "\n",
    "for example, we can group by gender and find the average of all numerical columns:"
   ]
  },
  {
   "cell_type": "code",
   "execution_count": null,
   "metadata": {},
   "outputs": [],
   "source": [
    "df.groupby(gender).mean()"
   ]
  },
  {
   "cell_type": "markdown",
   "metadata": {},
   "source": [
    "It's also possible to index the grouped object like it is a dataframe:"
   ]
  },
  {
   "cell_type": "code",
   "execution_count": null,
   "metadata": {},
   "outputs": [],
   "source": []
  },
  {
   "cell_type": "markdown",
   "metadata": {},
   "source": [
    "You can even group by multiple values: for example we can look at the trip duration by time of day and by gender:"
   ]
  },
  {
   "cell_type": "code",
   "execution_count": null,
   "metadata": {},
   "outputs": [],
   "source": []
  },
  {
   "cell_type": "markdown",
   "metadata": {},
   "source": [
    "The ``unstack()`` operation can help make sense of this type of multiply-grouped data. What this technically does is split a multiple-valued index into an index plus columns:"
   ]
  },
  {
   "cell_type": "code",
   "execution_count": null,
   "metadata": {},
   "outputs": [],
   "source": []
  },
  {
   "cell_type": "markdown",
   "metadata": {},
   "source": [
    "### Visualizing data with ``pandas``\n",
    "\n",
    "Of course, looking at tables of data is not very intuitive.\n",
    "Fortunately Pandas has many useful plotting functions built-in, all of which make use of the ``matplotlib`` library to generate plots.\n",
    "\n",
    "Whenever you do plotting in the IPython notebook, you will want to first run this *magic command* which configures the notebook to work well with plots:"
   ]
  },
  {
   "cell_type": "code",
   "execution_count": null,
   "metadata": {},
   "outputs": [],
   "source": [
    "%matplotlib inline"
   ]
  },
  {
   "cell_type": "markdown",
   "metadata": {},
   "source": [
    "Now we can simply call the ``plot()`` method of any series or dataframe to get a reasonable view of the data:"
   ]
  },
  {
   "cell_type": "code",
   "execution_count": null,
   "metadata": {},
   "outputs": [],
   "source": [
    "import matplotlib.pyplot as plt\n",
    "df['tripduration'].hist()"
   ]
  },
  {
   "cell_type": "markdown",
   "metadata": {},
   "source": [
    "### Adjusting the Plot Style\n",
    "\n",
    "Matplotlib has a number of plot styles you can use. For example, if you like R you might use the ggplot style:"
   ]
  },
  {
   "cell_type": "code",
   "execution_count": null,
   "metadata": {},
   "outputs": [],
   "source": [
    "plt.style.use(\"ggplot\")"
   ]
  },
  {
   "cell_type": "markdown",
   "metadata": {},
   "source": [
    "### Other plot types\n",
    "\n",
    "Pandas supports a range of other plotting types; you can find these by using the <TAB> autocomplete on the ``plot`` method:"
   ]
  },
  {
   "cell_type": "code",
   "execution_count": null,
   "metadata": {},
   "outputs": [],
   "source": [
    "plt."
   ]
  },
  {
   "cell_type": "markdown",
   "metadata": {},
   "source": [
    "For example, we can create a histogram of trip durations:"
   ]
  },
  {
   "cell_type": "code",
   "execution_count": null,
   "metadata": {},
   "outputs": [],
   "source": []
  },
  {
   "cell_type": "markdown",
   "metadata": {},
   "source": [
    "If you'd like to adjust the x and y limits of the plot, you can use the ``set_xlim()`` and ``set_ylim()`` method of the resulting object:"
   ]
  },
  {
   "cell_type": "code",
   "execution_count": null,
   "metadata": {},
   "outputs": [],
   "source": []
  },
  {
   "cell_type": "markdown",
   "metadata": {},
   "source": [
    "## Breakout: Exploring the Data\n",
    "\n",
    "Make a plot of the total number of rides as a function of month of the year (You'll need to extract the month, use a ``groupby``, and find the appropriate aggregation to count the number in each group)."
   ]
  },
  {
   "cell_type": "code",
   "execution_count": null,
   "metadata": {},
   "outputs": [],
   "source": []
  },
  {
   "cell_type": "markdown",
   "metadata": {},
   "source": [
    "Split this plot by gender. Do you see any seasonal ridership patterns by gender?"
   ]
  },
  {
   "cell_type": "code",
   "execution_count": null,
   "metadata": {},
   "outputs": [],
   "source": []
  },
  {
   "cell_type": "markdown",
   "metadata": {},
   "source": [
    "Split this plot by user type. Do you see any seasonal ridership patterns by usertype?"
   ]
  },
  {
   "cell_type": "code",
   "execution_count": null,
   "metadata": {},
   "outputs": [],
   "source": []
  },
  {
   "cell_type": "markdown",
   "metadata": {},
   "source": [
    "Repeat the above three steps, counting the number of rides by time of day rather that by month."
   ]
  },
  {
   "cell_type": "code",
   "execution_count": null,
   "metadata": {},
   "outputs": [],
   "source": []
  },
  {
   "cell_type": "markdown",
   "metadata": {},
   "source": [
    "Are there any other interesting insights you can discover in the data using these tools?"
   ]
  },
  {
   "cell_type": "code",
   "execution_count": null,
   "metadata": {},
   "outputs": [],
   "source": []
  },
  {
   "cell_type": "markdown",
   "metadata": {},
   "source": [
    "### Using Files\n",
    "- Writing and running python modules\n",
    "- Using python modules in your Jupyter Notebook"
   ]
  },
  {
   "cell_type": "code",
   "execution_count": null,
   "metadata": {},
   "outputs": [],
   "source": [
    "# A script for creating a dataframe with counts of the occurrence of a columns' values\n",
    "df_count = df.groupby('from_station_id').count()\n",
    "df_count1 = df_count[['trip_id']]\n",
    "df_count2 = df_count1.rename(columns={'trip_id': 'count'})"
   ]
  },
  {
   "cell_type": "code",
   "execution_count": null,
   "metadata": {},
   "outputs": [],
   "source": [
    "df_count2.head()"
   ]
  },
  {
   "cell_type": "code",
   "execution_count": null,
   "metadata": {},
   "outputs": [],
   "source": [
    "def make_table_count(df_arg, groupby_column):\n",
    "    df_count = df_arg.groupby(groupby_column).count()\n",
    "    column_name = df.columns[0]\n",
    "    df_count1 = df_count[[column_name]]\n",
    "    df_count2 = df_count1.rename(columns={column_name: 'count'})\n",
    "    return df_count2"
   ]
  },
  {
   "cell_type": "code",
   "execution_count": null,
   "metadata": {},
   "outputs": [],
   "source": [
    "dff = make_table_count(df, 'from_station_id')\n",
    "dff.head()"
   ]
  },
  {
   "cell_type": "code",
   "execution_count": null,
   "metadata": {},
   "outputs": [],
   "source": []
  }
 ],
 "metadata": {
  "anaconda-cloud": {},
  "kernelspec": {
   "display_name": "Python 3 (ipykernel)",
   "language": "python",
   "name": "python3"
  },
  "language_info": {
   "codemirror_mode": {
    "name": "ipython",
    "version": 3
   },
   "file_extension": ".py",
   "mimetype": "text/x-python",
   "name": "python",
   "nbconvert_exporter": "python",
   "pygments_lexer": "ipython3",
   "version": "3.11.4"
  }
 },
 "nbformat": 4,
 "nbformat_minor": 1
}
