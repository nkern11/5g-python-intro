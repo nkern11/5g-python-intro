{
 "cells": [
  {
   "cell_type": "code",
   "execution_count": 1,
   "id": "6a85b439",
   "metadata": {},
   "outputs": [],
   "source": [
    "filename = '../data/sample2condition.txt'\n",
    "import pandas as pd"
   ]
  },
  {
   "cell_type": "code",
   "execution_count": 2,
   "id": "d4f1464c",
   "metadata": {},
   "outputs": [
    {
     "name": "stdout",
     "output_type": "stream",
     "text": [
      "['5GB1_ferm_Ack_QC_tpm', 'lowO2_slow_growth']\n",
      "['5GB1_ferm_WT_QC_tpm', 'lowO2_slow_growth']\n",
      "['5GB1_FM03_TR1_QC_tpm', 'uMax']\n",
      "['5GB1_FM03_TR2_QC_tpm', 'uMax']\n",
      "['5GB1_FM11_TR1_QC_tpm', 'lowO2_fast_growth']\n",
      "['5GB1_FM11_TR2_QC_tpm', 'lowO2_fast_growth']\n",
      "['5GB1_FM12_TR1_tpm', 'lowCH4']\n",
      "['5GB1_FM12_TR1_QC_tpm', 'lowCH4']\n",
      "['5GB1_FM12_TR2_tpm', 'lowCH4']\n",
      "['5GB1_FM12_TR2_QC_tpm', 'lowCH4']\n",
      "['5GB1_FM14_TR1_tpm', 'lowCH4']\n",
      "['5GB1_FM14_TR1_QC_tpm', 'lowCH4']\n",
      "['5GB1_FM14_TR2_tpm', 'lowCH4']\n",
      "['5GB1_FM14_TR2_QC_tpm', 'lowCH4']\n",
      "['5GB1_FM18_TR1_QC_tpm', 'MeOH']\n",
      "['5GB1_FM18_TR2_tpm', 'MeOH']\n",
      "['5GB1_FM18_TR2_QC_tpm', 'MeOH']\n",
      "['5GB1_FM18_TR3_tpm', 'MeOH']\n",
      "['5GB1_FM18_TR3_QC_tpm', 'MeOH']\n",
      "['5GB1_FM19_TR1_tpm', 'lowO2_fast_growth']\n",
      "['5GB1_FM19_TR1_QC_tpm', 'lowO2_fast_growth']\n",
      "['5GB1_FM19_TR1_UW_tpm', 'lowO2_fast_growth']\n",
      "['5GB1_FM19_TR3_tpm', 'lowO2_fast_growth']\n",
      "['5GB1_FM19_TR3_QC_tpm', 'lowO2_fast_growth']\n",
      "['5GB1_FM20_TR1_QC_tpm', 'uMax']\n",
      "['5GB1_FM20_TR2_QC_tpm', 'uMax']\n",
      "['5GB1_FM20_TR3_tpm', 'uMax']\n",
      "['5GB1_FM20_TR3_QC_tpm', 'uMax']\n",
      "['5GB1_FM20_TR3_UW_tpm', 'uMax']\n",
      "['5GB1_FM21_TR1_tpm', 'uMax']\n",
      "['5GB1_FM21_TR1_QC_tpm', 'uMax']\n",
      "['5GB1_FM21_TR2_tpm', 'uMax']\n",
      "['5GB1_FM21_TR2_QC_tpm', 'uMax']\n",
      "['5GB1_FM21_TR2_UW_tpm', 'uMax']\n",
      "['5GB1_FM22_TR1_tpm', 'lowO2_fast_growth']\n",
      "['5GB1_FM22_TR1_QC_tpm', 'lowO2_fast_growth']\n",
      "['5GB1_FM22_TR3_tpm', 'lowO2_fast_growth']\n",
      "['5GB1_FM22_TR3_QC_tpm', 'lowO2_fast_growth']\n",
      "['5GB1_FM22_TR3_UW_tpm', 'lowO2_fast_growth']\n",
      "['5GB1_FM23_TR3_tpm', 'MeOH']\n",
      "['5GB1_FM23_TR3_QC_tpm', 'MeOH']\n",
      "['5GB1_FM34_T0_TR1_QC_tpm', 'NoCu']\n",
      "['5GB1_FM34_T3_TR3_QC_tpm', 'medCu']\n",
      "['5GB1_FM34_T4_TR3_QC_tpm', 'highCu']\n",
      "['5GB1_FM34_T5_TR2_QC_tpm', 'highCu']\n",
      "['5GB1_FM34_T6_TR3_QC_tpm', 'highCu']\n",
      "['5GB1_FM34_T7_TR3_QC_tpm', 'highCu']\n",
      "['5GB1_FM34_T8_TR1_QC_tpm', 'highCu']\n",
      "['5GB1_FM40_T0_TR1_QC_tpm', 'NoCu']\n",
      "['5GB1_FM40_T0m_TR2_tpm', 'NoCu']\n",
      "['5GB1_FM40_T10m_TR3_tpm', 'lowCu']\n",
      "['5GB1_FM40_T10m_TR3_QC_tpm', 'lowCu']\n",
      "['5GB1_FM40_T150m_TR1_QC_tpm', 'medCu']\n",
      "['5GB1_FM40_T150m_TR1_remake_tpm', 'medCu']\n",
      "['5GB1_FM40_T180m_TR1_tpm', 'medCu']\n",
      "['5GB1_FM40_T180m_TR1_QC_tpm', 'medCu']\n",
      "['5GB1_FM40_T20m_TR2_tpm', 'lowCu']\n",
      "['5GB1_FM40_T20m_TR2_QC_tpm', 'lowCu']\n",
      "['5GB1_FM40_T40m_TR1_tpm', 'lowCu']\n",
      "['5GB1_FM40_T40m_TR1_QC_tpm', 'lowCu']\n",
      "['5GB1_FM40_T60m_TR1_tpm', 'lowCu']\n",
      "['5GB1_FM40_T60m_TR1_QC_tpm', 'lowCu']\n",
      "['5GB1_FM40_T90m_TR2_tpm', 'medCu']\n",
      "['5GB1_FM40_T90m_TR2_QC_tpm', 'medCu']\n",
      "['5GB1_FM58_Td20h_TR1_QC_tpm', 'slow_growth']\n",
      "['5GB1_FM58_Td32h_TR3_QC_tpm', 'slow_growth']\n",
      "['5GB1_FM69_t2_TR1_tpm', 'lowO2_slow_growth']\n",
      "['5GB1_FM69_t3_TR1_tpm', 'highO2_slow_growth']\n",
      "['5GB1_FM69_t3_TR1_UW_tpm', 'highO2_slow_growth']\n",
      "['5GB1_FM69_t4_TR1_tpm', 'highO2_slow_growth']\n",
      "['5GB1_FM69_t4_TR1_UW_tpm', 'highO2_slow_growth']\n",
      "['5GB1_FM80_t2_TR1_tpm', 'NO3_lowO2_slow_growth']\n",
      "['5GB1_FM80_t4_TR1_tpm', 'NO3_lowO2_slow_growth']\n",
      "['5GB1_FM81_t1_TR3_tpm', 'NO3_lowO2_slow_growth']\n",
      "['5GB1_FM81_t2_TR3_tpm', 'NO3_lowO2_slow_growth']\n",
      "['5GB1_LTrecycle_TR1_tpm', 'LanzaTech']\n",
      "['5GB1_LTrecycle_TR1_QC_tpm', 'LanzaTech']\n",
      "['5GB1_vial_wLa_TR3_tpm', 'WithLanthanum']\n",
      "['5GB1_vial_woLa_TR2_tpm', 'NoLanthanum']\n",
      "['5GB1C_latelog_vial_TR2_QC_tpm', 'unknown']\n",
      "['br1_QC_tpm', 'unknown']\n",
      "['br2_QC_tpm', 'unknown']\n",
      "['ribo0_tpm', 'unknown']\n",
      "['total_tpm', 'unknown']\n",
      "['5GB1_FM_85_TR1_tpm', 'aa3_KO']\n",
      "['5GB1_FM_85_TR2_tpm', 'aa3_KO']\n",
      "['5GB1_FM_86_TR1_tpm', 'WT_control']\n",
      "['5GB1_FM_87_TR1_tpm', 'WT_control']\n",
      "['5GB1_pA9_red_tpm', 'crotonic_acid']\n",
      "['5GB1_pA9_yellow_tpm', 'crotonic_acid']\n",
      "['5GB1C-5G-La-BR1_tpm', 'WithLanthanum']\n",
      "['5GB1C-5G-La-BR2_tpm', 'WithLanthanum']\n",
      "['5GB1C-5G-N-BR1_tpm', 'NoLanthanum']\n",
      "['5GB1C-5G-N-BR2_tpm', 'NoLanthanum']\n",
      "['5GB1C-JG15-La-BR1_tpm', 'WithLanthanum']\n",
      "['5GB1C-JG15-La-BR2_tpm', 'WithLanthanum']\n",
      "['5GB1C-JG15-N-BR1_tpm', 'NoLanthanum']\n",
      "['5GB1C-JG15-N-BR2_tpm', 'NoLanthanum']\n"
     ]
    }
   ],
   "source": [
    "with open(filename,'r') as f:\n",
    "    data = f.readlines()\n",
    "    samples = []\n",
    "    for line in data:\n",
    "        line = line.strip().split()\n",
    "        #line = line.split() can combine these functions to one line\n",
    "        samples.append(line)\n",
    "        print(line)"
   ]
  },
  {
   "cell_type": "code",
   "execution_count": 3,
   "id": "6892ddb0",
   "metadata": {},
   "outputs": [
    {
     "data": {
      "text/plain": [
       "'NoLanthanum'"
      ]
     },
     "execution_count": 3,
     "metadata": {},
     "output_type": "execute_result"
    }
   ],
   "source": [
    "line\n",
    "samples[0]\n",
    "samples[3][1]\n",
    "samples[-2][1]"
   ]
  },
  {
   "cell_type": "code",
   "execution_count": 4,
   "id": "b36fe57a",
   "metadata": {},
   "outputs": [
    {
     "data": {
      "text/plain": [
       "98"
      ]
     },
     "execution_count": 4,
     "metadata": {},
     "output_type": "execute_result"
    }
   ],
   "source": [
    "len(data)"
   ]
  },
  {
   "cell_type": "code",
   "execution_count": 5,
   "id": "f141bf8a",
   "metadata": {},
   "outputs": [
    {
     "data": {
      "text/plain": [
       "list"
      ]
     },
     "execution_count": 5,
     "metadata": {},
     "output_type": "execute_result"
    }
   ],
   "source": [
    "type(samples)"
   ]
  },
  {
   "cell_type": "code",
   "execution_count": 6,
   "id": "93ca58ee",
   "metadata": {},
   "outputs": [
    {
     "data": {
      "text/plain": [
       "list"
      ]
     },
     "execution_count": 6,
     "metadata": {},
     "output_type": "execute_result"
    }
   ],
   "source": [
    "type(samples[0])"
   ]
  },
  {
   "cell_type": "code",
   "execution_count": 7,
   "id": "4563be94",
   "metadata": {},
   "outputs": [
    {
     "data": {
      "text/plain": [
       "str"
      ]
     },
     "execution_count": 7,
     "metadata": {},
     "output_type": "execute_result"
    }
   ],
   "source": [
    "type(samples[0][0])"
   ]
  },
  {
   "cell_type": "code",
   "execution_count": 8,
   "id": "75a9799d",
   "metadata": {},
   "outputs": [
    {
     "name": "stdout",
     "output_type": "stream",
     "text": [
      "[2, 3, 5, 6]\n"
     ]
    }
   ],
   "source": [
    "samplesdict = dict(samples)\n",
    "samples\n",
    "\n",
    "test = [(1, [2,4,5,6]),\n",
    "         (2, [2,3,5,6])]\n",
    "testdict = dict(test)\n",
    "print(testdict[2])"
   ]
  },
  {
   "cell_type": "code",
   "execution_count": 9,
   "id": "fbcec98f",
   "metadata": {},
   "outputs": [
    {
     "data": {
      "text/plain": [
       "'lowCu'"
      ]
     },
     "execution_count": 9,
     "metadata": {},
     "output_type": "execute_result"
    }
   ],
   "source": [
    "samplesdict['5GB1_FM40_T40m_TR1_tpm']"
   ]
  },
  {
   "cell_type": "code",
   "execution_count": 10,
   "id": "54ed6f5d",
   "metadata": {},
   "outputs": [],
   "source": [
    "myfav = '5GB1_FM40_T40m_TR1_tpm'"
   ]
  },
  {
   "cell_type": "code",
   "execution_count": 11,
   "id": "0b48ac76",
   "metadata": {},
   "outputs": [
    {
     "data": {
      "text/plain": [
       "'lowCu'"
      ]
     },
     "execution_count": 11,
     "metadata": {},
     "output_type": "execute_result"
    }
   ],
   "source": [
    "samplesdict[myfav]"
   ]
  },
  {
   "cell_type": "code",
   "execution_count": 12,
   "id": "2dfd7edc",
   "metadata": {},
   "outputs": [
    {
     "data": {
      "text/html": [
       "<div>\n",
       "<style scoped>\n",
       "    .dataframe tbody tr th:only-of-type {\n",
       "        vertical-align: middle;\n",
       "    }\n",
       "\n",
       "    .dataframe tbody tr th {\n",
       "        vertical-align: top;\n",
       "    }\n",
       "\n",
       "    .dataframe thead th {\n",
       "        text-align: right;\n",
       "    }\n",
       "</style>\n",
       "<table border=\"1\" class=\"dataframe\">\n",
       "  <thead>\n",
       "    <tr style=\"text-align: right;\">\n",
       "      <th></th>\n",
       "      <th>Sample</th>\n",
       "      <th>Condition</th>\n",
       "    </tr>\n",
       "  </thead>\n",
       "  <tbody>\n",
       "    <tr>\n",
       "      <th>0</th>\n",
       "      <td>5GB1_ferm_Ack_QC_tpm</td>\n",
       "      <td>lowO2_slow_growth</td>\n",
       "    </tr>\n",
       "    <tr>\n",
       "      <th>1</th>\n",
       "      <td>5GB1_ferm_WT_QC_tpm</td>\n",
       "      <td>lowO2_slow_growth</td>\n",
       "    </tr>\n",
       "    <tr>\n",
       "      <th>2</th>\n",
       "      <td>5GB1_FM03_TR1_QC_tpm</td>\n",
       "      <td>uMax</td>\n",
       "    </tr>\n",
       "    <tr>\n",
       "      <th>3</th>\n",
       "      <td>5GB1_FM03_TR2_QC_tpm</td>\n",
       "      <td>uMax</td>\n",
       "    </tr>\n",
       "    <tr>\n",
       "      <th>4</th>\n",
       "      <td>5GB1_FM11_TR1_QC_tpm</td>\n",
       "      <td>lowO2_fast_growth</td>\n",
       "    </tr>\n",
       "    <tr>\n",
       "      <th>...</th>\n",
       "      <td>...</td>\n",
       "      <td>...</td>\n",
       "    </tr>\n",
       "    <tr>\n",
       "      <th>93</th>\n",
       "      <td>5GB1C-5G-N-BR2_tpm</td>\n",
       "      <td>NoLanthanum</td>\n",
       "    </tr>\n",
       "    <tr>\n",
       "      <th>94</th>\n",
       "      <td>5GB1C-JG15-La-BR1_tpm</td>\n",
       "      <td>WithLanthanum</td>\n",
       "    </tr>\n",
       "    <tr>\n",
       "      <th>95</th>\n",
       "      <td>5GB1C-JG15-La-BR2_tpm</td>\n",
       "      <td>WithLanthanum</td>\n",
       "    </tr>\n",
       "    <tr>\n",
       "      <th>96</th>\n",
       "      <td>5GB1C-JG15-N-BR1_tpm</td>\n",
       "      <td>NoLanthanum</td>\n",
       "    </tr>\n",
       "    <tr>\n",
       "      <th>97</th>\n",
       "      <td>5GB1C-JG15-N-BR2_tpm</td>\n",
       "      <td>NoLanthanum</td>\n",
       "    </tr>\n",
       "  </tbody>\n",
       "</table>\n",
       "<p>98 rows × 2 columns</p>\n",
       "</div>"
      ],
      "text/plain": [
       "                   Sample          Condition\n",
       "0    5GB1_ferm_Ack_QC_tpm  lowO2_slow_growth\n",
       "1     5GB1_ferm_WT_QC_tpm  lowO2_slow_growth\n",
       "2    5GB1_FM03_TR1_QC_tpm               uMax\n",
       "3    5GB1_FM03_TR2_QC_tpm               uMax\n",
       "4    5GB1_FM11_TR1_QC_tpm  lowO2_fast_growth\n",
       "..                    ...                ...\n",
       "93     5GB1C-5G-N-BR2_tpm        NoLanthanum\n",
       "94  5GB1C-JG15-La-BR1_tpm      WithLanthanum\n",
       "95  5GB1C-JG15-La-BR2_tpm      WithLanthanum\n",
       "96   5GB1C-JG15-N-BR1_tpm        NoLanthanum\n",
       "97   5GB1C-JG15-N-BR2_tpm        NoLanthanum\n",
       "\n",
       "[98 rows x 2 columns]"
      ]
     },
     "execution_count": 12,
     "metadata": {},
     "output_type": "execute_result"
    }
   ],
   "source": [
    "# Applying pandas\n",
    "df = pd.DataFrame(samples, columns=['Sample','Condition'])\n",
    "df"
   ]
  },
  {
   "cell_type": "code",
   "execution_count": 61,
   "id": "271a106f",
   "metadata": {},
   "outputs": [
    {
     "data": {
      "text/html": [
       "<div>\n",
       "<style scoped>\n",
       "    .dataframe tbody tr th:only-of-type {\n",
       "        vertical-align: middle;\n",
       "    }\n",
       "\n",
       "    .dataframe tbody tr th {\n",
       "        vertical-align: top;\n",
       "    }\n",
       "\n",
       "    .dataframe thead th {\n",
       "        text-align: right;\n",
       "    }\n",
       "</style>\n",
       "<table border=\"1\" class=\"dataframe\">\n",
       "  <thead>\n",
       "    <tr style=\"text-align: right;\">\n",
       "      <th></th>\n",
       "      <th>Condition</th>\n",
       "      <th>Count</th>\n",
       "    </tr>\n",
       "  </thead>\n",
       "  <tbody>\n",
       "    <tr>\n",
       "      <th>0</th>\n",
       "      <td>uMax</td>\n",
       "      <td>12</td>\n",
       "    </tr>\n",
       "    <tr>\n",
       "      <th>1</th>\n",
       "      <td>lowO2_fast_growth</td>\n",
       "      <td>12</td>\n",
       "    </tr>\n",
       "    <tr>\n",
       "      <th>2</th>\n",
       "      <td>lowCH4</td>\n",
       "      <td>8</td>\n",
       "    </tr>\n",
       "    <tr>\n",
       "      <th>3</th>\n",
       "      <td>lowCu</td>\n",
       "      <td>8</td>\n",
       "    </tr>\n",
       "    <tr>\n",
       "      <th>4</th>\n",
       "      <td>medCu</td>\n",
       "      <td>7</td>\n",
       "    </tr>\n",
       "    <tr>\n",
       "      <th>5</th>\n",
       "      <td>MeOH</td>\n",
       "      <td>7</td>\n",
       "    </tr>\n",
       "    <tr>\n",
       "      <th>6</th>\n",
       "      <td>highCu</td>\n",
       "      <td>5</td>\n",
       "    </tr>\n",
       "    <tr>\n",
       "      <th>7</th>\n",
       "      <td>WithLanthanum</td>\n",
       "      <td>5</td>\n",
       "    </tr>\n",
       "    <tr>\n",
       "      <th>8</th>\n",
       "      <td>unknown</td>\n",
       "      <td>5</td>\n",
       "    </tr>\n",
       "    <tr>\n",
       "      <th>9</th>\n",
       "      <td>NoLanthanum</td>\n",
       "      <td>5</td>\n",
       "    </tr>\n",
       "    <tr>\n",
       "      <th>10</th>\n",
       "      <td>highO2_slow_growth</td>\n",
       "      <td>4</td>\n",
       "    </tr>\n",
       "    <tr>\n",
       "      <th>11</th>\n",
       "      <td>NO3_lowO2_slow_growth</td>\n",
       "      <td>4</td>\n",
       "    </tr>\n",
       "    <tr>\n",
       "      <th>12</th>\n",
       "      <td>lowO2_slow_growth</td>\n",
       "      <td>3</td>\n",
       "    </tr>\n",
       "    <tr>\n",
       "      <th>13</th>\n",
       "      <td>NoCu</td>\n",
       "      <td>3</td>\n",
       "    </tr>\n",
       "    <tr>\n",
       "      <th>14</th>\n",
       "      <td>slow_growth</td>\n",
       "      <td>2</td>\n",
       "    </tr>\n",
       "    <tr>\n",
       "      <th>15</th>\n",
       "      <td>LanzaTech</td>\n",
       "      <td>2</td>\n",
       "    </tr>\n",
       "    <tr>\n",
       "      <th>16</th>\n",
       "      <td>aa3_KO</td>\n",
       "      <td>2</td>\n",
       "    </tr>\n",
       "    <tr>\n",
       "      <th>17</th>\n",
       "      <td>WT_control</td>\n",
       "      <td>2</td>\n",
       "    </tr>\n",
       "    <tr>\n",
       "      <th>18</th>\n",
       "      <td>crotonic_acid</td>\n",
       "      <td>2</td>\n",
       "    </tr>\n",
       "  </tbody>\n",
       "</table>\n",
       "</div>"
      ],
      "text/plain": [
       "                Condition  Count\n",
       "0                    uMax     12\n",
       "1       lowO2_fast_growth     12\n",
       "2                  lowCH4      8\n",
       "3                   lowCu      8\n",
       "4                   medCu      7\n",
       "5                    MeOH      7\n",
       "6                  highCu      5\n",
       "7           WithLanthanum      5\n",
       "8                 unknown      5\n",
       "9             NoLanthanum      5\n",
       "10     highO2_slow_growth      4\n",
       "11  NO3_lowO2_slow_growth      4\n",
       "12      lowO2_slow_growth      3\n",
       "13                   NoCu      3\n",
       "14            slow_growth      2\n",
       "15              LanzaTech      2\n",
       "16                 aa3_KO      2\n",
       "17             WT_control      2\n",
       "18          crotonic_acid      2"
      ]
     },
     "execution_count": 61,
     "metadata": {},
     "output_type": "execute_result"
    }
   ],
   "source": [
    "counts = df['Condition'].value_counts().reset_index().rename(columns={'Condition':'Count', 'index':'Condition'})\n",
    "counts"
   ]
  },
  {
   "cell_type": "code",
   "execution_count": 62,
   "id": "31dced64",
   "metadata": {},
   "outputs": [
    {
     "data": {
      "image/png": "[encoded data removed]",
      "text/plain": [
       "<Figure size 432x288 with 1 Axes>"
      ]
     },
     "metadata": {
      "needs_background": "light"
     },
     "output_type": "display_data"
    }
   ],
   "source": [
    "import seaborn as sns\n",
    "sns.barplot(data=counts,x='Condition', y='Count')\n",
    "import matplotlib.pyplot as plt\n",
    "plt.xticks(rotation=90)\n",
    "plt.show()"
   ]
  },
  {
   "cell_type": "code",
   "execution_count": 35,
   "id": "edc18cc3",
   "metadata": {},
   "outputs": [
    {
     "data": {
      "text/html": [
       "<div>\n",
       "<style scoped>\n",
       "    .dataframe tbody tr th:only-of-type {\n",
       "        vertical-align: middle;\n",
       "    }\n",
       "\n",
       "    .dataframe tbody tr th {\n",
       "        vertical-align: top;\n",
       "    }\n",
       "\n",
       "    .dataframe thead th {\n",
       "        text-align: right;\n",
       "    }\n",
       "</style>\n",
       "<table border=\"1\" class=\"dataframe\">\n",
       "  <thead>\n",
       "    <tr style=\"text-align: right;\">\n",
       "      <th></th>\n",
       "      <th>Condition</th>\n",
       "      <th>Count</th>\n",
       "    </tr>\n",
       "  </thead>\n",
       "  <tbody>\n",
       "    <tr>\n",
       "      <th>0</th>\n",
       "      <td>uMax</td>\n",
       "      <td>12</td>\n",
       "    </tr>\n",
       "    <tr>\n",
       "      <th>1</th>\n",
       "      <td>lowO2_fast_growth</td>\n",
       "      <td>12</td>\n",
       "    </tr>\n",
       "    <tr>\n",
       "      <th>2</th>\n",
       "      <td>lowCH4</td>\n",
       "      <td>8</td>\n",
       "    </tr>\n",
       "    <tr>\n",
       "      <th>3</th>\n",
       "      <td>lowCu</td>\n",
       "      <td>8</td>\n",
       "    </tr>\n",
       "    <tr>\n",
       "      <th>4</th>\n",
       "      <td>medCu</td>\n",
       "      <td>7</td>\n",
       "    </tr>\n",
       "    <tr>\n",
       "      <th>5</th>\n",
       "      <td>MeOH</td>\n",
       "      <td>7</td>\n",
       "    </tr>\n",
       "    <tr>\n",
       "      <th>6</th>\n",
       "      <td>highCu</td>\n",
       "      <td>5</td>\n",
       "    </tr>\n",
       "    <tr>\n",
       "      <th>7</th>\n",
       "      <td>WithLanthanum</td>\n",
       "      <td>5</td>\n",
       "    </tr>\n",
       "    <tr>\n",
       "      <th>8</th>\n",
       "      <td>unknown</td>\n",
       "      <td>5</td>\n",
       "    </tr>\n",
       "    <tr>\n",
       "      <th>9</th>\n",
       "      <td>NoLanthanum</td>\n",
       "      <td>5</td>\n",
       "    </tr>\n",
       "    <tr>\n",
       "      <th>10</th>\n",
       "      <td>highO2_slow_growth</td>\n",
       "      <td>4</td>\n",
       "    </tr>\n",
       "    <tr>\n",
       "      <th>11</th>\n",
       "      <td>NO3_lowO2_slow_growth</td>\n",
       "      <td>4</td>\n",
       "    </tr>\n",
       "    <tr>\n",
       "      <th>12</th>\n",
       "      <td>lowO2_slow_growth</td>\n",
       "      <td>3</td>\n",
       "    </tr>\n",
       "    <tr>\n",
       "      <th>13</th>\n",
       "      <td>NoCu</td>\n",
       "      <td>3</td>\n",
       "    </tr>\n",
       "    <tr>\n",
       "      <th>14</th>\n",
       "      <td>slow_growth</td>\n",
       "      <td>2</td>\n",
       "    </tr>\n",
       "    <tr>\n",
       "      <th>15</th>\n",
       "      <td>LanzaTech</td>\n",
       "      <td>2</td>\n",
       "    </tr>\n",
       "    <tr>\n",
       "      <th>16</th>\n",
       "      <td>aa3_KO</td>\n",
       "      <td>2</td>\n",
       "    </tr>\n",
       "    <tr>\n",
       "      <th>17</th>\n",
       "      <td>WT_control</td>\n",
       "      <td>2</td>\n",
       "    </tr>\n",
       "    <tr>\n",
       "      <th>18</th>\n",
       "      <td>crotonic_acid</td>\n",
       "      <td>2</td>\n",
       "    </tr>\n",
       "  </tbody>\n",
       "</table>\n",
       "</div>"
      ],
      "text/plain": [
       "                Condition  Count\n",
       "0                    uMax     12\n",
       "1       lowO2_fast_growth     12\n",
       "2                  lowCH4      8\n",
       "3                   lowCu      8\n",
       "4                   medCu      7\n",
       "5                    MeOH      7\n",
       "6                  highCu      5\n",
       "7           WithLanthanum      5\n",
       "8                 unknown      5\n",
       "9             NoLanthanum      5\n",
       "10     highO2_slow_growth      4\n",
       "11  NO3_lowO2_slow_growth      4\n",
       "12      lowO2_slow_growth      3\n",
       "13                   NoCu      3\n",
       "14            slow_growth      2\n",
       "15              LanzaTech      2\n",
       "16                 aa3_KO      2\n",
       "17             WT_control      2\n",
       "18          crotonic_acid      2"
      ]
     },
     "execution_count": 35,
     "metadata": {},
     "output_type": "execute_result"
    }
   ],
   "source": [
    "counts"
   ]
  },
  {
   "cell_type": "code",
   "execution_count": 69,
   "id": "f76d76d7",
   "metadata": {},
   "outputs": [],
   "source": [
    "#d['lowCH4']\n",
    "counts.to_csv('conditioncounts.csv',sep='\\t')"
   ]
  },
  {
   "cell_type": "code",
   "execution_count": 43,
   "id": "c977ce37",
   "metadata": {},
   "outputs": [
    {
     "data": {
      "text/plain": [
       "{'Condition': {0: 'uMax',\n",
       "  1: 'lowO2_fast_growth',\n",
       "  2: 'lowCH4',\n",
       "  3: 'lowCu',\n",
       "  4: 'medCu',\n",
       "  5: 'MeOH',\n",
       "  6: 'highCu',\n",
       "  7: 'WithLanthanum',\n",
       "  8: 'unknown',\n",
       "  9: 'NoLanthanum',\n",
       "  10: 'highO2_slow_growth',\n",
       "  11: 'NO3_lowO2_slow_growth',\n",
       "  12: 'lowO2_slow_growth',\n",
       "  13: 'NoCu',\n",
       "  14: 'slow_growth',\n",
       "  15: 'LanzaTech',\n",
       "  16: 'aa3_KO',\n",
       "  17: 'WT_control',\n",
       "  18: 'crotonic_acid'},\n",
       " 'Count': {0: 12,\n",
       "  1: 12,\n",
       "  2: 8,\n",
       "  3: 8,\n",
       "  4: 7,\n",
       "  5: 7,\n",
       "  6: 5,\n",
       "  7: 5,\n",
       "  8: 5,\n",
       "  9: 5,\n",
       "  10: 4,\n",
       "  11: 4,\n",
       "  12: 3,\n",
       "  13: 3,\n",
       "  14: 2,\n",
       "  15: 2,\n",
       "  16: 2,\n",
       "  17: 2,\n",
       "  18: 2}}"
      ]
     },
     "execution_count": 43,
     "metadata": {},
     "output_type": "execute_result"
    }
   ],
   "source": [
    "d"
   ]
  },
  {
   "cell_type": "code",
   "execution_count": 77,
   "id": "963aaa22",
   "metadata": {},
   "outputs": [
    {
     "name": "stdout",
     "output_type": "stream",
     "text": [
      "98\n"
     ]
    },
    {
     "data": {
      "text/plain": [
       "2"
      ]
     },
     "execution_count": 77,
     "metadata": {},
     "output_type": "execute_result"
    }
   ],
   "source": [
    "samples\n",
    "type(samples)\n",
    "print(len(samples))\n",
    "len(samples[0])"
   ]
  },
  {
   "cell_type": "code",
   "execution_count": 122,
   "id": "60d55d19",
   "metadata": {},
   "outputs": [],
   "source": [
    "countlist = counts.to_numpy()\n",
    "countlist.shape\n",
    "outputs\n",
    "\n",
    "with open('handmade.csv','w') as f:\n",
    "        for newline in countlist:\n",
    "            newline = [str(x) for x in newline]\n",
    "            newline = ','.join(newline)\n",
    "            newline = newline+'\\n'\n",
    "            f.write(newline)\n",
    "            #print(newline)\n",
    "            #for i in range(len(countlist[0])):\n",
    "     #   print(newline[i])\n",
    "        \n",
    "       \n",
    "        \n",
    "   # newline = [newline[0],newline[1]]\n",
    "    #print(newline)\n",
    "    #outputs.append(newline)\n",
    "    \n",
    "#print(outputs)\n",
    "    \n",
    "    \n",
    "    \n",
    "    \n",
    "    "
   ]
  },
  {
   "cell_type": "code",
   "execution_count": null,
   "id": "aa817074",
   "metadata": {},
   "outputs": [],
   "source": []
  }
 ],
 "metadata": {
  "kernelspec": {
   "display_name": "Python 3 (ipykernel)",
   "language": "python",
   "name": "python3"
  },
  "language_info": {
   "codemirror_mode": {
    "name": "ipython",
    "version": 3
   },
   "file_extension": ".py",
   "mimetype": "text/x-python",
   "name": "python",
   "nbconvert_exporter": "python",
   "pygments_lexer": "ipython3",
   "version": "3.11.4"
  }
 },
 "nbformat": 4,
 "nbformat_minor": 5
}
